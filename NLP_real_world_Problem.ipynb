{
  "cells": [
    {
      "cell_type": "markdown",
      "metadata": {
        "id": "view-in-github",
        "colab_type": "text"
      },
      "source": [
        "<a href=\"https://colab.research.google.com/github/sriram403/MachineLearningBlogs/blob/main/NLP_real_world_Problem.ipynb\" target=\"_parent\"><img src=\"https://colab.research.google.com/assets/colab-badge.svg\" alt=\"Open In Colab\"/></a>"
      ]
    },
    {
      "cell_type": "markdown",
      "metadata": {
        "id": "FdxhrXuoE-zR"
      },
      "source": [
        "#NLP Emotions Detection model🐱‍👤"
      ]
    },
    {
      "cell_type": "markdown",
      "metadata": {
        "id": "721bWfT-FNAQ"
      },
      "source": [
        "##Loading the dataset from kaggle📝"
      ]
    },
    {
      "cell_type": "code",
      "execution_count": null,
      "metadata": {
        "colab": {
          "base_uri": "https://localhost:8080/",
          "height": 90
        },
        "id": "8xHwCOJi_nk8",
        "outputId": "82239a2a-ee13-4999-9157-f57b442fee95"
      },
      "outputs": [
        {
          "output_type": "display_data",
          "data": {
            "text/plain": [
              "<IPython.core.display.HTML object>"
            ],
            "text/html": [
              "\n",
              "     <input type=\"file\" id=\"files-7d1454ca-a5ee-448d-8a54-6f090e917450\" name=\"files[]\" multiple disabled\n",
              "        style=\"border:none\" />\n",
              "     <output id=\"result-7d1454ca-a5ee-448d-8a54-6f090e917450\">\n",
              "      Upload widget is only available when the cell has been executed in the\n",
              "      current browser session. Please rerun this cell to enable.\n",
              "      </output>\n",
              "      <script>// Copyright 2017 Google LLC\n",
              "//\n",
              "// Licensed under the Apache License, Version 2.0 (the \"License\");\n",
              "// you may not use this file except in compliance with the License.\n",
              "// You may obtain a copy of the License at\n",
              "//\n",
              "//      http://www.apache.org/licenses/LICENSE-2.0\n",
              "//\n",
              "// Unless required by applicable law or agreed to in writing, software\n",
              "// distributed under the License is distributed on an \"AS IS\" BASIS,\n",
              "// WITHOUT WARRANTIES OR CONDITIONS OF ANY KIND, either express or implied.\n",
              "// See the License for the specific language governing permissions and\n",
              "// limitations under the License.\n",
              "\n",
              "/**\n",
              " * @fileoverview Helpers for google.colab Python module.\n",
              " */\n",
              "(function(scope) {\n",
              "function span(text, styleAttributes = {}) {\n",
              "  const element = document.createElement('span');\n",
              "  element.textContent = text;\n",
              "  for (const key of Object.keys(styleAttributes)) {\n",
              "    element.style[key] = styleAttributes[key];\n",
              "  }\n",
              "  return element;\n",
              "}\n",
              "\n",
              "// Max number of bytes which will be uploaded at a time.\n",
              "const MAX_PAYLOAD_SIZE = 100 * 1024;\n",
              "\n",
              "function _uploadFiles(inputId, outputId) {\n",
              "  const steps = uploadFilesStep(inputId, outputId);\n",
              "  const outputElement = document.getElementById(outputId);\n",
              "  // Cache steps on the outputElement to make it available for the next call\n",
              "  // to uploadFilesContinue from Python.\n",
              "  outputElement.steps = steps;\n",
              "\n",
              "  return _uploadFilesContinue(outputId);\n",
              "}\n",
              "\n",
              "// This is roughly an async generator (not supported in the browser yet),\n",
              "// where there are multiple asynchronous steps and the Python side is going\n",
              "// to poll for completion of each step.\n",
              "// This uses a Promise to block the python side on completion of each step,\n",
              "// then passes the result of the previous step as the input to the next step.\n",
              "function _uploadFilesContinue(outputId) {\n",
              "  const outputElement = document.getElementById(outputId);\n",
              "  const steps = outputElement.steps;\n",
              "\n",
              "  const next = steps.next(outputElement.lastPromiseValue);\n",
              "  return Promise.resolve(next.value.promise).then((value) => {\n",
              "    // Cache the last promise value to make it available to the next\n",
              "    // step of the generator.\n",
              "    outputElement.lastPromiseValue = value;\n",
              "    return next.value.response;\n",
              "  });\n",
              "}\n",
              "\n",
              "/**\n",
              " * Generator function which is called between each async step of the upload\n",
              " * process.\n",
              " * @param {string} inputId Element ID of the input file picker element.\n",
              " * @param {string} outputId Element ID of the output display.\n",
              " * @return {!Iterable<!Object>} Iterable of next steps.\n",
              " */\n",
              "function* uploadFilesStep(inputId, outputId) {\n",
              "  const inputElement = document.getElementById(inputId);\n",
              "  inputElement.disabled = false;\n",
              "\n",
              "  const outputElement = document.getElementById(outputId);\n",
              "  outputElement.innerHTML = '';\n",
              "\n",
              "  const pickedPromise = new Promise((resolve) => {\n",
              "    inputElement.addEventListener('change', (e) => {\n",
              "      resolve(e.target.files);\n",
              "    });\n",
              "  });\n",
              "\n",
              "  const cancel = document.createElement('button');\n",
              "  inputElement.parentElement.appendChild(cancel);\n",
              "  cancel.textContent = 'Cancel upload';\n",
              "  const cancelPromise = new Promise((resolve) => {\n",
              "    cancel.onclick = () => {\n",
              "      resolve(null);\n",
              "    };\n",
              "  });\n",
              "\n",
              "  // Wait for the user to pick the files.\n",
              "  const files = yield {\n",
              "    promise: Promise.race([pickedPromise, cancelPromise]),\n",
              "    response: {\n",
              "      action: 'starting',\n",
              "    }\n",
              "  };\n",
              "\n",
              "  cancel.remove();\n",
              "\n",
              "  // Disable the input element since further picks are not allowed.\n",
              "  inputElement.disabled = true;\n",
              "\n",
              "  if (!files) {\n",
              "    return {\n",
              "      response: {\n",
              "        action: 'complete',\n",
              "      }\n",
              "    };\n",
              "  }\n",
              "\n",
              "  for (const file of files) {\n",
              "    const li = document.createElement('li');\n",
              "    li.append(span(file.name, {fontWeight: 'bold'}));\n",
              "    li.append(span(\n",
              "        `(${file.type || 'n/a'}) - ${file.size} bytes, ` +\n",
              "        `last modified: ${\n",
              "            file.lastModifiedDate ? file.lastModifiedDate.toLocaleDateString() :\n",
              "                                    'n/a'} - `));\n",
              "    const percent = span('0% done');\n",
              "    li.appendChild(percent);\n",
              "\n",
              "    outputElement.appendChild(li);\n",
              "\n",
              "    const fileDataPromise = new Promise((resolve) => {\n",
              "      const reader = new FileReader();\n",
              "      reader.onload = (e) => {\n",
              "        resolve(e.target.result);\n",
              "      };\n",
              "      reader.readAsArrayBuffer(file);\n",
              "    });\n",
              "    // Wait for the data to be ready.\n",
              "    let fileData = yield {\n",
              "      promise: fileDataPromise,\n",
              "      response: {\n",
              "        action: 'continue',\n",
              "      }\n",
              "    };\n",
              "\n",
              "    // Use a chunked sending to avoid message size limits. See b/62115660.\n",
              "    let position = 0;\n",
              "    do {\n",
              "      const length = Math.min(fileData.byteLength - position, MAX_PAYLOAD_SIZE);\n",
              "      const chunk = new Uint8Array(fileData, position, length);\n",
              "      position += length;\n",
              "\n",
              "      const base64 = btoa(String.fromCharCode.apply(null, chunk));\n",
              "      yield {\n",
              "        response: {\n",
              "          action: 'append',\n",
              "          file: file.name,\n",
              "          data: base64,\n",
              "        },\n",
              "      };\n",
              "\n",
              "      let percentDone = fileData.byteLength === 0 ?\n",
              "          100 :\n",
              "          Math.round((position / fileData.byteLength) * 100);\n",
              "      percent.textContent = `${percentDone}% done`;\n",
              "\n",
              "    } while (position < fileData.byteLength);\n",
              "  }\n",
              "\n",
              "  // All done.\n",
              "  yield {\n",
              "    response: {\n",
              "      action: 'complete',\n",
              "    }\n",
              "  };\n",
              "}\n",
              "\n",
              "scope.google = scope.google || {};\n",
              "scope.google.colab = scope.google.colab || {};\n",
              "scope.google.colab._files = {\n",
              "  _uploadFiles,\n",
              "  _uploadFilesContinue,\n",
              "};\n",
              "})(self);\n",
              "</script> "
            ]
          },
          "metadata": {}
        },
        {
          "output_type": "stream",
          "name": "stdout",
          "text": [
            "Saving kaggle.json to kaggle.json\n"
          ]
        },
        {
          "output_type": "execute_result",
          "data": {
            "text/plain": [
              "{'kaggle.json': b'{\"username\":\"adithiyacommon\",\"key\":\"d7fef4f0e86f383df9534e4b921bd5fb\"}'}"
            ]
          },
          "metadata": {},
          "execution_count": 2
        }
      ],
      "source": [
        "from google.colab import files \n",
        "files.upload()"
      ]
    },
    {
      "cell_type": "code",
      "execution_count": null,
      "metadata": {
        "id": "vld1n6Y6_qdI"
      },
      "outputs": [],
      "source": [
        "!mkdir ~/.kaggle\n",
        "!cp kaggle.json -d ~/.kaggle"
      ]
    },
    {
      "cell_type": "code",
      "execution_count": null,
      "metadata": {
        "colab": {
          "base_uri": "https://localhost:8080/"
        },
        "id": "VbpBNrL7_1Ud",
        "outputId": "f394d5e0-eb15-4c34-d63c-8a1a90b2547f"
      },
      "outputs": [
        {
          "output_type": "stream",
          "name": "stdout",
          "text": [
            "Warning: Your Kaggle API key is readable by other users on this system! To fix this, you can run 'chmod 600 /root/.kaggle/kaggle.json'\n",
            "Downloading emotions-dataset-for-nlp.zip to /content\n",
            "  0% 0.00/721k [00:00<?, ?B/s]\n",
            "100% 721k/721k [00:00<00:00, 111MB/s]\n"
          ]
        }
      ],
      "source": [
        "!kaggle datasets download -d praveengovi/emotions-dataset-for-nlp"
      ]
    },
    {
      "cell_type": "code",
      "execution_count": null,
      "metadata": {
        "id": "fYbRfKGF_39V"
      },
      "outputs": [],
      "source": [
        "import zipfile as zip\n",
        "f = zip.ZipFile(\"/content/emotions-dataset-for-nlp.zip\")\n",
        "f.extractall()\n",
        "f.close()"
      ]
    },
    {
      "cell_type": "markdown",
      "metadata": {
        "id": "EGWm7lRzFUT3"
      },
      "source": [
        "##Creating a right format of our data to the model 🐣"
      ]
    },
    {
      "cell_type": "code",
      "execution_count": null,
      "metadata": {
        "colab": {
          "base_uri": "https://localhost:8080/",
          "height": 424
        },
        "id": "mjIFifmnAHBd",
        "outputId": "3f608bdf-93ab-4723-c57b-03a040c53b18"
      },
      "outputs": [
        {
          "output_type": "execute_result",
          "data": {
            "text/plain": [
              "                                                    Text\n",
              "0                        i didnt feel humiliated;sadness\n",
              "1      i can go from feeling so hopeless to so damned...\n",
              "2      im grabbing a minute to post i feel greedy wro...\n",
              "3      i am ever feeling nostalgic about the fireplac...\n",
              "4                             i am feeling grouchy;anger\n",
              "...                                                  ...\n",
              "15995  i just had a very brief time in the beanbag an...\n",
              "15996  i am now turning and i feel pathetic that i am...\n",
              "15997                 i feel strong and good overall;joy\n",
              "15998  i feel like this was such a rude comment and i...\n",
              "15999  i know a lot but i feel so stupid because i ca...\n",
              "\n",
              "[16000 rows x 1 columns]"
            ],
            "text/html": [
              "\n",
              "  <div id=\"df-379a9c17-2b13-4bb9-ad0f-882c603327d8\">\n",
              "    <div class=\"colab-df-container\">\n",
              "      <div>\n",
              "<style scoped>\n",
              "    .dataframe tbody tr th:only-of-type {\n",
              "        vertical-align: middle;\n",
              "    }\n",
              "\n",
              "    .dataframe tbody tr th {\n",
              "        vertical-align: top;\n",
              "    }\n",
              "\n",
              "    .dataframe thead th {\n",
              "        text-align: right;\n",
              "    }\n",
              "</style>\n",
              "<table border=\"1\" class=\"dataframe\">\n",
              "  <thead>\n",
              "    <tr style=\"text-align: right;\">\n",
              "      <th></th>\n",
              "      <th>Text</th>\n",
              "    </tr>\n",
              "  </thead>\n",
              "  <tbody>\n",
              "    <tr>\n",
              "      <th>0</th>\n",
              "      <td>i didnt feel humiliated;sadness</td>\n",
              "    </tr>\n",
              "    <tr>\n",
              "      <th>1</th>\n",
              "      <td>i can go from feeling so hopeless to so damned...</td>\n",
              "    </tr>\n",
              "    <tr>\n",
              "      <th>2</th>\n",
              "      <td>im grabbing a minute to post i feel greedy wro...</td>\n",
              "    </tr>\n",
              "    <tr>\n",
              "      <th>3</th>\n",
              "      <td>i am ever feeling nostalgic about the fireplac...</td>\n",
              "    </tr>\n",
              "    <tr>\n",
              "      <th>4</th>\n",
              "      <td>i am feeling grouchy;anger</td>\n",
              "    </tr>\n",
              "    <tr>\n",
              "      <th>...</th>\n",
              "      <td>...</td>\n",
              "    </tr>\n",
              "    <tr>\n",
              "      <th>15995</th>\n",
              "      <td>i just had a very brief time in the beanbag an...</td>\n",
              "    </tr>\n",
              "    <tr>\n",
              "      <th>15996</th>\n",
              "      <td>i am now turning and i feel pathetic that i am...</td>\n",
              "    </tr>\n",
              "    <tr>\n",
              "      <th>15997</th>\n",
              "      <td>i feel strong and good overall;joy</td>\n",
              "    </tr>\n",
              "    <tr>\n",
              "      <th>15998</th>\n",
              "      <td>i feel like this was such a rude comment and i...</td>\n",
              "    </tr>\n",
              "    <tr>\n",
              "      <th>15999</th>\n",
              "      <td>i know a lot but i feel so stupid because i ca...</td>\n",
              "    </tr>\n",
              "  </tbody>\n",
              "</table>\n",
              "<p>16000 rows × 1 columns</p>\n",
              "</div>\n",
              "      <button class=\"colab-df-convert\" onclick=\"convertToInteractive('df-379a9c17-2b13-4bb9-ad0f-882c603327d8')\"\n",
              "              title=\"Convert this dataframe to an interactive table.\"\n",
              "              style=\"display:none;\">\n",
              "        \n",
              "  <svg xmlns=\"http://www.w3.org/2000/svg\" height=\"24px\"viewBox=\"0 0 24 24\"\n",
              "       width=\"24px\">\n",
              "    <path d=\"M0 0h24v24H0V0z\" fill=\"none\"/>\n",
              "    <path d=\"M18.56 5.44l.94 2.06.94-2.06 2.06-.94-2.06-.94-.94-2.06-.94 2.06-2.06.94zm-11 1L8.5 8.5l.94-2.06 2.06-.94-2.06-.94L8.5 2.5l-.94 2.06-2.06.94zm10 10l.94 2.06.94-2.06 2.06-.94-2.06-.94-.94-2.06-.94 2.06-2.06.94z\"/><path d=\"M17.41 7.96l-1.37-1.37c-.4-.4-.92-.59-1.43-.59-.52 0-1.04.2-1.43.59L10.3 9.45l-7.72 7.72c-.78.78-.78 2.05 0 2.83L4 21.41c.39.39.9.59 1.41.59.51 0 1.02-.2 1.41-.59l7.78-7.78 2.81-2.81c.8-.78.8-2.07 0-2.86zM5.41 20L4 18.59l7.72-7.72 1.47 1.35L5.41 20z\"/>\n",
              "  </svg>\n",
              "      </button>\n",
              "      \n",
              "  <style>\n",
              "    .colab-df-container {\n",
              "      display:flex;\n",
              "      flex-wrap:wrap;\n",
              "      gap: 12px;\n",
              "    }\n",
              "\n",
              "    .colab-df-convert {\n",
              "      background-color: #E8F0FE;\n",
              "      border: none;\n",
              "      border-radius: 50%;\n",
              "      cursor: pointer;\n",
              "      display: none;\n",
              "      fill: #1967D2;\n",
              "      height: 32px;\n",
              "      padding: 0 0 0 0;\n",
              "      width: 32px;\n",
              "    }\n",
              "\n",
              "    .colab-df-convert:hover {\n",
              "      background-color: #E2EBFA;\n",
              "      box-shadow: 0px 1px 2px rgba(60, 64, 67, 0.3), 0px 1px 3px 1px rgba(60, 64, 67, 0.15);\n",
              "      fill: #174EA6;\n",
              "    }\n",
              "\n",
              "    [theme=dark] .colab-df-convert {\n",
              "      background-color: #3B4455;\n",
              "      fill: #D2E3FC;\n",
              "    }\n",
              "\n",
              "    [theme=dark] .colab-df-convert:hover {\n",
              "      background-color: #434B5C;\n",
              "      box-shadow: 0px 1px 3px 1px rgba(0, 0, 0, 0.15);\n",
              "      filter: drop-shadow(0px 1px 2px rgba(0, 0, 0, 0.3));\n",
              "      fill: #FFFFFF;\n",
              "    }\n",
              "  </style>\n",
              "\n",
              "      <script>\n",
              "        const buttonEl =\n",
              "          document.querySelector('#df-379a9c17-2b13-4bb9-ad0f-882c603327d8 button.colab-df-convert');\n",
              "        buttonEl.style.display =\n",
              "          google.colab.kernel.accessAllowed ? 'block' : 'none';\n",
              "\n",
              "        async function convertToInteractive(key) {\n",
              "          const element = document.querySelector('#df-379a9c17-2b13-4bb9-ad0f-882c603327d8');\n",
              "          const dataTable =\n",
              "            await google.colab.kernel.invokeFunction('convertToInteractive',\n",
              "                                                     [key], {});\n",
              "          if (!dataTable) return;\n",
              "\n",
              "          const docLinkHtml = 'Like what you see? Visit the ' +\n",
              "            '<a target=\"_blank\" href=https://colab.research.google.com/notebooks/data_table.ipynb>data table notebook</a>'\n",
              "            + ' to learn more about interactive tables.';\n",
              "          element.innerHTML = '';\n",
              "          dataTable['output_type'] = 'display_data';\n",
              "          await google.colab.output.renderOutput(dataTable, element);\n",
              "          const docLink = document.createElement('div');\n",
              "          docLink.innerHTML = docLinkHtml;\n",
              "          element.appendChild(docLink);\n",
              "        }\n",
              "      </script>\n",
              "    </div>\n",
              "  </div>\n",
              "  "
            ]
          },
          "metadata": {},
          "execution_count": 6
        }
      ],
      "source": [
        "from tables import Column\n",
        "import pandas as pd\n",
        "train_data = pd.read_csv(\"/content/train.txt\",names=[\"Text\"])\n",
        "train_data"
      ]
    },
    {
      "cell_type": "code",
      "execution_count": null,
      "metadata": {
        "colab": {
          "base_uri": "https://localhost:8080/"
        },
        "id": "17ldjCCgARIW",
        "outputId": "dc746098-75b7-4038-8d77-2ee321194f11"
      },
      "outputs": [
        {
          "output_type": "execute_result",
          "data": {
            "text/plain": [
              "['i didnt feel humiliated', 'sadness']"
            ]
          },
          "metadata": {},
          "execution_count": 7
        }
      ],
      "source": [
        "train_data[\"Text\"][0].split(\";\")"
      ]
    },
    {
      "cell_type": "code",
      "execution_count": null,
      "metadata": {
        "id": "O5yD0CanBEv-"
      },
      "outputs": [],
      "source": [
        "feelings = []\n",
        "texts = [] \n",
        "for text in train_data[\"Text\"]:\n",
        "  feelings.append(text.split(\";\")[1])\n",
        "  texts.append(text.split(\";\")[0])"
      ]
    },
    {
      "cell_type": "code",
      "execution_count": null,
      "metadata": {
        "colab": {
          "base_uri": "https://localhost:8080/",
          "height": 206
        },
        "id": "UyvqS306DU49",
        "outputId": "33e8d9aa-c627-42a0-9571-7a0c605fc768"
      },
      "outputs": [
        {
          "output_type": "execute_result",
          "data": {
            "text/plain": [
              "                                                Text  Feeling\n",
              "0                            i didnt feel humiliated  sadness\n",
              "1  i can go from feeling so hopeless to so damned...  sadness\n",
              "2   im grabbing a minute to post i feel greedy wrong    anger\n",
              "3  i am ever feeling nostalgic about the fireplac...     love\n",
              "4                               i am feeling grouchy    anger"
            ],
            "text/html": [
              "\n",
              "  <div id=\"df-7bd5626a-e11d-47e6-bf01-19bdbd67d9d8\">\n",
              "    <div class=\"colab-df-container\">\n",
              "      <div>\n",
              "<style scoped>\n",
              "    .dataframe tbody tr th:only-of-type {\n",
              "        vertical-align: middle;\n",
              "    }\n",
              "\n",
              "    .dataframe tbody tr th {\n",
              "        vertical-align: top;\n",
              "    }\n",
              "\n",
              "    .dataframe thead th {\n",
              "        text-align: right;\n",
              "    }\n",
              "</style>\n",
              "<table border=\"1\" class=\"dataframe\">\n",
              "  <thead>\n",
              "    <tr style=\"text-align: right;\">\n",
              "      <th></th>\n",
              "      <th>Text</th>\n",
              "      <th>Feeling</th>\n",
              "    </tr>\n",
              "  </thead>\n",
              "  <tbody>\n",
              "    <tr>\n",
              "      <th>0</th>\n",
              "      <td>i didnt feel humiliated</td>\n",
              "      <td>sadness</td>\n",
              "    </tr>\n",
              "    <tr>\n",
              "      <th>1</th>\n",
              "      <td>i can go from feeling so hopeless to so damned...</td>\n",
              "      <td>sadness</td>\n",
              "    </tr>\n",
              "    <tr>\n",
              "      <th>2</th>\n",
              "      <td>im grabbing a minute to post i feel greedy wrong</td>\n",
              "      <td>anger</td>\n",
              "    </tr>\n",
              "    <tr>\n",
              "      <th>3</th>\n",
              "      <td>i am ever feeling nostalgic about the fireplac...</td>\n",
              "      <td>love</td>\n",
              "    </tr>\n",
              "    <tr>\n",
              "      <th>4</th>\n",
              "      <td>i am feeling grouchy</td>\n",
              "      <td>anger</td>\n",
              "    </tr>\n",
              "  </tbody>\n",
              "</table>\n",
              "</div>\n",
              "      <button class=\"colab-df-convert\" onclick=\"convertToInteractive('df-7bd5626a-e11d-47e6-bf01-19bdbd67d9d8')\"\n",
              "              title=\"Convert this dataframe to an interactive table.\"\n",
              "              style=\"display:none;\">\n",
              "        \n",
              "  <svg xmlns=\"http://www.w3.org/2000/svg\" height=\"24px\"viewBox=\"0 0 24 24\"\n",
              "       width=\"24px\">\n",
              "    <path d=\"M0 0h24v24H0V0z\" fill=\"none\"/>\n",
              "    <path d=\"M18.56 5.44l.94 2.06.94-2.06 2.06-.94-2.06-.94-.94-2.06-.94 2.06-2.06.94zm-11 1L8.5 8.5l.94-2.06 2.06-.94-2.06-.94L8.5 2.5l-.94 2.06-2.06.94zm10 10l.94 2.06.94-2.06 2.06-.94-2.06-.94-.94-2.06-.94 2.06-2.06.94z\"/><path d=\"M17.41 7.96l-1.37-1.37c-.4-.4-.92-.59-1.43-.59-.52 0-1.04.2-1.43.59L10.3 9.45l-7.72 7.72c-.78.78-.78 2.05 0 2.83L4 21.41c.39.39.9.59 1.41.59.51 0 1.02-.2 1.41-.59l7.78-7.78 2.81-2.81c.8-.78.8-2.07 0-2.86zM5.41 20L4 18.59l7.72-7.72 1.47 1.35L5.41 20z\"/>\n",
              "  </svg>\n",
              "      </button>\n",
              "      \n",
              "  <style>\n",
              "    .colab-df-container {\n",
              "      display:flex;\n",
              "      flex-wrap:wrap;\n",
              "      gap: 12px;\n",
              "    }\n",
              "\n",
              "    .colab-df-convert {\n",
              "      background-color: #E8F0FE;\n",
              "      border: none;\n",
              "      border-radius: 50%;\n",
              "      cursor: pointer;\n",
              "      display: none;\n",
              "      fill: #1967D2;\n",
              "      height: 32px;\n",
              "      padding: 0 0 0 0;\n",
              "      width: 32px;\n",
              "    }\n",
              "\n",
              "    .colab-df-convert:hover {\n",
              "      background-color: #E2EBFA;\n",
              "      box-shadow: 0px 1px 2px rgba(60, 64, 67, 0.3), 0px 1px 3px 1px rgba(60, 64, 67, 0.15);\n",
              "      fill: #174EA6;\n",
              "    }\n",
              "\n",
              "    [theme=dark] .colab-df-convert {\n",
              "      background-color: #3B4455;\n",
              "      fill: #D2E3FC;\n",
              "    }\n",
              "\n",
              "    [theme=dark] .colab-df-convert:hover {\n",
              "      background-color: #434B5C;\n",
              "      box-shadow: 0px 1px 3px 1px rgba(0, 0, 0, 0.15);\n",
              "      filter: drop-shadow(0px 1px 2px rgba(0, 0, 0, 0.3));\n",
              "      fill: #FFFFFF;\n",
              "    }\n",
              "  </style>\n",
              "\n",
              "      <script>\n",
              "        const buttonEl =\n",
              "          document.querySelector('#df-7bd5626a-e11d-47e6-bf01-19bdbd67d9d8 button.colab-df-convert');\n",
              "        buttonEl.style.display =\n",
              "          google.colab.kernel.accessAllowed ? 'block' : 'none';\n",
              "\n",
              "        async function convertToInteractive(key) {\n",
              "          const element = document.querySelector('#df-7bd5626a-e11d-47e6-bf01-19bdbd67d9d8');\n",
              "          const dataTable =\n",
              "            await google.colab.kernel.invokeFunction('convertToInteractive',\n",
              "                                                     [key], {});\n",
              "          if (!dataTable) return;\n",
              "\n",
              "          const docLinkHtml = 'Like what you see? Visit the ' +\n",
              "            '<a target=\"_blank\" href=https://colab.research.google.com/notebooks/data_table.ipynb>data table notebook</a>'\n",
              "            + ' to learn more about interactive tables.';\n",
              "          element.innerHTML = '';\n",
              "          dataTable['output_type'] = 'display_data';\n",
              "          await google.colab.output.renderOutput(dataTable, element);\n",
              "          const docLink = document.createElement('div');\n",
              "          docLink.innerHTML = docLinkHtml;\n",
              "          element.appendChild(docLink);\n",
              "        }\n",
              "      </script>\n",
              "    </div>\n",
              "  </div>\n",
              "  "
            ]
          },
          "metadata": {},
          "execution_count": 9
        }
      ],
      "source": [
        "train_data[\"Feeling\"] = feelings\n",
        "train_data[\"Text\"] = texts\n",
        "train_data.head()"
      ]
    },
    {
      "cell_type": "code",
      "execution_count": null,
      "metadata": {
        "colab": {
          "base_uri": "https://localhost:8080/"
        },
        "id": "aPyxpNpbDdNM",
        "outputId": "923594a7-773c-45e9-b249-92bbf97e7f1d"
      },
      "outputs": [
        {
          "output_type": "execute_result",
          "data": {
            "text/plain": [
              "joy         5362\n",
              "sadness     4666\n",
              "anger       2159\n",
              "fear        1937\n",
              "love        1304\n",
              "surprise     572\n",
              "Name: Feeling, dtype: int64"
            ]
          },
          "metadata": {},
          "execution_count": 10
        }
      ],
      "source": [
        "train_data[\"Feeling\"].value_counts()"
      ]
    },
    {
      "cell_type": "code",
      "execution_count": null,
      "metadata": {
        "id": "dhbYOtdpDJiZ"
      },
      "outputs": [],
      "source": [
        "from sklearn.preprocessing import LabelEncoder,OneHotEncoder"
      ]
    },
    {
      "cell_type": "code",
      "execution_count": null,
      "metadata": {
        "id": "x8ZMcHb0DNHT"
      },
      "outputs": [],
      "source": [
        "le = LabelEncoder()\n",
        "y = le.fit_transform(train_data[\"Feeling\"])"
      ]
    },
    {
      "cell_type": "code",
      "source": [
        "train_data[\"Y\"] = y"
      ],
      "metadata": {
        "id": "eGu6zYqk32FM"
      },
      "execution_count": null,
      "outputs": []
    },
    {
      "cell_type": "code",
      "execution_count": null,
      "metadata": {
        "colab": {
          "base_uri": "https://localhost:8080/",
          "height": 206
        },
        "id": "okLIvNgBDi2Q",
        "outputId": "4ee23b98-35d6-42de-d67e-d0564c3001c7"
      },
      "outputs": [
        {
          "output_type": "execute_result",
          "data": {
            "text/plain": [
              "                                                Text  Feeling  Y\n",
              "0                            i didnt feel humiliated  sadness  4\n",
              "1  i can go from feeling so hopeless to so damned...  sadness  4\n",
              "2   im grabbing a minute to post i feel greedy wrong    anger  0\n",
              "3  i am ever feeling nostalgic about the fireplac...     love  3\n",
              "4                               i am feeling grouchy    anger  0"
            ],
            "text/html": [
              "\n",
              "  <div id=\"df-13581731-cb0b-41b7-b364-69b315bdf46b\">\n",
              "    <div class=\"colab-df-container\">\n",
              "      <div>\n",
              "<style scoped>\n",
              "    .dataframe tbody tr th:only-of-type {\n",
              "        vertical-align: middle;\n",
              "    }\n",
              "\n",
              "    .dataframe tbody tr th {\n",
              "        vertical-align: top;\n",
              "    }\n",
              "\n",
              "    .dataframe thead th {\n",
              "        text-align: right;\n",
              "    }\n",
              "</style>\n",
              "<table border=\"1\" class=\"dataframe\">\n",
              "  <thead>\n",
              "    <tr style=\"text-align: right;\">\n",
              "      <th></th>\n",
              "      <th>Text</th>\n",
              "      <th>Feeling</th>\n",
              "      <th>Y</th>\n",
              "    </tr>\n",
              "  </thead>\n",
              "  <tbody>\n",
              "    <tr>\n",
              "      <th>0</th>\n",
              "      <td>i didnt feel humiliated</td>\n",
              "      <td>sadness</td>\n",
              "      <td>4</td>\n",
              "    </tr>\n",
              "    <tr>\n",
              "      <th>1</th>\n",
              "      <td>i can go from feeling so hopeless to so damned...</td>\n",
              "      <td>sadness</td>\n",
              "      <td>4</td>\n",
              "    </tr>\n",
              "    <tr>\n",
              "      <th>2</th>\n",
              "      <td>im grabbing a minute to post i feel greedy wrong</td>\n",
              "      <td>anger</td>\n",
              "      <td>0</td>\n",
              "    </tr>\n",
              "    <tr>\n",
              "      <th>3</th>\n",
              "      <td>i am ever feeling nostalgic about the fireplac...</td>\n",
              "      <td>love</td>\n",
              "      <td>3</td>\n",
              "    </tr>\n",
              "    <tr>\n",
              "      <th>4</th>\n",
              "      <td>i am feeling grouchy</td>\n",
              "      <td>anger</td>\n",
              "      <td>0</td>\n",
              "    </tr>\n",
              "  </tbody>\n",
              "</table>\n",
              "</div>\n",
              "      <button class=\"colab-df-convert\" onclick=\"convertToInteractive('df-13581731-cb0b-41b7-b364-69b315bdf46b')\"\n",
              "              title=\"Convert this dataframe to an interactive table.\"\n",
              "              style=\"display:none;\">\n",
              "        \n",
              "  <svg xmlns=\"http://www.w3.org/2000/svg\" height=\"24px\"viewBox=\"0 0 24 24\"\n",
              "       width=\"24px\">\n",
              "    <path d=\"M0 0h24v24H0V0z\" fill=\"none\"/>\n",
              "    <path d=\"M18.56 5.44l.94 2.06.94-2.06 2.06-.94-2.06-.94-.94-2.06-.94 2.06-2.06.94zm-11 1L8.5 8.5l.94-2.06 2.06-.94-2.06-.94L8.5 2.5l-.94 2.06-2.06.94zm10 10l.94 2.06.94-2.06 2.06-.94-2.06-.94-.94-2.06-.94 2.06-2.06.94z\"/><path d=\"M17.41 7.96l-1.37-1.37c-.4-.4-.92-.59-1.43-.59-.52 0-1.04.2-1.43.59L10.3 9.45l-7.72 7.72c-.78.78-.78 2.05 0 2.83L4 21.41c.39.39.9.59 1.41.59.51 0 1.02-.2 1.41-.59l7.78-7.78 2.81-2.81c.8-.78.8-2.07 0-2.86zM5.41 20L4 18.59l7.72-7.72 1.47 1.35L5.41 20z\"/>\n",
              "  </svg>\n",
              "      </button>\n",
              "      \n",
              "  <style>\n",
              "    .colab-df-container {\n",
              "      display:flex;\n",
              "      flex-wrap:wrap;\n",
              "      gap: 12px;\n",
              "    }\n",
              "\n",
              "    .colab-df-convert {\n",
              "      background-color: #E8F0FE;\n",
              "      border: none;\n",
              "      border-radius: 50%;\n",
              "      cursor: pointer;\n",
              "      display: none;\n",
              "      fill: #1967D2;\n",
              "      height: 32px;\n",
              "      padding: 0 0 0 0;\n",
              "      width: 32px;\n",
              "    }\n",
              "\n",
              "    .colab-df-convert:hover {\n",
              "      background-color: #E2EBFA;\n",
              "      box-shadow: 0px 1px 2px rgba(60, 64, 67, 0.3), 0px 1px 3px 1px rgba(60, 64, 67, 0.15);\n",
              "      fill: #174EA6;\n",
              "    }\n",
              "\n",
              "    [theme=dark] .colab-df-convert {\n",
              "      background-color: #3B4455;\n",
              "      fill: #D2E3FC;\n",
              "    }\n",
              "\n",
              "    [theme=dark] .colab-df-convert:hover {\n",
              "      background-color: #434B5C;\n",
              "      box-shadow: 0px 1px 3px 1px rgba(0, 0, 0, 0.15);\n",
              "      filter: drop-shadow(0px 1px 2px rgba(0, 0, 0, 0.3));\n",
              "      fill: #FFFFFF;\n",
              "    }\n",
              "  </style>\n",
              "\n",
              "      <script>\n",
              "        const buttonEl =\n",
              "          document.querySelector('#df-13581731-cb0b-41b7-b364-69b315bdf46b button.colab-df-convert');\n",
              "        buttonEl.style.display =\n",
              "          google.colab.kernel.accessAllowed ? 'block' : 'none';\n",
              "\n",
              "        async function convertToInteractive(key) {\n",
              "          const element = document.querySelector('#df-13581731-cb0b-41b7-b364-69b315bdf46b');\n",
              "          const dataTable =\n",
              "            await google.colab.kernel.invokeFunction('convertToInteractive',\n",
              "                                                     [key], {});\n",
              "          if (!dataTable) return;\n",
              "\n",
              "          const docLinkHtml = 'Like what you see? Visit the ' +\n",
              "            '<a target=\"_blank\" href=https://colab.research.google.com/notebooks/data_table.ipynb>data table notebook</a>'\n",
              "            + ' to learn more about interactive tables.';\n",
              "          element.innerHTML = '';\n",
              "          dataTable['output_type'] = 'display_data';\n",
              "          await google.colab.output.renderOutput(dataTable, element);\n",
              "          const docLink = document.createElement('div');\n",
              "          docLink.innerHTML = docLinkHtml;\n",
              "          element.appendChild(docLink);\n",
              "        }\n",
              "      </script>\n",
              "    </div>\n",
              "  </div>\n",
              "  "
            ]
          },
          "metadata": {},
          "execution_count": 14
        }
      ],
      "source": [
        "train_data.head()"
      ]
    },
    {
      "cell_type": "code",
      "execution_count": null,
      "metadata": {
        "colab": {
          "base_uri": "https://localhost:8080/"
        },
        "id": "142ThSfSDzQc",
        "outputId": "004987f5-339e-4a22-c4c6-802b8d1fa6e5"
      },
      "outputs": [
        {
          "output_type": "execute_result",
          "data": {
            "text/plain": [
              "['sadness', 'anger', 'love', 'surprise', 'fear', 'joy']"
            ]
          },
          "metadata": {},
          "execution_count": 15
        }
      ],
      "source": [
        "class_names = train_data[\"Feeling\"].unique().tolist()\n",
        "class_names"
      ]
    },
    {
      "cell_type": "markdown",
      "metadata": {
        "id": "VXO1oacyFqtg"
      },
      "source": [
        "##creating a train dev test split 🪓"
      ]
    },
    {
      "cell_type": "code",
      "execution_count": null,
      "metadata": {
        "colab": {
          "base_uri": "https://localhost:8080/"
        },
        "id": "RWY_uJP3EMxd",
        "outputId": "5189d260-4c3c-4f16-e23c-7a2bfeb6c189"
      },
      "outputs": [
        {
          "output_type": "execute_result",
          "data": {
            "text/plain": [
              "((11200,), (11200,), (4800,), (4800,))"
            ]
          },
          "metadata": {},
          "execution_count": 16
        }
      ],
      "source": [
        "from sklearn.model_selection import train_test_split\n",
        "\n",
        "train_x,valid_x,train_y,valid_y = train_test_split(train_data[\"Text\"],train_data[\"Y\"],test_size=0.3)\n",
        "train_x.shape,train_y.shape,valid_x.shape,valid_y.shape"
      ]
    },
    {
      "cell_type": "code",
      "execution_count": null,
      "metadata": {
        "id": "BKbA5gR6yGJX"
      },
      "outputs": [],
      "source": [
        "test_size = int(len(valid_x)*0.10)\n",
        "valid_x,valid_y = valid_x[test_size:],valid_y[test_size:]\n",
        "test_x,test_y = valid_x[:test_size],valid_y[:test_size]"
      ]
    },
    {
      "cell_type": "code",
      "execution_count": null,
      "metadata": {
        "colab": {
          "base_uri": "https://localhost:8080/"
        },
        "id": "UjhhERMNy65P",
        "outputId": "1d185f1f-1b35-4afe-b7c9-bd694ad9914a"
      },
      "outputs": [
        {
          "output_type": "execute_result",
          "data": {
            "text/plain": [
              "((4320,), (4320,), (480,), (480,), 480)"
            ]
          },
          "metadata": {},
          "execution_count": 19
        }
      ],
      "source": [
        "valid_x.shape,valid_y.shape,test_x.shape,test_y.shape,test_size"
      ]
    },
    {
      "cell_type": "code",
      "execution_count": null,
      "metadata": {
        "colab": {
          "base_uri": "https://localhost:8080/"
        },
        "id": "TENcOuHk1kM7",
        "outputId": "ac9e6b93-ada8-41aa-e397-127929c3fdff"
      },
      "outputs": [
        {
          "output_type": "execute_result",
          "data": {
            "text/plain": [
              "(11200,)"
            ]
          },
          "metadata": {},
          "execution_count": 20
        }
      ],
      "source": [
        "train_x.shape"
      ]
    },
    {
      "cell_type": "markdown",
      "metadata": {
        "id": "Xo_G3T-6FyOw"
      },
      "source": [
        "##Models 🤖"
      ]
    },
    {
      "cell_type": "markdown",
      "metadata": {
        "id": "GYL2XQDKF1Ao"
      },
      "source": [
        "###Base Model 🐓"
      ]
    },
    {
      "cell_type": "code",
      "execution_count": null,
      "metadata": {
        "colab": {
          "base_uri": "https://localhost:8080/"
        },
        "id": "C_bG_r0gzh4v",
        "outputId": "201b39f8-60da-40ae-a754-40a14558b134"
      },
      "outputs": [
        {
          "output_type": "execute_result",
          "data": {
            "text/plain": [
              "Pipeline(steps=[('vectorizer', TfidfVectorizer()), ('Model', MultinomialNB())])"
            ]
          },
          "metadata": {},
          "execution_count": 21
        }
      ],
      "source": [
        "from sklearn.feature_extraction.text import TfidfVectorizer\n",
        "from sklearn.naive_bayes import MultinomialNB\n",
        "from sklearn.pipeline import Pipeline\n",
        "\n",
        "base_model = Pipeline([(\"vectorizer\",TfidfVectorizer()),\n",
        "                      (\"Model\",MultinomialNB())])\n",
        "base_model.fit(train_x,train_y)"
      ]
    },
    {
      "cell_type": "code",
      "execution_count": null,
      "metadata": {
        "id": "tgony2VD_ahd"
      },
      "outputs": [],
      "source": [
        "base_pred = base_model.predict(valid_x)\n",
        "# base_pred"
      ]
    },
    {
      "cell_type": "code",
      "execution_count": null,
      "metadata": {
        "colab": {
          "base_uri": "https://localhost:8080/"
        },
        "id": "QckLUUE5CStq",
        "outputId": "6768d8b6-7c2c-4fc4-ea24-2ffe3c05134d"
      },
      "outputs": [
        {
          "output_type": "execute_result",
          "data": {
            "text/plain": [
              "0.6199074074074075"
            ]
          },
          "metadata": {},
          "execution_count": 23
        }
      ],
      "source": [
        "base_model.score(valid_x,valid_y)"
      ]
    },
    {
      "cell_type": "code",
      "execution_count": null,
      "metadata": {
        "id": "nJ-kXJqoAaT5"
      },
      "outputs": [],
      "source": [
        "from sklearn.metrics import precision_recall_fscore_support,accuracy_score\n",
        "import numpy as np\n",
        "def report(true,pred):\n",
        "  acc = accuracy_score(true,pred)*100\n",
        "  pre,re,f,_ = precision_recall_fscore_support(true,pred,average=\"weighted\")\n",
        "  di = {\"accuracy\":acc,\n",
        "        \"precision\":pre,\n",
        "        \"recall\":re,\n",
        "        \"f1_score\":f}\n",
        "  return di"
      ]
    },
    {
      "cell_type": "code",
      "execution_count": null,
      "metadata": {
        "colab": {
          "base_uri": "https://localhost:8080/"
        },
        "id": "uAFqnkZaBA7B",
        "outputId": "597b8592-137c-4f56-b72c-5249699887fc"
      },
      "outputs": [
        {
          "output_type": "stream",
          "name": "stderr",
          "text": [
            "/usr/local/lib/python3.7/dist-packages/sklearn/metrics/_classification.py:1318: UndefinedMetricWarning: Precision and F-score are ill-defined and being set to 0.0 in labels with no predicted samples. Use `zero_division` parameter to control this behavior.\n",
            "  _warn_prf(average, modifier, msg_start, len(result))\n"
          ]
        },
        {
          "output_type": "execute_result",
          "data": {
            "text/plain": [
              "{'accuracy': 61.99074074074075,\n",
              " 'precision': 0.701871789446937,\n",
              " 'recall': 0.6199074074074075,\n",
              " 'f1_score': 0.5197172506739666}"
            ]
          },
          "metadata": {},
          "execution_count": 25
        }
      ],
      "source": [
        "base_metrics = report(valid_y,base_pred)\n",
        "base_metrics"
      ]
    },
    {
      "cell_type": "markdown",
      "metadata": {
        "id": "moDPqTvZBO5R"
      },
      "source": [
        "###Neural Network Model 👀"
      ]
    },
    {
      "cell_type": "markdown",
      "metadata": {
        "id": "bCBYeOvEI_ZH"
      },
      "source": [
        "####Creating Tokenizer and Embedding 👨‍💻"
      ]
    },
    {
      "cell_type": "code",
      "execution_count": null,
      "metadata": {
        "colab": {
          "base_uri": "https://localhost:8080/"
        },
        "id": "bc0eI52kGQII",
        "outputId": "2bb7a12f-63cb-4cf4-bc00-2cf56a75573a"
      },
      "outputs": [
        {
          "output_type": "execute_result",
          "data": {
            "text/plain": [
              "19"
            ]
          },
          "metadata": {},
          "execution_count": 26
        }
      ],
      "source": [
        "Average_words = int(sum(len(i.split())for i in train_x)/len(train_x))\n",
        "Average_words"
      ]
    },
    {
      "cell_type": "code",
      "execution_count": null,
      "metadata": {
        "id": "uqbySo5fGDGQ"
      },
      "outputs": [],
      "source": [
        "import tensorflow as tf\n",
        "tokenizer = tf.keras.layers.TextVectorization(max_tokens = 1000,\n",
        "                                              output_sequence_length=Average_words)"
      ]
    },
    {
      "cell_type": "code",
      "execution_count": null,
      "metadata": {
        "id": "5LLfFtARHmop"
      },
      "outputs": [],
      "source": [
        "tokenizer.adapt(train_x)"
      ]
    },
    {
      "cell_type": "code",
      "execution_count": null,
      "metadata": {
        "colab": {
          "base_uri": "https://localhost:8080/"
        },
        "id": "3cZap854HpIP",
        "outputId": "1f88c992-ed10-4adb-9025-bf11e519963d"
      },
      "outputs": [
        {
          "output_type": "execute_result",
          "data": {
            "text/plain": [
              "<tf.Tensor: shape=(19,), dtype=int64, numpy=\n",
              "array([  1,  11, 255,   0,   0,   0,   0,   0,   0,   0,   0,   0,   0,\n",
              "         0,   0,   0,   0,   0,   0])>"
            ]
          },
          "metadata": {},
          "execution_count": 29
        }
      ],
      "source": [
        "word = \"hellow my friend\"\n",
        "tokenizer(word)"
      ]
    },
    {
      "cell_type": "code",
      "execution_count": null,
      "metadata": {
        "colab": {
          "base_uri": "https://localhost:8080/"
        },
        "id": "qg36KM_IH_L3",
        "outputId": "2cab0d21-1278-4643-e8f7-29625f130110"
      },
      "outputs": [
        {
          "output_type": "execute_result",
          "data": {
            "text/plain": [
              "(['', '[UNK]', 'i', 'feel', 'and', 'to', 'the', 'a', 'feeling', 'of'],\n",
              " ['express',\n",
              "  'early',\n",
              "  'drink',\n",
              "  'doubt',\n",
              "  'door',\n",
              "  'cut',\n",
              "  'worse',\n",
              "  'weepy',\n",
              "  'water',\n",
              "  'unloved'])"
            ]
          },
          "metadata": {},
          "execution_count": 30
        }
      ],
      "source": [
        "fam_words = tokenizer.get_vocabulary()\n",
        "fam_words[:10],fam_words[-10:]"
      ]
    },
    {
      "cell_type": "code",
      "execution_count": null,
      "metadata": {
        "id": "Z9cU6yXVIKA3"
      },
      "outputs": [],
      "source": [
        "embedding = tf.keras.layers.Embedding(input_dim=1000,input_length=Average_words,output_dim=128)"
      ]
    },
    {
      "cell_type": "code",
      "execution_count": null,
      "metadata": {
        "colab": {
          "base_uri": "https://localhost:8080/"
        },
        "id": "K3_GhHMNI2B-",
        "outputId": "aaa57c1c-e8e7-477e-df44-35bf323160a1"
      },
      "outputs": [
        {
          "output_type": "execute_result",
          "data": {
            "text/plain": [
              "<tf.Tensor: shape=(19, 128), dtype=float32, numpy=\n",
              "array([[ 0.0206405 , -0.02385486, -0.00349877, ..., -0.00946086,\n",
              "        -0.02604636,  0.01590759],\n",
              "       [-0.02571102, -0.00913614, -0.01421962, ...,  0.01895272,\n",
              "        -0.02721353, -0.03223439],\n",
              "       [ 0.00297344,  0.0345864 ,  0.03586463, ...,  0.0145283 ,\n",
              "        -0.03246688,  0.04898453],\n",
              "       ...,\n",
              "       [ 0.04013496, -0.02567364, -0.00941718, ...,  0.04567507,\n",
              "         0.00503965, -0.00502259],\n",
              "       [ 0.04013496, -0.02567364, -0.00941718, ...,  0.04567507,\n",
              "         0.00503965, -0.00502259],\n",
              "       [ 0.04013496, -0.02567364, -0.00941718, ...,  0.04567507,\n",
              "         0.00503965, -0.00502259]], dtype=float32)>"
            ]
          },
          "metadata": {},
          "execution_count": 32
        }
      ],
      "source": [
        "t = tokenizer(word)\n",
        "e = embedding(t)\n",
        "e"
      ]
    },
    {
      "cell_type": "markdown",
      "metadata": {
        "id": "5WtsOPIsI6d2"
      },
      "source": [
        "####Model_1🐒"
      ]
    },
    {
      "cell_type": "code",
      "execution_count": null,
      "metadata": {
        "colab": {
          "base_uri": "https://localhost:8080/"
        },
        "id": "Wrd379XvJKNe",
        "outputId": "2003a74f-39ac-4679-fb61-deccf7f09602"
      },
      "outputs": [
        {
          "output_type": "stream",
          "name": "stdout",
          "text": [
            "Model: \"model\"\n",
            "_________________________________________________________________\n",
            " Layer (type)                Output Shape              Param #   \n",
            "=================================================================\n",
            " input_1 (InputLayer)        [(None, 1)]               0         \n",
            "                                                                 \n",
            " text_vectorization (TextVec  (None, 19)               0         \n",
            " torization)                                                     \n",
            "                                                                 \n",
            " embedding (Embedding)       (None, 19, 128)           128000    \n",
            "                                                                 \n",
            " global_average_pooling1d (G  (None, 128)              0         \n",
            " lobalAveragePooling1D)                                          \n",
            "                                                                 \n",
            " dense (Dense)               (None, 6)                 774       \n",
            "                                                                 \n",
            "=================================================================\n",
            "Total params: 128,774\n",
            "Trainable params: 128,774\n",
            "Non-trainable params: 0\n",
            "_________________________________________________________________\n"
          ]
        }
      ],
      "source": [
        "input = tf.keras.layers.Input(shape=(1),dtype=tf.string)\n",
        "t = tokenizer(input)\n",
        "e = embedding(t)\n",
        "p = tf.keras.layers.GlobalAveragePooling1D()(e)\n",
        "output = tf.keras.layers.Dense(len(class_names),activation=\"softmax\")(p)\n",
        "model_1 = tf.keras.Model(input,output)\n",
        "model_1.summary()"
      ]
    },
    {
      "cell_type": "code",
      "execution_count": null,
      "metadata": {
        "colab": {
          "base_uri": "https://localhost:8080/"
        },
        "id": "AXyUiNmUJhI2",
        "outputId": "11352e1e-a868-43d3-d6eb-cf12abb757df"
      },
      "outputs": [
        {
          "output_type": "stream",
          "name": "stdout",
          "text": [
            "Epoch 1/5\n",
            "350/350 [==============================] - 4s 4ms/step - loss: 1.5640 - accuracy: 0.3884 - val_loss: 1.4701 - val_accuracy: 0.4639\n",
            "Epoch 2/5\n",
            "350/350 [==============================] - 1s 4ms/step - loss: 1.3478 - accuracy: 0.5222 - val_loss: 1.2348 - val_accuracy: 0.5630\n",
            "Epoch 3/5\n",
            "350/350 [==============================] - 1s 4ms/step - loss: 1.0542 - accuracy: 0.6676 - val_loss: 0.9759 - val_accuracy: 0.7109\n",
            "Epoch 4/5\n",
            "350/350 [==============================] - 1s 4ms/step - loss: 0.7959 - accuracy: 0.7692 - val_loss: 0.7965 - val_accuracy: 0.7579\n",
            "Epoch 5/5\n",
            "350/350 [==============================] - 1s 4ms/step - loss: 0.6321 - accuracy: 0.8083 - val_loss: 0.6938 - val_accuracy: 0.7718\n"
          ]
        }
      ],
      "source": [
        "model_1.compile(loss=tf.keras.losses.SparseCategoricalCrossentropy(),\n",
        "                optimizer=tf.keras.optimizers.Adam(),\n",
        "                metrics=\"accuracy\")\n",
        "model_1_history = model_1.fit(train_x,train_y,epochs=5,\n",
        "                              validation_data=(valid_x,valid_y))"
      ]
    },
    {
      "cell_type": "code",
      "execution_count": null,
      "metadata": {
        "colab": {
          "base_uri": "https://localhost:8080/"
        },
        "id": "4cLqdEj8KLlm",
        "outputId": "2d853e69-7f18-4cb3-bd67-96887efcbe42"
      },
      "outputs": [
        {
          "output_type": "stream",
          "name": "stdout",
          "text": [
            "135/135 [==============================] - 0s 2ms/step\n"
          ]
        },
        {
          "output_type": "execute_result",
          "data": {
            "text/plain": [
              "{'accuracy': 77.17592592592592,\n",
              " 'precision': 0.7811340962961181,\n",
              " 'recall': 0.7717592592592593,\n",
              " 'f1_score': 0.7657805479851193}"
            ]
          },
          "metadata": {},
          "execution_count": 35
        }
      ],
      "source": [
        "model_1_pred = model_1.predict(valid_x)\n",
        "model_1_metrics = report(valid_y,tf.argmax(model_1_pred,axis=1))\n",
        "model_1_metrics"
      ]
    },
    {
      "cell_type": "markdown",
      "metadata": {
        "id": "9YHupZihNaN2"
      },
      "source": [
        "###GRU Model ⚡"
      ]
    },
    {
      "cell_type": "code",
      "execution_count": null,
      "metadata": {
        "id": "Oc9MNhw5PpK9"
      },
      "outputs": [],
      "source": [
        "def get_score(model):\n",
        "  pred = model.predict(valid_x)\n",
        "  return report(valid_y,tf.argmax(pred,axis=1))"
      ]
    },
    {
      "cell_type": "code",
      "execution_count": null,
      "metadata": {
        "colab": {
          "base_uri": "https://localhost:8080/"
        },
        "id": "Jatl31AxPGK1",
        "outputId": "a66e5aee-3c29-4fe6-9ad6-85298d295cec"
      },
      "outputs": [
        {
          "output_type": "stream",
          "name": "stdout",
          "text": [
            "Model: \"model_1\"\n",
            "_________________________________________________________________\n",
            " Layer (type)                Output Shape              Param #   \n",
            "=================================================================\n",
            " input_2 (InputLayer)        [(None, 1)]               0         \n",
            "                                                                 \n",
            " text_vectorization (TextVec  (None, 19)               0         \n",
            " torization)                                                     \n",
            "                                                                 \n",
            " embedding (Embedding)       (None, 19, 128)           128000    \n",
            "                                                                 \n",
            " gru (GRU)                   (None, 4)                 1608      \n",
            "                                                                 \n",
            " dense_1 (Dense)             (None, 6)                 30        \n",
            "                                                                 \n",
            "=================================================================\n",
            "Total params: 129,638\n",
            "Trainable params: 129,638\n",
            "Non-trainable params: 0\n",
            "_________________________________________________________________\n"
          ]
        }
      ],
      "source": [
        "input = tf.keras.layers.Input(shape=(1,),dtype=tf.string)\n",
        "t = tokenizer(input)\n",
        "e = embedding(t)\n",
        "gru = tf.keras.layers.GRU(4)(e)\n",
        "output = tf.keras.layers.Dense(len(class_names),activation=\"softmax\")(gru)\n",
        "model_2 = tf.keras.Model(input,output)\n",
        "model_2.summary()"
      ]
    },
    {
      "cell_type": "code",
      "execution_count": null,
      "metadata": {
        "colab": {
          "base_uri": "https://localhost:8080/"
        },
        "id": "x4gXXLkMRIld",
        "outputId": "d7fc33ae-92e7-4668-88a3-18243a719e6f"
      },
      "outputs": [
        {
          "output_type": "stream",
          "name": "stdout",
          "text": [
            "Epoch 1/5\n",
            "350/350 [==============================] - 7s 7ms/step - loss: 1.4014 - accuracy: 0.5037 - val_loss: 1.0421 - val_accuracy: 0.6676\n",
            "Epoch 2/5\n",
            "350/350 [==============================] - 2s 6ms/step - loss: 0.8816 - accuracy: 0.7319 - val_loss: 0.8749 - val_accuracy: 0.7243\n",
            "Epoch 3/5\n",
            "350/350 [==============================] - 2s 6ms/step - loss: 0.7554 - accuracy: 0.7579 - val_loss: 0.8075 - val_accuracy: 0.7352\n",
            "Epoch 4/5\n",
            "350/350 [==============================] - 2s 6ms/step - loss: 0.6774 - accuracy: 0.7735 - val_loss: 0.7663 - val_accuracy: 0.7519\n",
            "Epoch 5/5\n",
            "350/350 [==============================] - 2s 5ms/step - loss: 0.6137 - accuracy: 0.8096 - val_loss: 0.7346 - val_accuracy: 0.7667\n"
          ]
        }
      ],
      "source": [
        "model_2.compile(loss=\"sparse_categorical_crossentropy\",\n",
        "                optimizer=\"adam\",\n",
        "                metrics=\"accuracy\")\n",
        "model_2_history = model_2.fit(train_x,train_y,epochs=5,\n",
        "                              validation_data=(valid_x,valid_y))"
      ]
    },
    {
      "cell_type": "code",
      "execution_count": null,
      "metadata": {
        "colab": {
          "base_uri": "https://localhost:8080/"
        },
        "id": "Et5RyzXpQwt9",
        "outputId": "7ced8018-30c1-4bed-e3d6-4c9b7572a2f3"
      },
      "outputs": [
        {
          "output_type": "stream",
          "name": "stdout",
          "text": [
            "135/135 [==============================] - 1s 2ms/step\n"
          ]
        },
        {
          "output_type": "execute_result",
          "data": {
            "text/plain": [
              "{'accuracy': 76.66666666666667,\n",
              " 'precision': 0.7727711247553748,\n",
              " 'recall': 0.7666666666666667,\n",
              " 'f1_score': 0.7590734936206536}"
            ]
          },
          "metadata": {},
          "execution_count": 39
        }
      ],
      "source": [
        "model_2_metrics = get_score(model_2)\n",
        "model_2_metrics"
      ]
    },
    {
      "cell_type": "markdown",
      "metadata": {
        "id": "PLsGjSB4Q2It"
      },
      "source": [
        "###LSTM Model 🦘"
      ]
    },
    {
      "cell_type": "code",
      "execution_count": null,
      "metadata": {
        "colab": {
          "base_uri": "https://localhost:8080/"
        },
        "id": "mCDIuAJyUdeV",
        "outputId": "72afd7da-ca89-4f26-c006-637a3c92a37b"
      },
      "outputs": [
        {
          "output_type": "stream",
          "name": "stdout",
          "text": [
            "Model: \"model_2\"\n",
            "_________________________________________________________________\n",
            " Layer (type)                Output Shape              Param #   \n",
            "=================================================================\n",
            " input_3 (InputLayer)        [(None, 1)]               0         \n",
            "                                                                 \n",
            " text_vectorization (TextVec  (None, 19)               0         \n",
            " torization)                                                     \n",
            "                                                                 \n",
            " embedding (Embedding)       (None, 19, 128)           128000    \n",
            "                                                                 \n",
            " lstm (LSTM)                 (None, 2)                 1048      \n",
            "                                                                 \n",
            " dense_2 (Dense)             (None, 6)                 18        \n",
            "                                                                 \n",
            "=================================================================\n",
            "Total params: 129,066\n",
            "Trainable params: 129,066\n",
            "Non-trainable params: 0\n",
            "_________________________________________________________________\n"
          ]
        }
      ],
      "source": [
        "input = tf.keras.layers.Input(shape=(1),dtype=tf.string)\n",
        "t = tokenizer(input)\n",
        "e = embedding(t)\n",
        "lstm = tf.keras.layers.LSTM(2)(e)\n",
        "output = tf.keras.layers.Dense(len(class_names),activation=\"softmax\")(lstm)\n",
        "model_3 = tf.keras.Model(input,output)\n",
        "model_3.summary()"
      ]
    },
    {
      "cell_type": "code",
      "execution_count": null,
      "metadata": {
        "colab": {
          "base_uri": "https://localhost:8080/"
        },
        "id": "u8W2oe8uVPfv",
        "outputId": "75630b68-5402-49db-97b0-d45ef1f46c15"
      },
      "outputs": [
        {
          "output_type": "stream",
          "name": "stdout",
          "text": [
            "Epoch 1/5\n",
            "350/350 [==============================] - 4s 8ms/step - loss: 1.5200 - accuracy: 0.3312 - val_loss: 1.2747 - val_accuracy: 0.4056\n",
            "Epoch 2/5\n",
            "350/350 [==============================] - 2s 6ms/step - loss: 1.1902 - accuracy: 0.4423 - val_loss: 1.1828 - val_accuracy: 0.4387\n",
            "Epoch 3/5\n",
            "350/350 [==============================] - 2s 6ms/step - loss: 1.1130 - accuracy: 0.4778 - val_loss: 1.1488 - val_accuracy: 0.4502\n",
            "Epoch 4/5\n",
            "350/350 [==============================] - 3s 7ms/step - loss: 1.0692 - accuracy: 0.4849 - val_loss: 1.1339 - val_accuracy: 0.4461\n",
            "Epoch 5/5\n",
            "350/350 [==============================] - 3s 8ms/step - loss: 1.0328 - accuracy: 0.5452 - val_loss: 1.0911 - val_accuracy: 0.6222\n"
          ]
        }
      ],
      "source": [
        "model_3.compile(loss=tf.keras.losses.SparseCategoricalCrossentropy(),\n",
        "                optimizer=tf.keras.optimizers.Adam(),\n",
        "                metrics=\"accuracy\")\n",
        "model_3_history = model_3.fit(train_x,train_y,epochs=5,validation_data=(valid_x,valid_y))"
      ]
    },
    {
      "cell_type": "code",
      "execution_count": null,
      "metadata": {
        "colab": {
          "base_uri": "https://localhost:8080/"
        },
        "id": "dMZ7ls4UVnPD",
        "outputId": "f5e10caf-05f3-4d90-fb89-460b1e2f7e69"
      },
      "outputs": [
        {
          "output_type": "stream",
          "name": "stdout",
          "text": [
            "135/135 [==============================] - 1s 2ms/step\n"
          ]
        },
        {
          "output_type": "stream",
          "name": "stderr",
          "text": [
            "/usr/local/lib/python3.7/dist-packages/sklearn/metrics/_classification.py:1318: UndefinedMetricWarning: Precision and F-score are ill-defined and being set to 0.0 in labels with no predicted samples. Use `zero_division` parameter to control this behavior.\n",
            "  _warn_prf(average, modifier, msg_start, len(result))\n"
          ]
        },
        {
          "output_type": "execute_result",
          "data": {
            "text/plain": [
              "{'accuracy': 62.22222222222222,\n",
              " 'precision': 0.5933658504709325,\n",
              " 'recall': 0.6222222222222222,\n",
              " 'f1_score': 0.5806989239719669}"
            ]
          },
          "metadata": {},
          "execution_count": 42
        }
      ],
      "source": [
        "model_3_metrics=get_score(model_3)\n",
        "model_3_metrics"
      ]
    },
    {
      "cell_type": "markdown",
      "metadata": {
        "id": "2H8xZhU2Vqbj"
      },
      "source": [
        "###BiDirectional Model ⬅➡"
      ]
    },
    {
      "cell_type": "code",
      "execution_count": null,
      "metadata": {
        "colab": {
          "base_uri": "https://localhost:8080/"
        },
        "id": "KgerJ_r1YYMa",
        "outputId": "6ee7cba4-2ec1-4faa-db39-b752c7395877"
      },
      "outputs": [
        {
          "output_type": "stream",
          "name": "stdout",
          "text": [
            "Model: \"model_3\"\n",
            "_________________________________________________________________\n",
            " Layer (type)                Output Shape              Param #   \n",
            "=================================================================\n",
            " input_4 (InputLayer)        [(None, 1)]               0         \n",
            "                                                                 \n",
            " text_vectorization (TextVec  (None, 19)               0         \n",
            " torization)                                                     \n",
            "                                                                 \n",
            " embedding (Embedding)       (None, 19, 128)           128000    \n",
            "                                                                 \n",
            " bidirectional (Bidirectiona  (None, 4)                2096      \n",
            " l)                                                              \n",
            "                                                                 \n",
            " dense_3 (Dense)             (None, 6)                 30        \n",
            "                                                                 \n",
            "=================================================================\n",
            "Total params: 130,126\n",
            "Trainable params: 130,126\n",
            "Non-trainable params: 0\n",
            "_________________________________________________________________\n"
          ]
        }
      ],
      "source": [
        "input = tf.keras.layers.Input(shape=(1),dtype=tf.string)\n",
        "t = tokenizer(input)\n",
        "e = embedding(t)\n",
        "bi = tf.keras.layers.Bidirectional(tf.keras.layers.LSTM(2))(e)\n",
        "# p = tf.keras.layers.GlobalAveragePooling1D()(bi)\n",
        "output = tf.keras.layers.Dense(len(class_names),activation=\"softmax\")(bi)\n",
        "model_4 = tf.keras.Model(input,output)\n",
        "model_4.summary()"
      ]
    },
    {
      "cell_type": "code",
      "execution_count": null,
      "metadata": {
        "colab": {
          "base_uri": "https://localhost:8080/"
        },
        "id": "I911nu97ZydJ",
        "outputId": "60d19a84-1724-4cbf-fb82-76ea614e35a6"
      },
      "outputs": [
        {
          "output_type": "stream",
          "name": "stdout",
          "text": [
            "Epoch 1/5\n",
            "350/350 [==============================] - 6s 10ms/step - loss: 1.3233 - accuracy: 0.5423 - val_loss: 0.9995 - val_accuracy: 0.7525\n",
            "Epoch 2/5\n",
            "350/350 [==============================] - 3s 8ms/step - loss: 0.8207 - accuracy: 0.7908 - val_loss: 0.8044 - val_accuracy: 0.7713\n",
            "Epoch 3/5\n",
            "350/350 [==============================] - 3s 8ms/step - loss: 0.6710 - accuracy: 0.8126 - val_loss: 0.7369 - val_accuracy: 0.7826\n",
            "Epoch 4/5\n",
            "350/350 [==============================] - 3s 8ms/step - loss: 0.5907 - accuracy: 0.8298 - val_loss: 0.6956 - val_accuracy: 0.7794\n",
            "Epoch 5/5\n",
            "350/350 [==============================] - 3s 7ms/step - loss: 0.5293 - accuracy: 0.8401 - val_loss: 0.6775 - val_accuracy: 0.7794\n"
          ]
        }
      ],
      "source": [
        "model_4.compile(loss=\"sparse_categorical_crossentropy\",\n",
        "                optimizer=\"adam\",\n",
        "                metrics=\"accuracy\")\n",
        "model_4_history = model_4.fit(train_x,train_y,epochs=5,\n",
        "                              validation_data=(valid_x,valid_y))"
      ]
    },
    {
      "cell_type": "code",
      "execution_count": null,
      "metadata": {
        "colab": {
          "base_uri": "https://localhost:8080/"
        },
        "id": "QmihU7F2aV-5",
        "outputId": "4f583fff-b409-45ff-f6a9-1873e6ac4816"
      },
      "outputs": [
        {
          "output_type": "stream",
          "name": "stdout",
          "text": [
            "135/135 [==============================] - 1s 3ms/step\n"
          ]
        },
        {
          "output_type": "execute_result",
          "data": {
            "text/plain": [
              "{'accuracy': 77.93981481481481,\n",
              " 'precision': 0.785461608281793,\n",
              " 'recall': 0.7793981481481481,\n",
              " 'f1_score': 0.7785068089748727}"
            ]
          },
          "metadata": {},
          "execution_count": 45
        }
      ],
      "source": [
        "model_4_metrics = get_score(model_4)\n",
        "model_4_metrics"
      ]
    },
    {
      "cell_type": "markdown",
      "metadata": {
        "id": "qHe9v_-kaazB"
      },
      "source": [
        "###Convolutional Model👀"
      ]
    },
    {
      "cell_type": "code",
      "execution_count": null,
      "metadata": {
        "colab": {
          "base_uri": "https://localhost:8080/"
        },
        "id": "BpKvAvrva4_D",
        "outputId": "d79b7456-992f-4667-ffb7-4492f0f2b60b"
      },
      "outputs": [
        {
          "output_type": "stream",
          "name": "stdout",
          "text": [
            "Model: \"model_4\"\n",
            "_________________________________________________________________\n",
            " Layer (type)                Output Shape              Param #   \n",
            "=================================================================\n",
            " input_5 (InputLayer)        [(None, 1)]               0         \n",
            "                                                                 \n",
            " text_vectorization (TextVec  (None, 19)               0         \n",
            " torization)                                                     \n",
            "                                                                 \n",
            " embedding (Embedding)       (None, 19, 128)           128000    \n",
            "                                                                 \n",
            " conv1d (Conv1D)             (None, 18, 4)             1028      \n",
            "                                                                 \n",
            " global_average_pooling1d_1   (None, 4)                0         \n",
            " (GlobalAveragePooling1D)                                        \n",
            "                                                                 \n",
            " dense_4 (Dense)             (None, 6)                 30        \n",
            "                                                                 \n",
            "=================================================================\n",
            "Total params: 129,058\n",
            "Trainable params: 129,058\n",
            "Non-trainable params: 0\n",
            "_________________________________________________________________\n"
          ]
        }
      ],
      "source": [
        "input = tf.keras.layers.Input(shape=(1,),dtype=tf.string)\n",
        "t = tokenizer(input)\n",
        "e = embedding(t)\n",
        "conv = tf.keras.layers.Conv1D(4,activation=\"relu\",kernel_size=2)\n",
        "x = conv(e)\n",
        "p = tf.keras.layers.GlobalAveragePooling1D()(x)\n",
        "output = tf.keras.layers.Dense(len(class_names),activation=\"softmax\")(p)\n",
        "model_5 = tf.keras.Model(input,output)\n",
        "model_5.summary()"
      ]
    },
    {
      "cell_type": "code",
      "execution_count": null,
      "metadata": {
        "colab": {
          "base_uri": "https://localhost:8080/"
        },
        "id": "T6tROgjJcERp",
        "outputId": "9ccdd2de-a35e-4389-9b7c-556f3927f33b"
      },
      "outputs": [
        {
          "output_type": "stream",
          "name": "stdout",
          "text": [
            "Epoch 1/5\n",
            "350/350 [==============================] - 6s 5ms/step - loss: 1.3743 - accuracy: 0.5281 - val_loss: 1.1986 - val_accuracy: 0.5569\n",
            "Epoch 2/5\n",
            "350/350 [==============================] - 2s 4ms/step - loss: 1.0438 - accuracy: 0.6162 - val_loss: 0.9940 - val_accuracy: 0.6356\n",
            "Epoch 3/5\n",
            "350/350 [==============================] - 2s 4ms/step - loss: 0.8744 - accuracy: 0.6728 - val_loss: 0.8886 - val_accuracy: 0.6889\n",
            "Epoch 4/5\n",
            "350/350 [==============================] - 2s 5ms/step - loss: 0.7690 - accuracy: 0.7342 - val_loss: 0.8200 - val_accuracy: 0.7190\n",
            "Epoch 5/5\n",
            "350/350 [==============================] - 2s 4ms/step - loss: 0.6920 - accuracy: 0.7580 - val_loss: 0.7859 - val_accuracy: 0.7282\n"
          ]
        }
      ],
      "source": [
        "model_5.compile(loss=tf.keras.losses.SparseCategoricalCrossentropy(),\n",
        "                metrics=\"accuracy\",\n",
        "                optimizer=tf.keras.optimizers.Adam())\n",
        "model_5_history = model_5.fit(train_x,train_y,epochs=5,\n",
        "                              validation_data=(valid_x,valid_y))"
      ]
    },
    {
      "cell_type": "code",
      "execution_count": null,
      "metadata": {
        "colab": {
          "base_uri": "https://localhost:8080/"
        },
        "id": "tdTz00tvdSiY",
        "outputId": "450862e6-33d0-43ed-c0b4-89fcdbf9b14d"
      },
      "outputs": [
        {
          "output_type": "stream",
          "name": "stdout",
          "text": [
            "135/135 [==============================] - 0s 2ms/step\n"
          ]
        },
        {
          "output_type": "stream",
          "name": "stderr",
          "text": [
            "/usr/local/lib/python3.7/dist-packages/sklearn/metrics/_classification.py:1318: UndefinedMetricWarning: Precision and F-score are ill-defined and being set to 0.0 in labels with no predicted samples. Use `zero_division` parameter to control this behavior.\n",
            "  _warn_prf(average, modifier, msg_start, len(result))\n"
          ]
        },
        {
          "output_type": "execute_result",
          "data": {
            "text/plain": [
              "{'accuracy': 72.82407407407408,\n",
              " 'precision': 0.6818312567827939,\n",
              " 'recall': 0.7282407407407407,\n",
              " 'f1_score': 0.6991418203165479}"
            ]
          },
          "metadata": {},
          "execution_count": 48
        }
      ],
      "source": [
        "model_5_metrics = get_score(model_5)\n",
        "model_5_metrics"
      ]
    },
    {
      "cell_type": "markdown",
      "metadata": {
        "id": "vwJPPNVCdY7g"
      },
      "source": [
        "###TransferLearning ♨"
      ]
    },
    {
      "cell_type": "code",
      "execution_count": null,
      "metadata": {
        "id": "6P7Fk708d7Xj"
      },
      "outputs": [],
      "source": [
        "url = \"https://tfhub.dev/google/universal-sentence-encoder/4\"\n",
        "import tensorflow_hub as hub"
      ]
    },
    {
      "cell_type": "code",
      "execution_count": null,
      "metadata": {
        "id": "4KgoQTdO4CLr"
      },
      "outputs": [],
      "source": [
        "keras_layer = hub.KerasLayer(url,input_shape=(),dtype=tf.string,trainable=False)"
      ]
    },
    {
      "cell_type": "code",
      "execution_count": null,
      "metadata": {
        "colab": {
          "base_uri": "https://localhost:8080/"
        },
        "id": "fwfhjtbv4zh6",
        "outputId": "6854d20d-7f1e-4c43-bedd-12d243269ebd"
      },
      "outputs": [
        {
          "output_type": "stream",
          "name": "stdout",
          "text": [
            "Epoch 1/5\n",
            "350/350 [==============================] - 9s 14ms/step - loss: 1.2110 - accuracy: 0.5630 - val_loss: 1.0202 - val_accuracy: 0.6285\n",
            "Epoch 2/5\n",
            "350/350 [==============================] - 5s 13ms/step - loss: 0.9636 - accuracy: 0.6410 - val_loss: 0.9754 - val_accuracy: 0.6398\n",
            "Epoch 3/5\n",
            "350/350 [==============================] - 5s 13ms/step - loss: 0.9127 - accuracy: 0.6604 - val_loss: 0.9568 - val_accuracy: 0.6479\n",
            "Epoch 4/5\n",
            "350/350 [==============================] - 5s 13ms/step - loss: 0.8806 - accuracy: 0.6691 - val_loss: 0.9448 - val_accuracy: 0.6507\n",
            "Epoch 5/5\n",
            "350/350 [==============================] - 5s 13ms/step - loss: 0.8491 - accuracy: 0.6812 - val_loss: 0.9416 - val_accuracy: 0.6539\n"
          ]
        }
      ],
      "source": [
        "model_6 = tf.keras.Sequential([keras_layer,\n",
        "                               tf.keras.layers.Dense(128,activation=\"relu\"),\n",
        "                               tf.keras.layers.Dense(len(class_names),activation=\"softmax\")])\n",
        "model_6.compile(loss=tf.keras.losses.SparseCategoricalCrossentropy(),\n",
        "                optimizer=tf.keras.optimizers.Adam(),\n",
        "                metrics=\"accuracy\")\n",
        "model_6_history = model_6.fit(train_x,train_y,epochs=5,\n",
        "                              validation_data=(valid_x,valid_y))"
      ]
    },
    {
      "cell_type": "code",
      "execution_count": null,
      "metadata": {
        "colab": {
          "base_uri": "https://localhost:8080/"
        },
        "id": "L53Q5EwF6F16",
        "outputId": "8903971f-f74c-4d2d-d496-c2463b60d381"
      },
      "outputs": [
        {
          "output_type": "stream",
          "name": "stdout",
          "text": [
            "135/135 [==============================] - 2s 9ms/step\n"
          ]
        },
        {
          "output_type": "execute_result",
          "data": {
            "text/plain": [
              "{'accuracy': 65.39351851851852,\n",
              " 'precision': 0.6511920185605627,\n",
              " 'recall': 0.6539351851851852,\n",
              " 'f1_score': 0.6511624366730617}"
            ]
          },
          "metadata": {},
          "execution_count": 52
        }
      ],
      "source": [
        "model_6_metrics = get_score(model_6)\n",
        "model_6_metrics"
      ]
    },
    {
      "cell_type": "markdown",
      "metadata": {
        "id": "sLPXCiGtrQMq"
      },
      "source": [
        "###Fine Tune🐎"
      ]
    },
    {
      "cell_type": "code",
      "execution_count": null,
      "metadata": {
        "id": "52QGjKo-M7-i"
      },
      "outputs": [],
      "source": [
        "url = \"https://tfhub.dev/google/universal-sentence-encoder/4\"\n",
        "keras_layer = hub.KerasLayer(url,trainable=True,input_shape=(),dtype=tf.string)"
      ]
    },
    {
      "cell_type": "code",
      "execution_count": null,
      "metadata": {
        "id": "nuuHEpjvqwoN"
      },
      "outputs": [],
      "source": [
        "lay = model_6.layers[0].weights"
      ]
    },
    {
      "cell_type": "code",
      "execution_count": null,
      "metadata": {
        "id": "GYlGKvLGr12G"
      },
      "outputs": [],
      "source": [
        "for layers in lay[:-10]:\n",
        "  # print(layers.name,layers.trainable)\n",
        "  layers.train = False"
      ]
    },
    {
      "cell_type": "code",
      "execution_count": null,
      "metadata": {
        "id": "XaTvOuxhs4Vz"
      },
      "outputs": [],
      "source": [
        "from tqdm import tqdm"
      ]
    },
    {
      "cell_type": "code",
      "execution_count": null,
      "metadata": {
        "colab": {
          "base_uri": "https://localhost:8080/"
        },
        "id": "6UcLit9zNQ5S",
        "outputId": "0dde6ca8-bc34-4609-c392-1e3b226dff01"
      },
      "outputs": [
        {
          "output_type": "stream",
          "name": "stdout",
          "text": [
            "Epoch 1/5\n"
          ]
        },
        {
          "output_type": "stream",
          "name": "stderr",
          "text": [
            "/usr/local/lib/python3.7/dist-packages/keras/optimizers/optimizer_v2/adam.py:110: UserWarning: The `lr` argument is deprecated, use `learning_rate` instead.\n",
            "  super(Adam, self).__init__(name, **kwargs)\n"
          ]
        },
        {
          "output_type": "stream",
          "name": "stdout",
          "text": [
            "350/350 [==============================] - 59s 154ms/step - loss: 1.0858 - accuracy: 0.6101 - val_loss: 0.7222 - val_accuracy: 0.7590\n",
            "Epoch 2/5\n",
            "350/350 [==============================] - 54s 153ms/step - loss: 0.2234 - accuracy: 0.9390 - val_loss: 0.6009 - val_accuracy: 0.7924\n",
            "Epoch 3/5\n",
            "350/350 [==============================] - 53s 153ms/step - loss: 0.0331 - accuracy: 0.9946 - val_loss: 0.6128 - val_accuracy: 0.7984\n",
            "Epoch 4/5\n",
            "350/350 [==============================] - 54s 153ms/step - loss: 0.0150 - accuracy: 0.9975 - val_loss: 0.6086 - val_accuracy: 0.8074\n",
            "Epoch 5/5\n",
            "350/350 [==============================] - 54s 154ms/step - loss: 0.0095 - accuracy: 0.9982 - val_loss: 0.6201 - val_accuracy: 0.8148\n"
          ]
        }
      ],
      "source": [
        "model_7 = tf.keras.Sequential([keras_layer,\n",
        "                              # tf.keras.layers.Dense(64,activation=\"relu\"),\n",
        "                               tf.keras.layers.Dense(len(class_names),activation=\"softmax\")])\n",
        "model_7.compile(loss=\"sparse_categorical_crossentropy\",\n",
        "                optimizer=tf.keras.optimizers.Adam(lr=0.00124),\n",
        "                metrics=\"accuracy\")\n",
        "model_7_history = model_7.fit(train_x,train_y,epochs=5,validation_data=(valid_x,valid_y))"
      ]
    },
    {
      "cell_type": "code",
      "execution_count": null,
      "metadata": {
        "colab": {
          "base_uri": "https://localhost:8080/"
        },
        "id": "84AZd6ClM5uy",
        "outputId": "7399b0fe-3fdc-44de-ca0c-e8a800588930"
      },
      "outputs": [
        {
          "output_type": "stream",
          "name": "stdout",
          "text": [
            "135/135 [==============================] - 2s 9ms/step\n"
          ]
        },
        {
          "output_type": "execute_result",
          "data": {
            "text/plain": [
              "{'accuracy': 81.48148148148148,\n",
              " 'precision': 0.8135687626657347,\n",
              " 'recall': 0.8148148148148148,\n",
              " 'f1_score': 0.8111605594107739}"
            ]
          },
          "metadata": {},
          "execution_count": 58
        }
      ],
      "source": [
        "model_7_metrics = get_score(model_7)\n",
        "model_7_metrics"
      ]
    },
    {
      "cell_type": "code",
      "execution_count": null,
      "metadata": {
        "colab": {
          "base_uri": "https://localhost:8080/"
        },
        "id": "zOCBMJj2rJJy",
        "outputId": "bf4f85b5-dfff-432f-9d9a-cc25e8860017"
      },
      "outputs": [
        {
          "output_type": "stream",
          "name": "stdout",
          "text": [
            "15/15 [==============================] - 0s 10ms/step - loss: 0.4980 - accuracy: 0.8479\n"
          ]
        },
        {
          "output_type": "execute_result",
          "data": {
            "text/plain": [
              "[0.4980216324329376, 0.8479166626930237]"
            ]
          },
          "metadata": {},
          "execution_count": 59
        }
      ],
      "source": [
        "model_7.evaluate(test_x,test_y)"
      ]
    },
    {
      "cell_type": "code",
      "source": [
        "# model_8 = tf.keras.Sequential([keras_layer,\n",
        "#                                tf.keras.layers.Dense(len(class_names),activation=\"softmax\")])\n",
        "# lr_s = tf.keras.callbacks.LearningRateScheduler(lambda epoch:1e-4*10**(epoch/20))\n",
        "# model_8.compile(loss=\"sparse_categorical_crossentropy\",\n",
        "#                 optimizer=tf.keras.optimizers.Adam(),\n",
        "#                 metrics=\"accuracy\")\n",
        "#model_8_history = model_8.fit(train_x,train_y,epochs=10,validation_data=(valid_x,valid_y),callbacks=[lr_s])"
      ],
      "metadata": {
        "id": "v2g0vW3bgZiA"
      },
      "execution_count": null,
      "outputs": []
    },
    {
      "cell_type": "code",
      "source": [
        "# pd.DataFrame(model_8_history.history).plot(figsize=(10,7),xlabel=\"epoch\")"
      ],
      "metadata": {
        "id": "Nn2NQU_ig1bk"
      },
      "execution_count": null,
      "outputs": []
    },
    {
      "cell_type": "code",
      "source": [
        "# lrs = 1e-4*(10**(tf.range(10)/20))\n",
        "# lrs"
      ],
      "metadata": {
        "id": "H-9hu7EZhKnI"
      },
      "execution_count": null,
      "outputs": []
    },
    {
      "cell_type": "code",
      "source": [
        "# import matplotlib.pyplot as plt\n",
        "# plt.figure(figsize=(15,8))\n",
        "# plt.semilogx(lrs,model_8_history.history['val_loss'])"
      ],
      "metadata": {
        "id": "fsF1mbnWhTKS"
      },
      "execution_count": null,
      "outputs": []
    },
    {
      "cell_type": "markdown",
      "source": [
        "###LR_Changed_Fine_Tuned_model"
      ],
      "metadata": {
        "id": "6lTuPnCTNDK_"
      }
    },
    {
      "cell_type": "code",
      "source": [
        "model_9 = tf.keras.Sequential([keras_layer,\n",
        "                              # tf.keras.layers.Dense(64,activation=\"relu\"),\n",
        "                               tf.keras.layers.Dense(len(class_names),activation=\"softmax\")])\n",
        "model_9.compile(loss=\"sparse_categorical_crossentropy\",\n",
        "                optimizer=tf.keras.optimizers.Adam(lr=0.000165),\n",
        "                metrics=\"accuracy\")\n",
        "model_9_history = model_9.fit(train_x,train_y,epochs=5,validation_data=(valid_x,valid_y))"
      ],
      "metadata": {
        "colab": {
          "base_uri": "https://localhost:8080/"
        },
        "id": "ZtbaBV-Cn6jR",
        "outputId": "d0448894-b1cf-4020-fb0a-a99cc30f30df"
      },
      "execution_count": null,
      "outputs": [
        {
          "output_type": "stream",
          "name": "stdout",
          "text": [
            "Epoch 1/5\n"
          ]
        },
        {
          "output_type": "stream",
          "name": "stderr",
          "text": [
            "/usr/local/lib/python3.7/dist-packages/keras/optimizers/optimizer_v2/adam.py:110: UserWarning: The `lr` argument is deprecated, use `learning_rate` instead.\n",
            "  super(Adam, self).__init__(name, **kwargs)\n"
          ]
        },
        {
          "output_type": "stream",
          "name": "stdout",
          "text": [
            "350/350 [==============================] - 58s 154ms/step - loss: 1.1055 - accuracy: 0.8607 - val_loss: 0.9768 - val_accuracy: 0.7815\n",
            "Epoch 2/5\n",
            "350/350 [==============================] - 54s 153ms/step - loss: 0.4721 - accuracy: 0.9984 - val_loss: 0.6865 - val_accuracy: 0.8183\n",
            "Epoch 3/5\n",
            "350/350 [==============================] - 53s 152ms/step - loss: 0.2257 - accuracy: 0.9986 - val_loss: 0.5781 - val_accuracy: 0.8199\n",
            "Epoch 4/5\n",
            "350/350 [==============================] - 53s 152ms/step - loss: 0.1258 - accuracy: 0.9982 - val_loss: 0.5443 - val_accuracy: 0.8211\n",
            "Epoch 5/5\n",
            "350/350 [==============================] - 53s 152ms/step - loss: 0.0796 - accuracy: 0.9983 - val_loss: 0.5251 - val_accuracy: 0.8229\n"
          ]
        }
      ]
    },
    {
      "cell_type": "code",
      "source": [
        "model_9_metrics = get_score(model_9)\n",
        "model_9_metrics"
      ],
      "metadata": {
        "colab": {
          "base_uri": "https://localhost:8080/"
        },
        "id": "cUWOelA9uV4X",
        "outputId": "7f91178d-16d4-4722-b8af-52438cafaf17"
      },
      "execution_count": null,
      "outputs": [
        {
          "output_type": "stream",
          "name": "stdout",
          "text": [
            "135/135 [==============================] - 2s 9ms/step\n"
          ]
        },
        {
          "output_type": "execute_result",
          "data": {
            "text/plain": [
              "{'accuracy': 82.29166666666666,\n",
              " 'precision': 0.8229748587072804,\n",
              " 'recall': 0.8229166666666666,\n",
              " 'f1_score': 0.8187330920619352}"
            ]
          },
          "metadata": {},
          "execution_count": 65
        }
      ]
    },
    {
      "cell_type": "markdown",
      "metadata": {
        "id": "MlBKjqLAmJwd"
      },
      "source": [
        "##Metrics Board🧐"
      ]
    },
    {
      "cell_type": "code",
      "execution_count": null,
      "metadata": {
        "colab": {
          "base_uri": "https://localhost:8080/",
          "height": 332
        },
        "id": "h3UQPI8AYBfI",
        "outputId": "e8c60a36-7cc2-4c16-f0cf-1f62fc81f143"
      },
      "outputs": [
        {
          "output_type": "execute_result",
          "data": {
            "text/plain": [
              "                        accuracy  precision    recall  f1_score\n",
              "Base_model             61.990741   0.701872  0.619907  0.519717\n",
              "NN_model_1             77.175926   0.781134  0.771759  0.765781\n",
              "GRU_model_2            76.666667   0.772771  0.766667  0.759073\n",
              "LSTM_model_3           62.222222   0.593366  0.622222  0.580699\n",
              "BiDirectional_model_4  77.939815   0.785462  0.779398  0.778507\n",
              "CNN_model              72.824074   0.681831  0.728241  0.699142\n",
              "TL_model               65.393519   0.651192  0.653935  0.651162\n",
              "FT_TL_model            81.481481   0.813569  0.814815  0.811161\n",
              "FT_TL_LR_model         82.291667   0.822975  0.822917  0.818733"
            ],
            "text/html": [
              "\n",
              "  <div id=\"df-c593c10f-0a5f-4017-a7ae-e06eb7c3e496\">\n",
              "    <div class=\"colab-df-container\">\n",
              "      <div>\n",
              "<style scoped>\n",
              "    .dataframe tbody tr th:only-of-type {\n",
              "        vertical-align: middle;\n",
              "    }\n",
              "\n",
              "    .dataframe tbody tr th {\n",
              "        vertical-align: top;\n",
              "    }\n",
              "\n",
              "    .dataframe thead th {\n",
              "        text-align: right;\n",
              "    }\n",
              "</style>\n",
              "<table border=\"1\" class=\"dataframe\">\n",
              "  <thead>\n",
              "    <tr style=\"text-align: right;\">\n",
              "      <th></th>\n",
              "      <th>accuracy</th>\n",
              "      <th>precision</th>\n",
              "      <th>recall</th>\n",
              "      <th>f1_score</th>\n",
              "    </tr>\n",
              "  </thead>\n",
              "  <tbody>\n",
              "    <tr>\n",
              "      <th>Base_model</th>\n",
              "      <td>61.990741</td>\n",
              "      <td>0.701872</td>\n",
              "      <td>0.619907</td>\n",
              "      <td>0.519717</td>\n",
              "    </tr>\n",
              "    <tr>\n",
              "      <th>NN_model_1</th>\n",
              "      <td>77.175926</td>\n",
              "      <td>0.781134</td>\n",
              "      <td>0.771759</td>\n",
              "      <td>0.765781</td>\n",
              "    </tr>\n",
              "    <tr>\n",
              "      <th>GRU_model_2</th>\n",
              "      <td>76.666667</td>\n",
              "      <td>0.772771</td>\n",
              "      <td>0.766667</td>\n",
              "      <td>0.759073</td>\n",
              "    </tr>\n",
              "    <tr>\n",
              "      <th>LSTM_model_3</th>\n",
              "      <td>62.222222</td>\n",
              "      <td>0.593366</td>\n",
              "      <td>0.622222</td>\n",
              "      <td>0.580699</td>\n",
              "    </tr>\n",
              "    <tr>\n",
              "      <th>BiDirectional_model_4</th>\n",
              "      <td>77.939815</td>\n",
              "      <td>0.785462</td>\n",
              "      <td>0.779398</td>\n",
              "      <td>0.778507</td>\n",
              "    </tr>\n",
              "    <tr>\n",
              "      <th>CNN_model</th>\n",
              "      <td>72.824074</td>\n",
              "      <td>0.681831</td>\n",
              "      <td>0.728241</td>\n",
              "      <td>0.699142</td>\n",
              "    </tr>\n",
              "    <tr>\n",
              "      <th>TL_model</th>\n",
              "      <td>65.393519</td>\n",
              "      <td>0.651192</td>\n",
              "      <td>0.653935</td>\n",
              "      <td>0.651162</td>\n",
              "    </tr>\n",
              "    <tr>\n",
              "      <th>FT_TL_model</th>\n",
              "      <td>81.481481</td>\n",
              "      <td>0.813569</td>\n",
              "      <td>0.814815</td>\n",
              "      <td>0.811161</td>\n",
              "    </tr>\n",
              "    <tr>\n",
              "      <th>FT_TL_LR_model</th>\n",
              "      <td>82.291667</td>\n",
              "      <td>0.822975</td>\n",
              "      <td>0.822917</td>\n",
              "      <td>0.818733</td>\n",
              "    </tr>\n",
              "  </tbody>\n",
              "</table>\n",
              "</div>\n",
              "      <button class=\"colab-df-convert\" onclick=\"convertToInteractive('df-c593c10f-0a5f-4017-a7ae-e06eb7c3e496')\"\n",
              "              title=\"Convert this dataframe to an interactive table.\"\n",
              "              style=\"display:none;\">\n",
              "        \n",
              "  <svg xmlns=\"http://www.w3.org/2000/svg\" height=\"24px\"viewBox=\"0 0 24 24\"\n",
              "       width=\"24px\">\n",
              "    <path d=\"M0 0h24v24H0V0z\" fill=\"none\"/>\n",
              "    <path d=\"M18.56 5.44l.94 2.06.94-2.06 2.06-.94-2.06-.94-.94-2.06-.94 2.06-2.06.94zm-11 1L8.5 8.5l.94-2.06 2.06-.94-2.06-.94L8.5 2.5l-.94 2.06-2.06.94zm10 10l.94 2.06.94-2.06 2.06-.94-2.06-.94-.94-2.06-.94 2.06-2.06.94z\"/><path d=\"M17.41 7.96l-1.37-1.37c-.4-.4-.92-.59-1.43-.59-.52 0-1.04.2-1.43.59L10.3 9.45l-7.72 7.72c-.78.78-.78 2.05 0 2.83L4 21.41c.39.39.9.59 1.41.59.51 0 1.02-.2 1.41-.59l7.78-7.78 2.81-2.81c.8-.78.8-2.07 0-2.86zM5.41 20L4 18.59l7.72-7.72 1.47 1.35L5.41 20z\"/>\n",
              "  </svg>\n",
              "      </button>\n",
              "      \n",
              "  <style>\n",
              "    .colab-df-container {\n",
              "      display:flex;\n",
              "      flex-wrap:wrap;\n",
              "      gap: 12px;\n",
              "    }\n",
              "\n",
              "    .colab-df-convert {\n",
              "      background-color: #E8F0FE;\n",
              "      border: none;\n",
              "      border-radius: 50%;\n",
              "      cursor: pointer;\n",
              "      display: none;\n",
              "      fill: #1967D2;\n",
              "      height: 32px;\n",
              "      padding: 0 0 0 0;\n",
              "      width: 32px;\n",
              "    }\n",
              "\n",
              "    .colab-df-convert:hover {\n",
              "      background-color: #E2EBFA;\n",
              "      box-shadow: 0px 1px 2px rgba(60, 64, 67, 0.3), 0px 1px 3px 1px rgba(60, 64, 67, 0.15);\n",
              "      fill: #174EA6;\n",
              "    }\n",
              "\n",
              "    [theme=dark] .colab-df-convert {\n",
              "      background-color: #3B4455;\n",
              "      fill: #D2E3FC;\n",
              "    }\n",
              "\n",
              "    [theme=dark] .colab-df-convert:hover {\n",
              "      background-color: #434B5C;\n",
              "      box-shadow: 0px 1px 3px 1px rgba(0, 0, 0, 0.15);\n",
              "      filter: drop-shadow(0px 1px 2px rgba(0, 0, 0, 0.3));\n",
              "      fill: #FFFFFF;\n",
              "    }\n",
              "  </style>\n",
              "\n",
              "      <script>\n",
              "        const buttonEl =\n",
              "          document.querySelector('#df-c593c10f-0a5f-4017-a7ae-e06eb7c3e496 button.colab-df-convert');\n",
              "        buttonEl.style.display =\n",
              "          google.colab.kernel.accessAllowed ? 'block' : 'none';\n",
              "\n",
              "        async function convertToInteractive(key) {\n",
              "          const element = document.querySelector('#df-c593c10f-0a5f-4017-a7ae-e06eb7c3e496');\n",
              "          const dataTable =\n",
              "            await google.colab.kernel.invokeFunction('convertToInteractive',\n",
              "                                                     [key], {});\n",
              "          if (!dataTable) return;\n",
              "\n",
              "          const docLinkHtml = 'Like what you see? Visit the ' +\n",
              "            '<a target=\"_blank\" href=https://colab.research.google.com/notebooks/data_table.ipynb>data table notebook</a>'\n",
              "            + ' to learn more about interactive tables.';\n",
              "          element.innerHTML = '';\n",
              "          dataTable['output_type'] = 'display_data';\n",
              "          await google.colab.output.renderOutput(dataTable, element);\n",
              "          const docLink = document.createElement('div');\n",
              "          docLink.innerHTML = docLinkHtml;\n",
              "          element.appendChild(docLink);\n",
              "        }\n",
              "      </script>\n",
              "    </div>\n",
              "  </div>\n",
              "  "
            ]
          },
          "metadata": {},
          "execution_count": 66
        }
      ],
      "source": [
        "import pandas as pd\n",
        "metrics = pd.DataFrame({\"Base_model\":base_metrics,\n",
        "                        \"NN_model_1\":model_1_metrics,\n",
        "                        \"GRU_model_2\":model_2_metrics,\n",
        "                        \"LSTM_model_3\":model_3_metrics,\n",
        "                        \"BiDirectional_model_4\":model_4_metrics,\n",
        "                        \"CNN_model\":model_5_metrics,\n",
        "                        \"TL_model\":model_6_metrics,\n",
        "                        \"FT_TL_model\":model_7_metrics,\n",
        "                        \"FT_TL_LR_model\":model_9_metrics})\n",
        "metrics.head().T"
      ]
    },
    {
      "cell_type": "code",
      "execution_count": null,
      "metadata": {
        "colab": {
          "base_uri": "https://localhost:8080/",
          "height": 332
        },
        "id": "_qzRCVubZaaj",
        "outputId": "46e363d7-7755-4c1e-a834-36623a96cdb6"
      },
      "outputs": [
        {
          "output_type": "execute_result",
          "data": {
            "text/plain": [
              "                       accuracy  precision    recall  f1_score\n",
              "Base_model             0.619907   0.701872  0.619907  0.519717\n",
              "NN_model_1             0.771759   0.781134  0.771759  0.765781\n",
              "GRU_model_2            0.766667   0.772771  0.766667  0.759073\n",
              "LSTM_model_3           0.622222   0.593366  0.622222  0.580699\n",
              "BiDirectional_model_4  0.779398   0.785462  0.779398  0.778507\n",
              "CNN_model              0.728241   0.681831  0.728241  0.699142\n",
              "TL_model               0.653935   0.651192  0.653935  0.651162\n",
              "FT_TL_model            0.814815   0.813569  0.814815  0.811161\n",
              "FT_TL_LR_model         0.822917   0.822975  0.822917  0.818733"
            ],
            "text/html": [
              "\n",
              "  <div id=\"df-a51b7752-4eca-4fba-8ca0-9b19683dfbb5\">\n",
              "    <div class=\"colab-df-container\">\n",
              "      <div>\n",
              "<style scoped>\n",
              "    .dataframe tbody tr th:only-of-type {\n",
              "        vertical-align: middle;\n",
              "    }\n",
              "\n",
              "    .dataframe tbody tr th {\n",
              "        vertical-align: top;\n",
              "    }\n",
              "\n",
              "    .dataframe thead th {\n",
              "        text-align: right;\n",
              "    }\n",
              "</style>\n",
              "<table border=\"1\" class=\"dataframe\">\n",
              "  <thead>\n",
              "    <tr style=\"text-align: right;\">\n",
              "      <th></th>\n",
              "      <th>accuracy</th>\n",
              "      <th>precision</th>\n",
              "      <th>recall</th>\n",
              "      <th>f1_score</th>\n",
              "    </tr>\n",
              "  </thead>\n",
              "  <tbody>\n",
              "    <tr>\n",
              "      <th>Base_model</th>\n",
              "      <td>0.619907</td>\n",
              "      <td>0.701872</td>\n",
              "      <td>0.619907</td>\n",
              "      <td>0.519717</td>\n",
              "    </tr>\n",
              "    <tr>\n",
              "      <th>NN_model_1</th>\n",
              "      <td>0.771759</td>\n",
              "      <td>0.781134</td>\n",
              "      <td>0.771759</td>\n",
              "      <td>0.765781</td>\n",
              "    </tr>\n",
              "    <tr>\n",
              "      <th>GRU_model_2</th>\n",
              "      <td>0.766667</td>\n",
              "      <td>0.772771</td>\n",
              "      <td>0.766667</td>\n",
              "      <td>0.759073</td>\n",
              "    </tr>\n",
              "    <tr>\n",
              "      <th>LSTM_model_3</th>\n",
              "      <td>0.622222</td>\n",
              "      <td>0.593366</td>\n",
              "      <td>0.622222</td>\n",
              "      <td>0.580699</td>\n",
              "    </tr>\n",
              "    <tr>\n",
              "      <th>BiDirectional_model_4</th>\n",
              "      <td>0.779398</td>\n",
              "      <td>0.785462</td>\n",
              "      <td>0.779398</td>\n",
              "      <td>0.778507</td>\n",
              "    </tr>\n",
              "    <tr>\n",
              "      <th>CNN_model</th>\n",
              "      <td>0.728241</td>\n",
              "      <td>0.681831</td>\n",
              "      <td>0.728241</td>\n",
              "      <td>0.699142</td>\n",
              "    </tr>\n",
              "    <tr>\n",
              "      <th>TL_model</th>\n",
              "      <td>0.653935</td>\n",
              "      <td>0.651192</td>\n",
              "      <td>0.653935</td>\n",
              "      <td>0.651162</td>\n",
              "    </tr>\n",
              "    <tr>\n",
              "      <th>FT_TL_model</th>\n",
              "      <td>0.814815</td>\n",
              "      <td>0.813569</td>\n",
              "      <td>0.814815</td>\n",
              "      <td>0.811161</td>\n",
              "    </tr>\n",
              "    <tr>\n",
              "      <th>FT_TL_LR_model</th>\n",
              "      <td>0.822917</td>\n",
              "      <td>0.822975</td>\n",
              "      <td>0.822917</td>\n",
              "      <td>0.818733</td>\n",
              "    </tr>\n",
              "  </tbody>\n",
              "</table>\n",
              "</div>\n",
              "      <button class=\"colab-df-convert\" onclick=\"convertToInteractive('df-a51b7752-4eca-4fba-8ca0-9b19683dfbb5')\"\n",
              "              title=\"Convert this dataframe to an interactive table.\"\n",
              "              style=\"display:none;\">\n",
              "        \n",
              "  <svg xmlns=\"http://www.w3.org/2000/svg\" height=\"24px\"viewBox=\"0 0 24 24\"\n",
              "       width=\"24px\">\n",
              "    <path d=\"M0 0h24v24H0V0z\" fill=\"none\"/>\n",
              "    <path d=\"M18.56 5.44l.94 2.06.94-2.06 2.06-.94-2.06-.94-.94-2.06-.94 2.06-2.06.94zm-11 1L8.5 8.5l.94-2.06 2.06-.94-2.06-.94L8.5 2.5l-.94 2.06-2.06.94zm10 10l.94 2.06.94-2.06 2.06-.94-2.06-.94-.94-2.06-.94 2.06-2.06.94z\"/><path d=\"M17.41 7.96l-1.37-1.37c-.4-.4-.92-.59-1.43-.59-.52 0-1.04.2-1.43.59L10.3 9.45l-7.72 7.72c-.78.78-.78 2.05 0 2.83L4 21.41c.39.39.9.59 1.41.59.51 0 1.02-.2 1.41-.59l7.78-7.78 2.81-2.81c.8-.78.8-2.07 0-2.86zM5.41 20L4 18.59l7.72-7.72 1.47 1.35L5.41 20z\"/>\n",
              "  </svg>\n",
              "      </button>\n",
              "      \n",
              "  <style>\n",
              "    .colab-df-container {\n",
              "      display:flex;\n",
              "      flex-wrap:wrap;\n",
              "      gap: 12px;\n",
              "    }\n",
              "\n",
              "    .colab-df-convert {\n",
              "      background-color: #E8F0FE;\n",
              "      border: none;\n",
              "      border-radius: 50%;\n",
              "      cursor: pointer;\n",
              "      display: none;\n",
              "      fill: #1967D2;\n",
              "      height: 32px;\n",
              "      padding: 0 0 0 0;\n",
              "      width: 32px;\n",
              "    }\n",
              "\n",
              "    .colab-df-convert:hover {\n",
              "      background-color: #E2EBFA;\n",
              "      box-shadow: 0px 1px 2px rgba(60, 64, 67, 0.3), 0px 1px 3px 1px rgba(60, 64, 67, 0.15);\n",
              "      fill: #174EA6;\n",
              "    }\n",
              "\n",
              "    [theme=dark] .colab-df-convert {\n",
              "      background-color: #3B4455;\n",
              "      fill: #D2E3FC;\n",
              "    }\n",
              "\n",
              "    [theme=dark] .colab-df-convert:hover {\n",
              "      background-color: #434B5C;\n",
              "      box-shadow: 0px 1px 3px 1px rgba(0, 0, 0, 0.15);\n",
              "      filter: drop-shadow(0px 1px 2px rgba(0, 0, 0, 0.3));\n",
              "      fill: #FFFFFF;\n",
              "    }\n",
              "  </style>\n",
              "\n",
              "      <script>\n",
              "        const buttonEl =\n",
              "          document.querySelector('#df-a51b7752-4eca-4fba-8ca0-9b19683dfbb5 button.colab-df-convert');\n",
              "        buttonEl.style.display =\n",
              "          google.colab.kernel.accessAllowed ? 'block' : 'none';\n",
              "\n",
              "        async function convertToInteractive(key) {\n",
              "          const element = document.querySelector('#df-a51b7752-4eca-4fba-8ca0-9b19683dfbb5');\n",
              "          const dataTable =\n",
              "            await google.colab.kernel.invokeFunction('convertToInteractive',\n",
              "                                                     [key], {});\n",
              "          if (!dataTable) return;\n",
              "\n",
              "          const docLinkHtml = 'Like what you see? Visit the ' +\n",
              "            '<a target=\"_blank\" href=https://colab.research.google.com/notebooks/data_table.ipynb>data table notebook</a>'\n",
              "            + ' to learn more about interactive tables.';\n",
              "          element.innerHTML = '';\n",
              "          dataTable['output_type'] = 'display_data';\n",
              "          await google.colab.output.renderOutput(dataTable, element);\n",
              "          const docLink = document.createElement('div');\n",
              "          docLink.innerHTML = docLinkHtml;\n",
              "          element.appendChild(docLink);\n",
              "        }\n",
              "      </script>\n",
              "    </div>\n",
              "  </div>\n",
              "  "
            ]
          },
          "metadata": {},
          "execution_count": 67
        }
      ],
      "source": [
        "final_metrics = metrics.T\n",
        "final_metrics[\"accuracy\"] = final_metrics[\"accuracy\"]/100\n",
        "final_metrics"
      ]
    },
    {
      "cell_type": "code",
      "execution_count": null,
      "metadata": {
        "colab": {
          "base_uri": "https://localhost:8080/",
          "height": 547
        },
        "id": "wAUJy_7FaILD",
        "outputId": "54c18a03-245e-4c73-95f2-bdd1a6e8a479"
      },
      "outputs": [
        {
          "output_type": "execute_result",
          "data": {
            "text/plain": [
              "<matplotlib.axes._subplots.AxesSubplot at 0x7ff5ca021390>"
            ]
          },
          "metadata": {},
          "execution_count": 68
        },
        {
          "output_type": "display_data",
          "data": {
            "text/plain": [
              "<Figure size 720x504 with 1 Axes>"
            ],
            "image/png": "[encoded data removed]"
          },
          "metadata": {
            "needs_background": "light"
          }
        }
      ],
      "source": [
        "final_metrics.sort_values(\"f1_score\",ascending=False).plot(kind=\"bar\",figsize=(10,7))"
      ]
    },
    {
      "cell_type": "markdown",
      "metadata": {
        "id": "uGGuFg6xaP2M"
      },
      "source": [
        "##Testing the model 🐱‍👤"
      ]
    },
    {
      "cell_type": "code",
      "execution_count": null,
      "metadata": {
        "colab": {
          "base_uri": "https://localhost:8080/",
          "height": 424
        },
        "id": "ALj_kHGGbPRD",
        "outputId": "cf54655b-c8c4-4ad7-aecb-f16f49639c35"
      },
      "outputs": [
        {
          "output_type": "execute_result",
          "data": {
            "text/plain": [
              "                                                   Text\n",
              "0     im feeling rather rotten so im not very ambiti...\n",
              "1     im updating my blog because i feel shitty;sadness\n",
              "2     i never make her separate from me because i do...\n",
              "3     i left with my bouquet of red and yellow tulip...\n",
              "4     i was feeling a little vain when i did this on...\n",
              "...                                                 ...\n",
              "1995  i just keep feeling like someone is being unki...\n",
              "1996  im feeling a little cranky negative after this...\n",
              "1997  i feel that i am useful to my people and that ...\n",
              "1998  im feeling more comfortable with derby i feel ...\n",
              "1999  i feel all weird when i have to meet w people ...\n",
              "\n",
              "[2000 rows x 1 columns]"
            ],
            "text/html": [
              "\n",
              "  <div id=\"df-a15a0f97-7d5f-4f63-b496-97c2bf8e16aa\">\n",
              "    <div class=\"colab-df-container\">\n",
              "      <div>\n",
              "<style scoped>\n",
              "    .dataframe tbody tr th:only-of-type {\n",
              "        vertical-align: middle;\n",
              "    }\n",
              "\n",
              "    .dataframe tbody tr th {\n",
              "        vertical-align: top;\n",
              "    }\n",
              "\n",
              "    .dataframe thead th {\n",
              "        text-align: right;\n",
              "    }\n",
              "</style>\n",
              "<table border=\"1\" class=\"dataframe\">\n",
              "  <thead>\n",
              "    <tr style=\"text-align: right;\">\n",
              "      <th></th>\n",
              "      <th>Text</th>\n",
              "    </tr>\n",
              "  </thead>\n",
              "  <tbody>\n",
              "    <tr>\n",
              "      <th>0</th>\n",
              "      <td>im feeling rather rotten so im not very ambiti...</td>\n",
              "    </tr>\n",
              "    <tr>\n",
              "      <th>1</th>\n",
              "      <td>im updating my blog because i feel shitty;sadness</td>\n",
              "    </tr>\n",
              "    <tr>\n",
              "      <th>2</th>\n",
              "      <td>i never make her separate from me because i do...</td>\n",
              "    </tr>\n",
              "    <tr>\n",
              "      <th>3</th>\n",
              "      <td>i left with my bouquet of red and yellow tulip...</td>\n",
              "    </tr>\n",
              "    <tr>\n",
              "      <th>4</th>\n",
              "      <td>i was feeling a little vain when i did this on...</td>\n",
              "    </tr>\n",
              "    <tr>\n",
              "      <th>...</th>\n",
              "      <td>...</td>\n",
              "    </tr>\n",
              "    <tr>\n",
              "      <th>1995</th>\n",
              "      <td>i just keep feeling like someone is being unki...</td>\n",
              "    </tr>\n",
              "    <tr>\n",
              "      <th>1996</th>\n",
              "      <td>im feeling a little cranky negative after this...</td>\n",
              "    </tr>\n",
              "    <tr>\n",
              "      <th>1997</th>\n",
              "      <td>i feel that i am useful to my people and that ...</td>\n",
              "    </tr>\n",
              "    <tr>\n",
              "      <th>1998</th>\n",
              "      <td>im feeling more comfortable with derby i feel ...</td>\n",
              "    </tr>\n",
              "    <tr>\n",
              "      <th>1999</th>\n",
              "      <td>i feel all weird when i have to meet w people ...</td>\n",
              "    </tr>\n",
              "  </tbody>\n",
              "</table>\n",
              "<p>2000 rows × 1 columns</p>\n",
              "</div>\n",
              "      <button class=\"colab-df-convert\" onclick=\"convertToInteractive('df-a15a0f97-7d5f-4f63-b496-97c2bf8e16aa')\"\n",
              "              title=\"Convert this dataframe to an interactive table.\"\n",
              "              style=\"display:none;\">\n",
              "        \n",
              "  <svg xmlns=\"http://www.w3.org/2000/svg\" height=\"24px\"viewBox=\"0 0 24 24\"\n",
              "       width=\"24px\">\n",
              "    <path d=\"M0 0h24v24H0V0z\" fill=\"none\"/>\n",
              "    <path d=\"M18.56 5.44l.94 2.06.94-2.06 2.06-.94-2.06-.94-.94-2.06-.94 2.06-2.06.94zm-11 1L8.5 8.5l.94-2.06 2.06-.94-2.06-.94L8.5 2.5l-.94 2.06-2.06.94zm10 10l.94 2.06.94-2.06 2.06-.94-2.06-.94-.94-2.06-.94 2.06-2.06.94z\"/><path d=\"M17.41 7.96l-1.37-1.37c-.4-.4-.92-.59-1.43-.59-.52 0-1.04.2-1.43.59L10.3 9.45l-7.72 7.72c-.78.78-.78 2.05 0 2.83L4 21.41c.39.39.9.59 1.41.59.51 0 1.02-.2 1.41-.59l7.78-7.78 2.81-2.81c.8-.78.8-2.07 0-2.86zM5.41 20L4 18.59l7.72-7.72 1.47 1.35L5.41 20z\"/>\n",
              "  </svg>\n",
              "      </button>\n",
              "      \n",
              "  <style>\n",
              "    .colab-df-container {\n",
              "      display:flex;\n",
              "      flex-wrap:wrap;\n",
              "      gap: 12px;\n",
              "    }\n",
              "\n",
              "    .colab-df-convert {\n",
              "      background-color: #E8F0FE;\n",
              "      border: none;\n",
              "      border-radius: 50%;\n",
              "      cursor: pointer;\n",
              "      display: none;\n",
              "      fill: #1967D2;\n",
              "      height: 32px;\n",
              "      padding: 0 0 0 0;\n",
              "      width: 32px;\n",
              "    }\n",
              "\n",
              "    .colab-df-convert:hover {\n",
              "      background-color: #E2EBFA;\n",
              "      box-shadow: 0px 1px 2px rgba(60, 64, 67, 0.3), 0px 1px 3px 1px rgba(60, 64, 67, 0.15);\n",
              "      fill: #174EA6;\n",
              "    }\n",
              "\n",
              "    [theme=dark] .colab-df-convert {\n",
              "      background-color: #3B4455;\n",
              "      fill: #D2E3FC;\n",
              "    }\n",
              "\n",
              "    [theme=dark] .colab-df-convert:hover {\n",
              "      background-color: #434B5C;\n",
              "      box-shadow: 0px 1px 3px 1px rgba(0, 0, 0, 0.15);\n",
              "      filter: drop-shadow(0px 1px 2px rgba(0, 0, 0, 0.3));\n",
              "      fill: #FFFFFF;\n",
              "    }\n",
              "  </style>\n",
              "\n",
              "      <script>\n",
              "        const buttonEl =\n",
              "          document.querySelector('#df-a15a0f97-7d5f-4f63-b496-97c2bf8e16aa button.colab-df-convert');\n",
              "        buttonEl.style.display =\n",
              "          google.colab.kernel.accessAllowed ? 'block' : 'none';\n",
              "\n",
              "        async function convertToInteractive(key) {\n",
              "          const element = document.querySelector('#df-a15a0f97-7d5f-4f63-b496-97c2bf8e16aa');\n",
              "          const dataTable =\n",
              "            await google.colab.kernel.invokeFunction('convertToInteractive',\n",
              "                                                     [key], {});\n",
              "          if (!dataTable) return;\n",
              "\n",
              "          const docLinkHtml = 'Like what you see? Visit the ' +\n",
              "            '<a target=\"_blank\" href=https://colab.research.google.com/notebooks/data_table.ipynb>data table notebook</a>'\n",
              "            + ' to learn more about interactive tables.';\n",
              "          element.innerHTML = '';\n",
              "          dataTable['output_type'] = 'display_data';\n",
              "          await google.colab.output.renderOutput(dataTable, element);\n",
              "          const docLink = document.createElement('div');\n",
              "          docLink.innerHTML = docLinkHtml;\n",
              "          element.appendChild(docLink);\n",
              "        }\n",
              "      </script>\n",
              "    </div>\n",
              "  </div>\n",
              "  "
            ]
          },
          "metadata": {},
          "execution_count": 69
        }
      ],
      "source": [
        "test_dir = \"/content/test.txt\"\n",
        "test_df = pd.read_csv(test_dir,names=[\"Text\"])\n",
        "test_df"
      ]
    },
    {
      "cell_type": "code",
      "execution_count": null,
      "metadata": {
        "id": "JIE21ljXbbXr"
      },
      "outputs": [],
      "source": [
        "test_data = [test_df[\"Text\"][i].split(\";\")for i in range(len(test_df))]"
      ]
    },
    {
      "cell_type": "code",
      "execution_count": null,
      "metadata": {
        "id": "AGdHaZu8b20z"
      },
      "outputs": [],
      "source": [
        "class predict():\n",
        "  def __init__(self,model,class_names,data,o_class):\n",
        "    self.model = model\n",
        "    self.class_names=class_names\n",
        "    self.data = data\n",
        "    self.o_class = o_class\n",
        "    self.pred_class=None\n",
        "    self.pred_prob= None\n",
        "  \n",
        "  def prediction(self):\n",
        "    model = self.model\n",
        "    pred = model.predict(tf.expand_dims(self.data,axis=0))\n",
        "    pred_probs = pred.max()\n",
        "    pred_index = tf.argmax(pred[0],axis=0)\n",
        "    class_name = self.class_names[pred_index]\n",
        "    self.pred_class = class_name\n",
        "    self.pred_prob = pred_probs\n",
        "    return class_name,pred_probs\n",
        "  \n",
        "  def text_with_pred(self):\n",
        "    print(f\"the text is :\\n{self.data} \\n the predicted class is : {self.pred_class}\")\n",
        "    print(f\"the original class is :) : {self.o_class}\")"
      ]
    },
    {
      "cell_type": "code",
      "source": [
        "test_data_text = [test_data[i][0]for i in range(len(test_data))]\n",
        "label = [test_data[i][1]for i in range(len(test_data))]"
      ],
      "metadata": {
        "id": "JCTIO-TA_iuX"
      },
      "execution_count": null,
      "outputs": []
    },
    {
      "cell_type": "code",
      "source": [
        "test_df = pd.DataFrame([test_data_text,label])\n",
        "test_df = test_df.T"
      ],
      "metadata": {
        "id": "CULN4h0y_RAp"
      },
      "execution_count": null,
      "outputs": []
    },
    {
      "cell_type": "code",
      "source": [
        "test_text = test_df[0]\n",
        "test_text"
      ],
      "metadata": {
        "colab": {
          "base_uri": "https://localhost:8080/"
        },
        "id": "dV_FAGSSAXrB",
        "outputId": "6ae76e7b-0127-4a23-bfed-0d705a0165fb"
      },
      "execution_count": null,
      "outputs": [
        {
          "output_type": "execute_result",
          "data": {
            "text/plain": [
              "0       im feeling rather rotten so im not very ambiti...\n",
              "1               im updating my blog because i feel shitty\n",
              "2       i never make her separate from me because i do...\n",
              "3       i left with my bouquet of red and yellow tulip...\n",
              "4         i was feeling a little vain when i did this one\n",
              "                              ...                        \n",
              "1995    i just keep feeling like someone is being unki...\n",
              "1996    im feeling a little cranky negative after this...\n",
              "1997    i feel that i am useful to my people and that ...\n",
              "1998    im feeling more comfortable with derby i feel ...\n",
              "1999    i feel all weird when i have to meet w people ...\n",
              "Name: 0, Length: 2000, dtype: object"
            ]
          },
          "metadata": {},
          "execution_count": 75
        }
      ]
    },
    {
      "cell_type": "code",
      "source": [
        "lab = le.transform(test_df[1])\n",
        "lab"
      ],
      "metadata": {
        "colab": {
          "base_uri": "https://localhost:8080/"
        },
        "id": "blJAsUvcAqCB",
        "outputId": "97324509-42b5-4fe5-9c89-d363ad2b05d1"
      },
      "execution_count": null,
      "outputs": [
        {
          "output_type": "execute_result",
          "data": {
            "text/plain": [
              "array([4, 4, 4, ..., 2, 2, 1])"
            ]
          },
          "metadata": {},
          "execution_count": 76
        }
      ]
    },
    {
      "cell_type": "code",
      "execution_count": null,
      "metadata": {
        "id": "YwiQ2_4wkUCz"
      },
      "outputs": [],
      "source": [
        "test_dat = [\"it's so messed up\",\"None\"]"
      ]
    },
    {
      "cell_type": "code",
      "execution_count": null,
      "metadata": {
        "colab": {
          "base_uri": "https://localhost:8080/"
        },
        "id": "uQ6-Bnz9eifD",
        "outputId": "c1527349-9cd5-4284-beae-3e955f8f5d17"
      },
      "outputs": [
        {
          "output_type": "stream",
          "name": "stdout",
          "text": [
            "1/1 [==============================] - 0s 19ms/step\n"
          ]
        },
        {
          "output_type": "execute_result",
          "data": {
            "text/plain": [
              "('sadness', 0.6600955)"
            ]
          },
          "metadata": {},
          "execution_count": 140
        }
      ],
      "source": [
        "make_pred = predict(model_9,class_names,test_dat[0],test_dat[1])\n",
        "make_pred.prediction()"
      ]
    },
    {
      "cell_type": "code",
      "execution_count": null,
      "metadata": {
        "colab": {
          "base_uri": "https://localhost:8080/"
        },
        "id": "xBPpPeRKexzD",
        "outputId": "4f65602e-2870-4222-d044-6c285fc76c23"
      },
      "outputs": [
        {
          "output_type": "stream",
          "name": "stdout",
          "text": [
            "the text is :\n",
            "it's so messed up \n",
            " the predicted class is : sadness\n",
            "the original class is :) : None\n"
          ]
        }
      ],
      "source": [
        "make_pred.text_with_pred()"
      ]
    },
    {
      "cell_type": "markdown",
      "source": [
        "##Confusion_matrix🤓"
      ],
      "metadata": {
        "id": "wBRNNmbEcVF1"
      }
    },
    {
      "cell_type": "code",
      "source": [
        "lab_l = lab.tolist()"
      ],
      "metadata": {
        "id": "ZxKzgStOepGD"
      },
      "execution_count": null,
      "outputs": []
    },
    {
      "cell_type": "code",
      "source": [
        "test_df[\"lable\"] = lab_l\n",
        "test_df"
      ],
      "metadata": {
        "colab": {
          "base_uri": "https://localhost:8080/",
          "height": 424
        },
        "id": "Rbx_7zEue_U8",
        "outputId": "6b67acb9-abf2-42ca-e091-3da030acfdb6"
      },
      "execution_count": null,
      "outputs": [
        {
          "output_type": "execute_result",
          "data": {
            "text/plain": [
              "                                                      0        1  lable\n",
              "0     im feeling rather rotten so im not very ambiti...  sadness      4\n",
              "1             im updating my blog because i feel shitty  sadness      4\n",
              "2     i never make her separate from me because i do...  sadness      4\n",
              "3     i left with my bouquet of red and yellow tulip...      joy      2\n",
              "4       i was feeling a little vain when i did this one  sadness      4\n",
              "...                                                 ...      ...    ...\n",
              "1995  i just keep feeling like someone is being unki...    anger      0\n",
              "1996  im feeling a little cranky negative after this...    anger      0\n",
              "1997  i feel that i am useful to my people and that ...      joy      2\n",
              "1998  im feeling more comfortable with derby i feel ...      joy      2\n",
              "1999  i feel all weird when i have to meet w people ...     fear      1\n",
              "\n",
              "[2000 rows x 3 columns]"
            ],
            "text/html": [
              "\n",
              "  <div id=\"df-598e604b-6b12-4b27-ab87-3615821a8242\">\n",
              "    <div class=\"colab-df-container\">\n",
              "      <div>\n",
              "<style scoped>\n",
              "    .dataframe tbody tr th:only-of-type {\n",
              "        vertical-align: middle;\n",
              "    }\n",
              "\n",
              "    .dataframe tbody tr th {\n",
              "        vertical-align: top;\n",
              "    }\n",
              "\n",
              "    .dataframe thead th {\n",
              "        text-align: right;\n",
              "    }\n",
              "</style>\n",
              "<table border=\"1\" class=\"dataframe\">\n",
              "  <thead>\n",
              "    <tr style=\"text-align: right;\">\n",
              "      <th></th>\n",
              "      <th>0</th>\n",
              "      <th>1</th>\n",
              "      <th>lable</th>\n",
              "    </tr>\n",
              "  </thead>\n",
              "  <tbody>\n",
              "    <tr>\n",
              "      <th>0</th>\n",
              "      <td>im feeling rather rotten so im not very ambiti...</td>\n",
              "      <td>sadness</td>\n",
              "      <td>4</td>\n",
              "    </tr>\n",
              "    <tr>\n",
              "      <th>1</th>\n",
              "      <td>im updating my blog because i feel shitty</td>\n",
              "      <td>sadness</td>\n",
              "      <td>4</td>\n",
              "    </tr>\n",
              "    <tr>\n",
              "      <th>2</th>\n",
              "      <td>i never make her separate from me because i do...</td>\n",
              "      <td>sadness</td>\n",
              "      <td>4</td>\n",
              "    </tr>\n",
              "    <tr>\n",
              "      <th>3</th>\n",
              "      <td>i left with my bouquet of red and yellow tulip...</td>\n",
              "      <td>joy</td>\n",
              "      <td>2</td>\n",
              "    </tr>\n",
              "    <tr>\n",
              "      <th>4</th>\n",
              "      <td>i was feeling a little vain when i did this one</td>\n",
              "      <td>sadness</td>\n",
              "      <td>4</td>\n",
              "    </tr>\n",
              "    <tr>\n",
              "      <th>...</th>\n",
              "      <td>...</td>\n",
              "      <td>...</td>\n",
              "      <td>...</td>\n",
              "    </tr>\n",
              "    <tr>\n",
              "      <th>1995</th>\n",
              "      <td>i just keep feeling like someone is being unki...</td>\n",
              "      <td>anger</td>\n",
              "      <td>0</td>\n",
              "    </tr>\n",
              "    <tr>\n",
              "      <th>1996</th>\n",
              "      <td>im feeling a little cranky negative after this...</td>\n",
              "      <td>anger</td>\n",
              "      <td>0</td>\n",
              "    </tr>\n",
              "    <tr>\n",
              "      <th>1997</th>\n",
              "      <td>i feel that i am useful to my people and that ...</td>\n",
              "      <td>joy</td>\n",
              "      <td>2</td>\n",
              "    </tr>\n",
              "    <tr>\n",
              "      <th>1998</th>\n",
              "      <td>im feeling more comfortable with derby i feel ...</td>\n",
              "      <td>joy</td>\n",
              "      <td>2</td>\n",
              "    </tr>\n",
              "    <tr>\n",
              "      <th>1999</th>\n",
              "      <td>i feel all weird when i have to meet w people ...</td>\n",
              "      <td>fear</td>\n",
              "      <td>1</td>\n",
              "    </tr>\n",
              "  </tbody>\n",
              "</table>\n",
              "<p>2000 rows × 3 columns</p>\n",
              "</div>\n",
              "      <button class=\"colab-df-convert\" onclick=\"convertToInteractive('df-598e604b-6b12-4b27-ab87-3615821a8242')\"\n",
              "              title=\"Convert this dataframe to an interactive table.\"\n",
              "              style=\"display:none;\">\n",
              "        \n",
              "  <svg xmlns=\"http://www.w3.org/2000/svg\" height=\"24px\"viewBox=\"0 0 24 24\"\n",
              "       width=\"24px\">\n",
              "    <path d=\"M0 0h24v24H0V0z\" fill=\"none\"/>\n",
              "    <path d=\"M18.56 5.44l.94 2.06.94-2.06 2.06-.94-2.06-.94-.94-2.06-.94 2.06-2.06.94zm-11 1L8.5 8.5l.94-2.06 2.06-.94-2.06-.94L8.5 2.5l-.94 2.06-2.06.94zm10 10l.94 2.06.94-2.06 2.06-.94-2.06-.94-.94-2.06-.94 2.06-2.06.94z\"/><path d=\"M17.41 7.96l-1.37-1.37c-.4-.4-.92-.59-1.43-.59-.52 0-1.04.2-1.43.59L10.3 9.45l-7.72 7.72c-.78.78-.78 2.05 0 2.83L4 21.41c.39.39.9.59 1.41.59.51 0 1.02-.2 1.41-.59l7.78-7.78 2.81-2.81c.8-.78.8-2.07 0-2.86zM5.41 20L4 18.59l7.72-7.72 1.47 1.35L5.41 20z\"/>\n",
              "  </svg>\n",
              "      </button>\n",
              "      \n",
              "  <style>\n",
              "    .colab-df-container {\n",
              "      display:flex;\n",
              "      flex-wrap:wrap;\n",
              "      gap: 12px;\n",
              "    }\n",
              "\n",
              "    .colab-df-convert {\n",
              "      background-color: #E8F0FE;\n",
              "      border: none;\n",
              "      border-radius: 50%;\n",
              "      cursor: pointer;\n",
              "      display: none;\n",
              "      fill: #1967D2;\n",
              "      height: 32px;\n",
              "      padding: 0 0 0 0;\n",
              "      width: 32px;\n",
              "    }\n",
              "\n",
              "    .colab-df-convert:hover {\n",
              "      background-color: #E2EBFA;\n",
              "      box-shadow: 0px 1px 2px rgba(60, 64, 67, 0.3), 0px 1px 3px 1px rgba(60, 64, 67, 0.15);\n",
              "      fill: #174EA6;\n",
              "    }\n",
              "\n",
              "    [theme=dark] .colab-df-convert {\n",
              "      background-color: #3B4455;\n",
              "      fill: #D2E3FC;\n",
              "    }\n",
              "\n",
              "    [theme=dark] .colab-df-convert:hover {\n",
              "      background-color: #434B5C;\n",
              "      box-shadow: 0px 1px 3px 1px rgba(0, 0, 0, 0.15);\n",
              "      filter: drop-shadow(0px 1px 2px rgba(0, 0, 0, 0.3));\n",
              "      fill: #FFFFFF;\n",
              "    }\n",
              "  </style>\n",
              "\n",
              "      <script>\n",
              "        const buttonEl =\n",
              "          document.querySelector('#df-598e604b-6b12-4b27-ab87-3615821a8242 button.colab-df-convert');\n",
              "        buttonEl.style.display =\n",
              "          google.colab.kernel.accessAllowed ? 'block' : 'none';\n",
              "\n",
              "        async function convertToInteractive(key) {\n",
              "          const element = document.querySelector('#df-598e604b-6b12-4b27-ab87-3615821a8242');\n",
              "          const dataTable =\n",
              "            await google.colab.kernel.invokeFunction('convertToInteractive',\n",
              "                                                     [key], {});\n",
              "          if (!dataTable) return;\n",
              "\n",
              "          const docLinkHtml = 'Like what you see? Visit the ' +\n",
              "            '<a target=\"_blank\" href=https://colab.research.google.com/notebooks/data_table.ipynb>data table notebook</a>'\n",
              "            + ' to learn more about interactive tables.';\n",
              "          element.innerHTML = '';\n",
              "          dataTable['output_type'] = 'display_data';\n",
              "          await google.colab.output.renderOutput(dataTable, element);\n",
              "          const docLink = document.createElement('div');\n",
              "          docLink.innerHTML = docLinkHtml;\n",
              "          element.appendChild(docLink);\n",
              "        }\n",
              "      </script>\n",
              "    </div>\n",
              "  </div>\n",
              "  "
            ]
          },
          "metadata": {},
          "execution_count": 124
        }
      ]
    },
    {
      "cell_type": "code",
      "source": [
        "test_data,test_1_data,test_label,test_1_label = train_test_split(test_text,test_df[\"lable\"],test_size=0.2)\n",
        "test_data.shape,test_1_data.shape"
      ],
      "metadata": {
        "colab": {
          "base_uri": "https://localhost:8080/"
        },
        "id": "1Nx0VZEkcxAk",
        "outputId": "caac99cb-f919-4d0d-d935-eecbba590e91"
      },
      "execution_count": null,
      "outputs": [
        {
          "output_type": "execute_result",
          "data": {
            "text/plain": [
              "((1600,), (400,))"
            ]
          },
          "metadata": {},
          "execution_count": 126
        }
      ]
    },
    {
      "cell_type": "code",
      "source": [
        "pred = model_9.predict(test_data)\n",
        "pred"
      ],
      "metadata": {
        "colab": {
          "base_uri": "https://localhost:8080/"
        },
        "id": "yYvx7Duo9aYq",
        "outputId": "60f31a15-8773-4708-eaef-6ceb6c3c7164"
      },
      "execution_count": null,
      "outputs": [
        {
          "output_type": "stream",
          "name": "stdout",
          "text": [
            "50/50 [==============================] - 0s 9ms/step\n"
          ]
        },
        {
          "output_type": "execute_result",
          "data": {
            "text/plain": [
              "array([[0.0128659 , 0.00823489, 0.01030783, 0.00621504, 0.9542286 ,\n",
              "        0.00814775],\n",
              "       [0.00884974, 0.00853089, 0.9308441 , 0.02514934, 0.01862314,\n",
              "        0.00800278],\n",
              "       [0.02918915, 0.7816608 , 0.01648967, 0.05605145, 0.02834915,\n",
              "        0.08825978],\n",
              "       ...,\n",
              "       [0.31207636, 0.01558615, 0.06510009, 0.01625547, 0.5821817 ,\n",
              "        0.00880029],\n",
              "       [0.00622306, 0.00697721, 0.94521314, 0.01706574, 0.01432151,\n",
              "        0.01019933],\n",
              "       [0.5570331 , 0.01304414, 0.01501546, 0.04759273, 0.34726617,\n",
              "        0.0200484 ]], dtype=float32)"
            ]
          },
          "metadata": {},
          "execution_count": 128
        }
      ]
    },
    {
      "cell_type": "code",
      "source": [
        "pred = tf.argmax(pred,axis=1)\n",
        "pred"
      ],
      "metadata": {
        "id": "He4SIVjX-Dx4",
        "colab": {
          "base_uri": "https://localhost:8080/"
        },
        "outputId": "21b53ddb-30a1-4a1e-ae32-bcd331afd45d"
      },
      "execution_count": null,
      "outputs": [
        {
          "output_type": "execute_result",
          "data": {
            "text/plain": [
              "<tf.Tensor: shape=(1600,), dtype=int64, numpy=array([4, 2, 1, ..., 4, 2, 0])>"
            ]
          },
          "metadata": {},
          "execution_count": 129
        }
      ]
    },
    {
      "cell_type": "code",
      "source": [
        "from sklearn.metrics import confusion_matrix\n",
        "cm = confusion_matrix(test_label,pred)\n",
        "import seaborn as sns\n",
        "import matplotlib.pyplot as plt\n",
        "plt.figure(figsize=(10,7))\n",
        "sns.heatmap(cm,annot=True,fmt=\".2f\",xticklabels=[i for i in class_names],yticklabels=[i for i in class_names])"
      ],
      "metadata": {
        "id": "S_g0vn6n8qgi",
        "colab": {
          "base_uri": "https://localhost:8080/",
          "height": 445
        },
        "outputId": "815c233a-ee90-4eca-c956-38549e7bbfc9"
      },
      "execution_count": null,
      "outputs": [
        {
          "output_type": "execute_result",
          "data": {
            "text/plain": [
              "<matplotlib.axes._subplots.AxesSubplot at 0x7ff3c0702550>"
            ]
          },
          "metadata": {},
          "execution_count": 132
        },
        {
          "output_type": "display_data",
          "data": {
            "text/plain": [
              "<Figure size 720x504 with 2 Axes>"
            ],
            "image/png": "[encoded data removed]"
          },
          "metadata": {
            "needs_background": "light"
          }
        }
      ]
    },
    {
      "cell_type": "code",
      "source": [
        "model_9.evaluate(test_data,test_label)"
      ],
      "metadata": {
        "id": "NxhF4P4PC1a5",
        "colab": {
          "base_uri": "https://localhost:8080/"
        },
        "outputId": "25384d36-0ffe-4da9-ea99-410c791bf0a9"
      },
      "execution_count": null,
      "outputs": [
        {
          "output_type": "stream",
          "name": "stdout",
          "text": [
            "50/50 [==============================] - 0s 10ms/step - loss: 0.5206 - accuracy: 0.8213\n"
          ]
        },
        {
          "output_type": "execute_result",
          "data": {
            "text/plain": [
              "[0.5206258893013, 0.8212500214576721]"
            ]
          },
          "metadata": {},
          "execution_count": 127
        }
      ]
    },
    {
      "cell_type": "code",
      "source": [],
      "metadata": {
        "id": "I9_f5EnEePP0"
      },
      "execution_count": null,
      "outputs": []
    }
  ],
  "metadata": {
    "accelerator": "GPU",
    "colab": {
      "collapsed_sections": [],
      "toc_visible": true,
      "provenance": [],
      "authorship_tag": "ABX9TyPez7uwZmQFZtozGpfkqp+k",
      "include_colab_link": true
    },
    "kernelspec": {
      "display_name": "Python 3",
      "name": "python3"
    },
    "language_info": {
      "name": "python"
    }
  },
  "nbformat": 4,
  "nbformat_minor": 0
}