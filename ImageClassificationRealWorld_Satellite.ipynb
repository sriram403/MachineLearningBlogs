{
  "nbformat": 4,
  "nbformat_minor": 0,
  "metadata": {
    "colab": {
      "name": "ImageClassificationRealWorld_Satellite.ipynb",
      "provenance": [],
      "collapsed_sections": [],
      "toc_visible": true,
      "mount_file_id": "1wt12Vzo4PoXnEdW5HZj5AxEGBBn_OR0I",
      "authorship_tag": "ABX9TyPXlmFmD/LrfPGC/ba9k0B+",
      "include_colab_link": true
    },
    "kernelspec": {
      "name": "python3",
      "display_name": "Python 3"
    },
    "language_info": {
      "name": "python"
    },
    "accelerator": "GPU",
    "gpuClass": "standard"
  },
  "cells": [
    {
      "cell_type": "markdown",
      "metadata": {
        "id": "view-in-github",
        "colab_type": "text"
      },
      "source": [
        "<a href=\"https://colab.research.google.com/github/sriram403/MachineLearningBlogs/blob/main/ImageClassificationRealWorld_Satellite.ipynb\" target=\"_parent\"><img src=\"https://colab.research.google.com/assets/colab-badge.svg\" alt=\"Open In Colab\"/></a>"
      ]
    },
    {
      "cell_type": "markdown",
      "source": [
        "#Satellite image Classification Dataset-RSI-CB256 🛰\n",
        "https://www.kaggle.com/datasets/mahmoudreda55/satellite-image-classification?select=data\n",
        "\n",
        "**Remote sensing(RS) is the process of detecting and monitoring the physical characteristics of an area by measuring its reflected and emitted radiation at a distance (typically from satellite or aircraft).**"
      ],
      "metadata": {
        "id": "6Aocj8M1__fL"
      }
    },
    {
      "cell_type": "markdown",
      "source": [
        "##Loading Data "
      ],
      "metadata": {
        "id": "IIFr2r1VARpR"
      }
    },
    {
      "cell_type": "code",
      "execution_count": 1,
      "metadata": {
        "id": "wVl4_WuuXVt3"
      },
      "outputs": [],
      "source": [
        "# !unzip \"/content/drive/MyDrive/Satellite Image/satellite.zip\" -d \"/content/drive/MyDrive/Satellite Image\""
      ]
    },
    {
      "cell_type": "code",
      "source": [
        "!ls \"/content/drive/MyDrive/Satellite Image/data\""
      ],
      "metadata": {
        "colab": {
          "base_uri": "https://localhost:8080/"
        },
        "id": "KxarceEuYh-I",
        "outputId": "b8ebfaca-f2a6-4d8e-8f88-79e7c80904d7"
      },
      "execution_count": 2,
      "outputs": [
        {
          "output_type": "stream",
          "name": "stdout",
          "text": [
            "cloudy\tdesert\tgreen_area  water\n"
          ]
        }
      ]
    },
    {
      "cell_type": "code",
      "source": [
        "import os\n",
        "class_names = os.listdir(\"/content/drive/MyDrive/Satellite Image/data\")\n",
        "class_names"
      ],
      "metadata": {
        "colab": {
          "base_uri": "https://localhost:8080/"
        },
        "id": "HpA6ntL-bAh-",
        "outputId": "607d5efa-baaf-47b6-e7bf-3ec8db3d23b0"
      },
      "execution_count": 3,
      "outputs": [
        {
          "output_type": "execute_result",
          "data": {
            "text/plain": [
              "['cloudy', 'desert', 'green_area', 'water']"
            ]
          },
          "metadata": {},
          "execution_count": 3
        }
      ]
    },
    {
      "cell_type": "code",
      "source": [
        "for filedir,filename,image in os.walk(\"/content/drive/MyDrive/Satellite Image/data\"):\n",
        "  print(f\"In {filedir} there are {len(filename)} files and it contains {len(image)} images\")"
      ],
      "metadata": {
        "colab": {
          "base_uri": "https://localhost:8080/"
        },
        "id": "_KFHasmLba5Y",
        "outputId": "4037991a-a5d2-41d7-cf1f-59f5c592a49f"
      },
      "execution_count": 4,
      "outputs": [
        {
          "output_type": "stream",
          "name": "stdout",
          "text": [
            "In /content/drive/MyDrive/Satellite Image/data there are 4 files and it contains 0 images\n",
            "In /content/drive/MyDrive/Satellite Image/data/cloudy there are 0 files and it contains 1500 images\n",
            "In /content/drive/MyDrive/Satellite Image/data/desert there are 0 files and it contains 1131 images\n",
            "In /content/drive/MyDrive/Satellite Image/data/green_area there are 0 files and it contains 1500 images\n",
            "In /content/drive/MyDrive/Satellite Image/data/water there are 0 files and it contains 1500 images\n"
          ]
        }
      ]
    },
    {
      "cell_type": "markdown",
      "source": [
        "##visualizing the picture"
      ],
      "metadata": {
        "id": "kbI4a-s7AVuB"
      }
    },
    {
      "cell_type": "code",
      "source": [
        "import random \n",
        "import numpy as np\n",
        "import matplotlib.pyplot as plt\n",
        "import matplotlib.image as mpim\n",
        "\n",
        "def visualize_image(dir,class_name):\n",
        "    chossen_image = dir+\"/\"+class_name\n",
        "    random_image = random.sample(os.listdir(chossen_image),1)\n",
        "    img_data = mpim.imread(chossen_image + \"/\" + random_image[0] )\n",
        "    \n",
        "    plt.figure(figsize=(10,7))\n",
        "    plt.imshow(img_data)\n",
        "    plt.title(class_name)\n",
        "    plt.axis(False)\n",
        "\n"
      ],
      "metadata": {
        "id": "lBzq8x3eb1mQ"
      },
      "execution_count": 5,
      "outputs": []
    },
    {
      "cell_type": "code",
      "source": [
        "class_names"
      ],
      "metadata": {
        "colab": {
          "base_uri": "https://localhost:8080/"
        },
        "id": "LWuG-0c3c-7u",
        "outputId": "f91ca1c1-f398-4e78-fc57-2f2d278673b4"
      },
      "execution_count": 6,
      "outputs": [
        {
          "output_type": "execute_result",
          "data": {
            "text/plain": [
              "['cloudy', 'desert', 'green_area', 'water']"
            ]
          },
          "metadata": {},
          "execution_count": 6
        }
      ]
    },
    {
      "cell_type": "code",
      "source": [
        "dir = \"/content/drive/MyDrive/Satellite Image/data\"\n",
        "visualize_image(dir,class_names[2])"
      ],
      "metadata": {
        "colab": {
          "base_uri": "https://localhost:8080/",
          "height": 427
        },
        "id": "2OTlPDR9CPvn",
        "outputId": "012b009f-679a-4df2-dd43-e01252006f35"
      },
      "execution_count": 7,
      "outputs": [
        {
          "output_type": "display_data",
          "data": {
            "text/plain": [
              "<Figure size 720x504 with 1 Axes>"
            ],
            "image/png": "[encoded data removed]"
          },
          "metadata": {
            "needs_background": "light"
          }
        }
      ]
    },
    {
      "cell_type": "markdown",
      "source": [
        "##Splitting the train_and_test_dir"
      ],
      "metadata": {
        "id": "HxXOp0vLAaaT"
      }
    },
    {
      "cell_type": "code",
      "source": [
        "x = os.listdir(\"/content/drive/MyDrive/Satellite Image/data/desert/\")\n",
        "len(x)"
      ],
      "metadata": {
        "colab": {
          "base_uri": "https://localhost:8080/"
        },
        "id": "oo3NJJpugy9u",
        "outputId": "21fb3ba0-3138-4b23-829e-d420426c5298"
      },
      "execution_count": 8,
      "outputs": [
        {
          "output_type": "execute_result",
          "data": {
            "text/plain": [
              "1131"
            ]
          },
          "metadata": {},
          "execution_count": 8
        }
      ]
    },
    {
      "cell_type": "code",
      "source": [
        "1131*0.8"
      ],
      "metadata": {
        "colab": {
          "base_uri": "https://localhost:8080/"
        },
        "id": "CJk_mjtvjbid",
        "outputId": "51dbb01b-cfcd-4a49-f8f1-0e1ee2dea469"
      },
      "execution_count": 9,
      "outputs": [
        {
          "output_type": "execute_result",
          "data": {
            "text/plain": [
              "904.8000000000001"
            ]
          },
          "metadata": {},
          "execution_count": 9
        }
      ]
    },
    {
      "cell_type": "code",
      "source": [
        "def splitting_train_test_data(dir,class_name):\n",
        "  chossen_dir = dir +\"/\" + class_name\n",
        "  all_the_images = os.listdir(chossen_dir)\n",
        "  # random.shuffle(all_the_images)\n",
        "  index = int(len(all_the_images)*0.9)\n",
        "  return all_the_images[:index],all_the_images[index:]"
      ],
      "metadata": {
        "id": "0krzNdpWhjff"
      },
      "execution_count": 10,
      "outputs": []
    },
    {
      "cell_type": "code",
      "source": [
        "dir = \"/content/drive/MyDrive/Satellite Image/data/\"\n",
        "class_names"
      ],
      "metadata": {
        "colab": {
          "base_uri": "https://localhost:8080/"
        },
        "id": "gjOnVFvPjCm9",
        "outputId": "b31c3db3-f1d9-4e03-a681-974c8a99777f"
      },
      "execution_count": 11,
      "outputs": [
        {
          "output_type": "execute_result",
          "data": {
            "text/plain": [
              "['cloudy', 'desert', 'green_area', 'water']"
            ]
          },
          "metadata": {},
          "execution_count": 11
        }
      ]
    },
    {
      "cell_type": "code",
      "source": [
        "desert_train,desert_test = splitting_train_test_data(dir,class_names[1])\n",
        "len(desert_train)"
      ],
      "metadata": {
        "colab": {
          "base_uri": "https://localhost:8080/"
        },
        "id": "bp0wDKnLc75Y",
        "outputId": "f2ce4d84-bbe5-4c7f-f7cf-0f56b6fc1ec6"
      },
      "execution_count": 12,
      "outputs": [
        {
          "output_type": "execute_result",
          "data": {
            "text/plain": [
              "1017"
            ]
          },
          "metadata": {},
          "execution_count": 12
        }
      ]
    },
    {
      "cell_type": "code",
      "source": [
        "cloudy_train,cloudy_test = splitting_train_test_data(dir,class_names[0])\n",
        "green_area_train,green_area_test = splitting_train_test_data(dir,class_names[2])\n",
        "water_train,water_test = splitting_train_test_data(dir,class_names[3])"
      ],
      "metadata": {
        "id": "ScutighPjnEU"
      },
      "execution_count": 13,
      "outputs": []
    },
    {
      "cell_type": "markdown",
      "source": [
        "##Making directory for train_dataset"
      ],
      "metadata": {
        "id": "RlkHGfmTAjZC"
      }
    },
    {
      "cell_type": "code",
      "source": [
        "dir = \"/content/drive/MyDrive/Satellite Image/data\"\n",
        "\n",
        "def make_directory(chossen_class,datas):\n",
        "  chossen_dir = dir +\"/\"+ chossen_class+\"/\"\n",
        "  train_dir = []\n",
        "  for data in datas:\n",
        "    train_directory = chossen_dir + data\n",
        "    train_dir.append(train_directory)\n",
        "  return train_dir"
      ],
      "metadata": {
        "id": "o6dNQzb-j1y0"
      },
      "execution_count": 14,
      "outputs": []
    },
    {
      "cell_type": "code",
      "source": [
        "desert_dir = make_directory(class_names[1],desert_train)\n",
        "cloudy_dir = make_directory(class_names[0],cloudy_train)\n",
        "green_area_dir = make_directory(class_names[2],green_area_train)\n",
        "water_dir = make_directory(class_names[3],water_train)"
      ],
      "metadata": {
        "id": "chVYzxZXm-3q"
      },
      "execution_count": 15,
      "outputs": []
    },
    {
      "cell_type": "code",
      "source": [
        "random_image = random.sample(green_area_dir,1)\n",
        "img_data = mpim.imread(random_image[0])\n",
        "plt.imshow(img_data)\n",
        "plt.axis(False);"
      ],
      "metadata": {
        "colab": {
          "base_uri": "https://localhost:8080/",
          "height": 248
        },
        "id": "EXuZD6_ttW-g",
        "outputId": "567cd39f-aae6-42a3-adf2-c1469736efbf"
      },
      "execution_count": 16,
      "outputs": [
        {
          "output_type": "display_data",
          "data": {
            "text/plain": [
              "<Figure size 432x288 with 1 Axes>"
            ],
            "image/png": "[encoded data removed]"
          },
          "metadata": {
            "needs_background": "light"
          }
        }
      ]
    },
    {
      "cell_type": "markdown",
      "source": [
        "##Creating a DataFrame of all train directories"
      ],
      "metadata": {
        "id": "tzcPNFv7Ar_K"
      }
    },
    {
      "cell_type": "code",
      "source": [
        "import pandas as pd\n",
        "def create_dataframe(class_name,dir):\n",
        "  df = pd.DataFrame(dir,columns=[\"dir\"])\n",
        "  df[\"classes\"] = class_name\n",
        "  return df"
      ],
      "metadata": {
        "id": "IuQlxFowzyZu"
      },
      "execution_count": 17,
      "outputs": []
    },
    {
      "cell_type": "code",
      "source": [
        "class_names"
      ],
      "metadata": {
        "colab": {
          "base_uri": "https://localhost:8080/"
        },
        "id": "6mOZq1dD4JV2",
        "outputId": "792530d3-d2ee-4074-cf9a-4e5cb82623e4"
      },
      "execution_count": 18,
      "outputs": [
        {
          "output_type": "execute_result",
          "data": {
            "text/plain": [
              "['cloudy', 'desert', 'green_area', 'water']"
            ]
          },
          "metadata": {},
          "execution_count": 18
        }
      ]
    },
    {
      "cell_type": "code",
      "source": [
        "cloudy_df = create_dataframe(class_names[0],cloudy_dir)\n",
        "desert_df = create_dataframe(class_names[1],desert_dir)\n",
        "green_area_df = create_dataframe(class_names[2],green_area_dir)\n",
        "water_df = create_dataframe(class_names[3],water_dir)"
      ],
      "metadata": {
        "id": "fma9vxMU2A1e"
      },
      "execution_count": 19,
      "outputs": []
    },
    {
      "cell_type": "code",
      "source": [
        "cloudy_vs_desert_df = desert_df.append(cloudy_df)\n",
        "green_area_vs_water_df = green_area_df.append(water_df)"
      ],
      "metadata": {
        "id": "hw1uAwKD4TrM"
      },
      "execution_count": 20,
      "outputs": []
    },
    {
      "cell_type": "code",
      "source": [
        "multiclass_df = cloudy_vs_desert_df.append(green_area_vs_water_df,ignore_index=True)"
      ],
      "metadata": {
        "id": "0ZgEKszKU9rD"
      },
      "execution_count": 21,
      "outputs": []
    },
    {
      "cell_type": "code",
      "source": [
        "index_num = []\n",
        "for index_val,data in enumerate(multiclass_df.dir):\n",
        "  index_num.append(index_val)"
      ],
      "metadata": {
        "id": "aoly0VTS8H2s"
      },
      "execution_count": 22,
      "outputs": []
    },
    {
      "cell_type": "code",
      "source": [
        "full_multiclass_df = cloudy_vs_desert_df.append(green_area_vs_water_df,ignore_index=True)\n",
        "full_multiclass_df = pd.DataFrame(full_multiclass_df,index=index_num)\n",
        "full_multiclass_df"
      ],
      "metadata": {
        "colab": {
          "base_uri": "https://localhost:8080/",
          "height": 423
        },
        "id": "5puTwYZc4XEE",
        "outputId": "0ef92ca3-4f10-4eef-99fd-e52c44c94fdc"
      },
      "execution_count": 23,
      "outputs": [
        {
          "output_type": "execute_result",
          "data": {
            "text/plain": [
              "                                                    dir classes\n",
              "0     /content/drive/MyDrive/Satellite Image/data/de...  desert\n",
              "1     /content/drive/MyDrive/Satellite Image/data/de...  desert\n",
              "2     /content/drive/MyDrive/Satellite Image/data/de...  desert\n",
              "3     /content/drive/MyDrive/Satellite Image/data/de...  desert\n",
              "4     /content/drive/MyDrive/Satellite Image/data/de...  desert\n",
              "...                                                 ...     ...\n",
              "5062  /content/drive/MyDrive/Satellite Image/data/wa...   water\n",
              "5063  /content/drive/MyDrive/Satellite Image/data/wa...   water\n",
              "5064  /content/drive/MyDrive/Satellite Image/data/wa...   water\n",
              "5065  /content/drive/MyDrive/Satellite Image/data/wa...   water\n",
              "5066  /content/drive/MyDrive/Satellite Image/data/wa...   water\n",
              "\n",
              "[5067 rows x 2 columns]"
            ],
            "text/html": [
              "\n",
              "  <div id=\"df-56233541-4d91-4365-ac52-bea251170026\">\n",
              "    <div class=\"colab-df-container\">\n",
              "      <div>\n",
              "<style scoped>\n",
              "    .dataframe tbody tr th:only-of-type {\n",
              "        vertical-align: middle;\n",
              "    }\n",
              "\n",
              "    .dataframe tbody tr th {\n",
              "        vertical-align: top;\n",
              "    }\n",
              "\n",
              "    .dataframe thead th {\n",
              "        text-align: right;\n",
              "    }\n",
              "</style>\n",
              "<table border=\"1\" class=\"dataframe\">\n",
              "  <thead>\n",
              "    <tr style=\"text-align: right;\">\n",
              "      <th></th>\n",
              "      <th>dir</th>\n",
              "      <th>classes</th>\n",
              "    </tr>\n",
              "  </thead>\n",
              "  <tbody>\n",
              "    <tr>\n",
              "      <th>0</th>\n",
              "      <td>/content/drive/MyDrive/Satellite Image/data/de...</td>\n",
              "      <td>desert</td>\n",
              "    </tr>\n",
              "    <tr>\n",
              "      <th>1</th>\n",
              "      <td>/content/drive/MyDrive/Satellite Image/data/de...</td>\n",
              "      <td>desert</td>\n",
              "    </tr>\n",
              "    <tr>\n",
              "      <th>2</th>\n",
              "      <td>/content/drive/MyDrive/Satellite Image/data/de...</td>\n",
              "      <td>desert</td>\n",
              "    </tr>\n",
              "    <tr>\n",
              "      <th>3</th>\n",
              "      <td>/content/drive/MyDrive/Satellite Image/data/de...</td>\n",
              "      <td>desert</td>\n",
              "    </tr>\n",
              "    <tr>\n",
              "      <th>4</th>\n",
              "      <td>/content/drive/MyDrive/Satellite Image/data/de...</td>\n",
              "      <td>desert</td>\n",
              "    </tr>\n",
              "    <tr>\n",
              "      <th>...</th>\n",
              "      <td>...</td>\n",
              "      <td>...</td>\n",
              "    </tr>\n",
              "    <tr>\n",
              "      <th>5062</th>\n",
              "      <td>/content/drive/MyDrive/Satellite Image/data/wa...</td>\n",
              "      <td>water</td>\n",
              "    </tr>\n",
              "    <tr>\n",
              "      <th>5063</th>\n",
              "      <td>/content/drive/MyDrive/Satellite Image/data/wa...</td>\n",
              "      <td>water</td>\n",
              "    </tr>\n",
              "    <tr>\n",
              "      <th>5064</th>\n",
              "      <td>/content/drive/MyDrive/Satellite Image/data/wa...</td>\n",
              "      <td>water</td>\n",
              "    </tr>\n",
              "    <tr>\n",
              "      <th>5065</th>\n",
              "      <td>/content/drive/MyDrive/Satellite Image/data/wa...</td>\n",
              "      <td>water</td>\n",
              "    </tr>\n",
              "    <tr>\n",
              "      <th>5066</th>\n",
              "      <td>/content/drive/MyDrive/Satellite Image/data/wa...</td>\n",
              "      <td>water</td>\n",
              "    </tr>\n",
              "  </tbody>\n",
              "</table>\n",
              "<p>5067 rows × 2 columns</p>\n",
              "</div>\n",
              "      <button class=\"colab-df-convert\" onclick=\"convertToInteractive('df-56233541-4d91-4365-ac52-bea251170026')\"\n",
              "              title=\"Convert this dataframe to an interactive table.\"\n",
              "              style=\"display:none;\">\n",
              "        \n",
              "  <svg xmlns=\"http://www.w3.org/2000/svg\" height=\"24px\"viewBox=\"0 0 24 24\"\n",
              "       width=\"24px\">\n",
              "    <path d=\"M0 0h24v24H0V0z\" fill=\"none\"/>\n",
              "    <path d=\"M18.56 5.44l.94 2.06.94-2.06 2.06-.94-2.06-.94-.94-2.06-.94 2.06-2.06.94zm-11 1L8.5 8.5l.94-2.06 2.06-.94-2.06-.94L8.5 2.5l-.94 2.06-2.06.94zm10 10l.94 2.06.94-2.06 2.06-.94-2.06-.94-.94-2.06-.94 2.06-2.06.94z\"/><path d=\"M17.41 7.96l-1.37-1.37c-.4-.4-.92-.59-1.43-.59-.52 0-1.04.2-1.43.59L10.3 9.45l-7.72 7.72c-.78.78-.78 2.05 0 2.83L4 21.41c.39.39.9.59 1.41.59.51 0 1.02-.2 1.41-.59l7.78-7.78 2.81-2.81c.8-.78.8-2.07 0-2.86zM5.41 20L4 18.59l7.72-7.72 1.47 1.35L5.41 20z\"/>\n",
              "  </svg>\n",
              "      </button>\n",
              "      \n",
              "  <style>\n",
              "    .colab-df-container {\n",
              "      display:flex;\n",
              "      flex-wrap:wrap;\n",
              "      gap: 12px;\n",
              "    }\n",
              "\n",
              "    .colab-df-convert {\n",
              "      background-color: #E8F0FE;\n",
              "      border: none;\n",
              "      border-radius: 50%;\n",
              "      cursor: pointer;\n",
              "      display: none;\n",
              "      fill: #1967D2;\n",
              "      height: 32px;\n",
              "      padding: 0 0 0 0;\n",
              "      width: 32px;\n",
              "    }\n",
              "\n",
              "    .colab-df-convert:hover {\n",
              "      background-color: #E2EBFA;\n",
              "      box-shadow: 0px 1px 2px rgba(60, 64, 67, 0.3), 0px 1px 3px 1px rgba(60, 64, 67, 0.15);\n",
              "      fill: #174EA6;\n",
              "    }\n",
              "\n",
              "    [theme=dark] .colab-df-convert {\n",
              "      background-color: #3B4455;\n",
              "      fill: #D2E3FC;\n",
              "    }\n",
              "\n",
              "    [theme=dark] .colab-df-convert:hover {\n",
              "      background-color: #434B5C;\n",
              "      box-shadow: 0px 1px 3px 1px rgba(0, 0, 0, 0.15);\n",
              "      filter: drop-shadow(0px 1px 2px rgba(0, 0, 0, 0.3));\n",
              "      fill: #FFFFFF;\n",
              "    }\n",
              "  </style>\n",
              "\n",
              "      <script>\n",
              "        const buttonEl =\n",
              "          document.querySelector('#df-56233541-4d91-4365-ac52-bea251170026 button.colab-df-convert');\n",
              "        buttonEl.style.display =\n",
              "          google.colab.kernel.accessAllowed ? 'block' : 'none';\n",
              "\n",
              "        async function convertToInteractive(key) {\n",
              "          const element = document.querySelector('#df-56233541-4d91-4365-ac52-bea251170026');\n",
              "          const dataTable =\n",
              "            await google.colab.kernel.invokeFunction('convertToInteractive',\n",
              "                                                     [key], {});\n",
              "          if (!dataTable) return;\n",
              "\n",
              "          const docLinkHtml = 'Like what you see? Visit the ' +\n",
              "            '<a target=\"_blank\" href=https://colab.research.google.com/notebooks/data_table.ipynb>data table notebook</a>'\n",
              "            + ' to learn more about interactive tables.';\n",
              "          element.innerHTML = '';\n",
              "          dataTable['output_type'] = 'display_data';\n",
              "          await google.colab.output.renderOutput(dataTable, element);\n",
              "          const docLink = document.createElement('div');\n",
              "          docLink.innerHTML = docLinkHtml;\n",
              "          element.appendChild(docLink);\n",
              "        }\n",
              "      </script>\n",
              "    </div>\n",
              "  </div>\n",
              "  "
            ]
          },
          "metadata": {},
          "execution_count": 23
        }
      ]
    },
    {
      "cell_type": "markdown",
      "source": [
        "##Changing the class_labels into boolean values"
      ],
      "metadata": {
        "id": "5EvmyEA5A0Zh"
      }
    },
    {
      "cell_type": "code",
      "source": [
        "full_multiclass_df.classes.value_counts()"
      ],
      "metadata": {
        "colab": {
          "base_uri": "https://localhost:8080/"
        },
        "id": "ekMHH2094729",
        "outputId": "410a4b4e-cf30-4766-de91-4977329b2d53"
      },
      "execution_count": 24,
      "outputs": [
        {
          "output_type": "execute_result",
          "data": {
            "text/plain": [
              "cloudy        1350\n",
              "green_area    1350\n",
              "water         1350\n",
              "desert        1017\n",
              "Name: classes, dtype: int64"
            ]
          },
          "metadata": {},
          "execution_count": 24
        }
      ]
    },
    {
      "cell_type": "code",
      "source": [
        "labels = full_multiclass_df.classes.to_numpy()\n",
        "labels"
      ],
      "metadata": {
        "colab": {
          "base_uri": "https://localhost:8080/"
        },
        "id": "aO-lG4fJ5jo0",
        "outputId": "66198b6c-41de-430d-9042-a012c6cb1ea7"
      },
      "execution_count": 25,
      "outputs": [
        {
          "output_type": "execute_result",
          "data": {
            "text/plain": [
              "array(['desert', 'desert', 'desert', ..., 'water', 'water', 'water'],\n",
              "      dtype=object)"
            ]
          },
          "metadata": {},
          "execution_count": 25
        }
      ]
    },
    {
      "cell_type": "code",
      "source": [
        "unique_labels = np.unique(labels)\n",
        "unique_labels"
      ],
      "metadata": {
        "colab": {
          "base_uri": "https://localhost:8080/"
        },
        "id": "fm13rVfB6WLs",
        "outputId": "888fac48-a27d-4d2f-fb7e-80e3649fa6ca"
      },
      "execution_count": 26,
      "outputs": [
        {
          "output_type": "execute_result",
          "data": {
            "text/plain": [
              "array(['cloudy', 'desert', 'green_area', 'water'], dtype=object)"
            ]
          },
          "metadata": {},
          "execution_count": 26
        }
      ]
    },
    {
      "cell_type": "code",
      "source": [
        "boolean_labels = [label==unique_labels for label in labels]\n",
        "len(boolean_labels)"
      ],
      "metadata": {
        "colab": {
          "base_uri": "https://localhost:8080/"
        },
        "id": "7XEziLsB6kfN",
        "outputId": "1d2bd567-8a6a-4d8d-f74c-6dc9848424ec"
      },
      "execution_count": 27,
      "outputs": [
        {
          "output_type": "execute_result",
          "data": {
            "text/plain": [
              "5067"
            ]
          },
          "metadata": {},
          "execution_count": 27
        }
      ]
    },
    {
      "cell_type": "code",
      "source": [
        "dir_list = full_multiclass_df.dir\n",
        "X = [x for x in dir_list]\n",
        "len(X)"
      ],
      "metadata": {
        "colab": {
          "base_uri": "https://localhost:8080/"
        },
        "id": "bdInj7vg60kb",
        "outputId": "049a2382-9ef8-4db2-997e-21ed4209e3c0"
      },
      "execution_count": 28,
      "outputs": [
        {
          "output_type": "execute_result",
          "data": {
            "text/plain": [
              "5067"
            ]
          },
          "metadata": {},
          "execution_count": 28
        }
      ]
    },
    {
      "cell_type": "code",
      "source": [
        "Y = boolean_labels\n",
        "len(Y)"
      ],
      "metadata": {
        "colab": {
          "base_uri": "https://localhost:8080/"
        },
        "id": "Xo8afQKo7NE0",
        "outputId": "842b10ca-05d9-41ec-fbda-4c046776ddeb"
      },
      "execution_count": 29,
      "outputs": [
        {
          "output_type": "execute_result",
          "data": {
            "text/plain": [
              "5067"
            ]
          },
          "metadata": {},
          "execution_count": 29
        }
      ]
    },
    {
      "cell_type": "markdown",
      "source": [
        "##Making train_test_split with the train_datasets"
      ],
      "metadata": {
        "id": "a50qB4V_95lD"
      }
    },
    {
      "cell_type": "code",
      "source": [
        "from sklearn.model_selection import train_test_split\n",
        "x_train,x_test,y_train,y_test = train_test_split(X,Y,test_size=0.2,random_state=42)"
      ],
      "metadata": {
        "id": "11cBTYmjBERT"
      },
      "execution_count": 30,
      "outputs": []
    },
    {
      "cell_type": "code",
      "source": [
        "len(x_train),len(x_test)"
      ],
      "metadata": {
        "colab": {
          "base_uri": "https://localhost:8080/"
        },
        "id": "ninVSjme74Fq",
        "outputId": "f8efb25e-add6-4fbc-9af5-bc9c940afd7e"
      },
      "execution_count": 31,
      "outputs": [
        {
          "output_type": "execute_result",
          "data": {
            "text/plain": [
              "(4053, 1014)"
            ]
          },
          "metadata": {},
          "execution_count": 31
        }
      ]
    },
    {
      "cell_type": "code",
      "source": [
        "import tensorflow as tf\n",
        "def preprocessing_image(image_dir):\n",
        "  image_dir = tf.io.read_file(image_dir)\n",
        "  image_data = tf.image.decode_jpeg(image_dir,channels=3)\n",
        "  image = tf.image.convert_image_dtype(image_data,tf.float32)\n",
        "  image = tf.image.resize(image,size=(224,224))\n",
        "  return image"
      ],
      "metadata": {
        "id": "qXi8Hwbt9sgM"
      },
      "execution_count": 32,
      "outputs": []
    },
    {
      "cell_type": "code",
      "source": [
        "def image_label(image,label):\n",
        "  return preprocessing_image(image),label"
      ],
      "metadata": {
        "id": "zrzUOzFl_yXe"
      },
      "execution_count": 33,
      "outputs": []
    },
    {
      "cell_type": "code",
      "source": [
        "train_data = tf.data.Dataset.from_tensor_slices((x_train,y_train))\n",
        "train_data = train_data.map(image_label).batch(32)\n",
        "train_data"
      ],
      "metadata": {
        "colab": {
          "base_uri": "https://localhost:8080/"
        },
        "id": "E8RgR3K2ALAy",
        "outputId": "8929b915-d6ef-471d-c535-9b1518683bb3"
      },
      "execution_count": 34,
      "outputs": [
        {
          "output_type": "execute_result",
          "data": {
            "text/plain": [
              "<BatchDataset element_spec=(TensorSpec(shape=(None, 224, 224, 3), dtype=tf.float32, name=None), TensorSpec(shape=(None, 4), dtype=tf.bool, name=None))>"
            ]
          },
          "metadata": {},
          "execution_count": 34
        }
      ]
    },
    {
      "cell_type": "code",
      "source": [
        "valid_data = tf.data.Dataset.from_tensor_slices((tf.constant(x_test),tf.constant(y_test))).map(image_label).batch(32)\n",
        "valid_data"
      ],
      "metadata": {
        "colab": {
          "base_uri": "https://localhost:8080/"
        },
        "id": "4EoEPTuXAuYq",
        "outputId": "808f3736-136d-4ec5-c355-e352a90681a9"
      },
      "execution_count": 35,
      "outputs": [
        {
          "output_type": "execute_result",
          "data": {
            "text/plain": [
              "<BatchDataset element_spec=(TensorSpec(shape=(None, 224, 224, 3), dtype=tf.float32, name=None), TensorSpec(shape=(None, 4), dtype=tf.bool, name=None))>"
            ]
          },
          "metadata": {},
          "execution_count": 35
        }
      ]
    },
    {
      "cell_type": "markdown",
      "source": [
        "##Building Pixie"
      ],
      "metadata": {
        "id": "nohW_s2SDdIZ"
      }
    },
    {
      "cell_type": "code",
      "source": [
        "Pixie = tf.keras.Sequential([tf.keras.layers.Conv2D(10,3,activation=\"relu\",input_shape=(224,224,3)),\n",
        "                             tf.keras.layers.Conv2D(10,3,activation=\"relu\"),\n",
        "                             tf.keras.layers.MaxPool2D(),\n",
        "                             tf.keras.layers.Conv2D(10,3,activation=\"relu\"),\n",
        "                             tf.keras.layers.Conv2D(10,3,activation=\"relu\"),\n",
        "                             tf.keras.layers.MaxPool2D(),\n",
        "                             tf.keras.layers.Flatten(),\n",
        "                             tf.keras.layers.Dense(len(class_names),activation=\"softmax\")])\n",
        "Pixie.summary()"
      ],
      "metadata": {
        "colab": {
          "base_uri": "https://localhost:8080/"
        },
        "id": "bnh7-rYoDy2S",
        "outputId": "2cc27a72-b602-40b5-f80a-56fd9978962d"
      },
      "execution_count": 36,
      "outputs": [
        {
          "output_type": "stream",
          "name": "stdout",
          "text": [
            "Model: \"sequential\"\n",
            "_________________________________________________________________\n",
            " Layer (type)                Output Shape              Param #   \n",
            "=================================================================\n",
            " conv2d (Conv2D)             (None, 222, 222, 10)      280       \n",
            "                                                                 \n",
            " conv2d_1 (Conv2D)           (None, 220, 220, 10)      910       \n",
            "                                                                 \n",
            " max_pooling2d (MaxPooling2D  (None, 110, 110, 10)     0         \n",
            " )                                                               \n",
            "                                                                 \n",
            " conv2d_2 (Conv2D)           (None, 108, 108, 10)      910       \n",
            "                                                                 \n",
            " conv2d_3 (Conv2D)           (None, 106, 106, 10)      910       \n",
            "                                                                 \n",
            " max_pooling2d_1 (MaxPooling  (None, 53, 53, 10)       0         \n",
            " 2D)                                                             \n",
            "                                                                 \n",
            " flatten (Flatten)           (None, 28090)             0         \n",
            "                                                                 \n",
            " dense (Dense)               (None, 4)                 112364    \n",
            "                                                                 \n",
            "=================================================================\n",
            "Total params: 115,374\n",
            "Trainable params: 115,374\n",
            "Non-trainable params: 0\n",
            "_________________________________________________________________\n"
          ]
        }
      ]
    },
    {
      "cell_type": "code",
      "source": [
        "Pixie.compile(loss=\"categorical_crossentropy\",\n",
        "              optimizer=\"adam\",\n",
        "              metrics=\"accuracy\")\n",
        "history_1 = Pixie.fit(train_data,epochs=10,steps_per_epoch=len(train_data),\n",
        "                      validation_data=valid_data,validation_steps=len(valid_data))"
      ],
      "metadata": {
        "colab": {
          "base_uri": "https://localhost:8080/"
        },
        "id": "-2qcOdnjETEi",
        "outputId": "541e935a-023d-40c5-850c-e8420ed793aa"
      },
      "execution_count": 37,
      "outputs": [
        {
          "output_type": "stream",
          "name": "stdout",
          "text": [
            "Epoch 1/10\n",
            "127/127 [==============================] - 450s 3s/step - loss: 0.4842 - accuracy: 0.7242 - val_loss: 0.3486 - val_accuracy: 0.7771\n",
            "Epoch 2/10\n",
            "127/127 [==============================] - 10s 80ms/step - loss: 0.3448 - accuracy: 0.7809 - val_loss: 0.3152 - val_accuracy: 0.8126\n",
            "Epoch 3/10\n",
            "127/127 [==============================] - 10s 79ms/step - loss: 0.3289 - accuracy: 0.7908 - val_loss: 0.2695 - val_accuracy: 0.8866\n",
            "Epoch 4/10\n",
            "127/127 [==============================] - 10s 79ms/step - loss: 0.2768 - accuracy: 0.8616 - val_loss: 0.2155 - val_accuracy: 0.9063\n",
            "Epoch 5/10\n",
            "127/127 [==============================] - 10s 79ms/step - loss: 0.2399 - accuracy: 0.8877 - val_loss: 0.2009 - val_accuracy: 0.9132\n",
            "Epoch 6/10\n",
            "127/127 [==============================] - 10s 78ms/step - loss: 0.2089 - accuracy: 0.8998 - val_loss: 0.1713 - val_accuracy: 0.9250\n",
            "Epoch 7/10\n",
            "127/127 [==============================] - 10s 78ms/step - loss: 0.2033 - accuracy: 0.9060 - val_loss: 0.2090 - val_accuracy: 0.9024\n",
            "Epoch 8/10\n",
            "127/127 [==============================] - 10s 78ms/step - loss: 0.2128 - accuracy: 0.8998 - val_loss: 0.1711 - val_accuracy: 0.9250\n",
            "Epoch 9/10\n",
            "127/127 [==============================] - 10s 78ms/step - loss: 0.1728 - accuracy: 0.9161 - val_loss: 0.1507 - val_accuracy: 0.9300\n",
            "Epoch 10/10\n",
            "127/127 [==============================] - 10s 77ms/step - loss: 0.1751 - accuracy: 0.9191 - val_loss: 0.1481 - val_accuracy: 0.9349\n"
          ]
        }
      ]
    },
    {
      "cell_type": "markdown",
      "source": [
        "****\n",
        "**As we can see our Pixie is doing great on our data**\n",
        "****"
      ],
      "metadata": {
        "id": "L-_1dMVwURp8"
      }
    },
    {
      "cell_type": "markdown",
      "source": [
        "##predicting image"
      ],
      "metadata": {
        "id": "EcElxS3kmWGb"
      }
    },
    {
      "cell_type": "code",
      "source": [
        "def predict_image(image,Pixie,class_names):\n",
        "  image_data = mpim.imread(image)\n",
        "  image_reshaped = tf.image.resize(image_data,size=(224,224))\n",
        "  pred_prob = Pixie.predict(tf.expand_dims(image_reshaped,axis=0))\n",
        "  # pred_prob = Pixie.predict(image_data)\n",
        "  pred = np.argmax(pred_prob,axis=1)\n",
        "  pred_class = class_names[pred[0]]\n",
        "  \n",
        "  plt.imshow(image_data)\n",
        "  plt.title(f\"prediction : {pred_class} {tf.reduce_max(pred_prob)*100}%\")\n",
        "  plt.axis(False)"
      ],
      "metadata": {
        "id": "GBxRn97XEd76"
      },
      "execution_count": 38,
      "outputs": []
    },
    {
      "cell_type": "code",
      "source": [
        "x = X[4000]\n",
        "x"
      ],
      "metadata": {
        "colab": {
          "base_uri": "https://localhost:8080/",
          "height": 36
        },
        "id": "b2Tms0NAKiZr",
        "outputId": "c9d35d35-5693-4f92-9d7f-18a852fb3c1d"
      },
      "execution_count": 41,
      "outputs": [
        {
          "output_type": "execute_result",
          "data": {
            "text/plain": [
              "'/content/drive/MyDrive/Satellite Image/data/water/SeaLake_403.jpg'"
            ],
            "application/vnd.google.colaboratory.intrinsic+json": {
              "type": "string"
            }
          },
          "metadata": {},
          "execution_count": 41
        }
      ]
    },
    {
      "cell_type": "code",
      "source": [
        "predict_image(x,Pixie,class_names)"
      ],
      "metadata": {
        "colab": {
          "base_uri": "https://localhost:8080/",
          "height": 264
        },
        "id": "zF9lzOO9JWdi",
        "outputId": "dd86e1a6-6ff8-48f2-8e65-fd7529b23668"
      },
      "execution_count": 42,
      "outputs": [
        {
          "output_type": "display_data",
          "data": {
            "text/plain": [
              "<Figure size 432x288 with 1 Axes>"
            ],
            "image/png": "[encoded data removed]"
          },
          "metadata": {
            "needs_background": "light"
          }
        }
      ]
    },
    {
      "cell_type": "code",
      "source": [
        "img_data = mpim.imread(x)\n",
        "img = tf.image.resize(img_data[:,:,:3],size=(224,224))\n",
        "# print(img)\n",
        "pred = Pixie.predict(tf.expand_dims(img,axis=0))\n",
        "pred_label = np.argmax(pred,axis=1)\n",
        "class_name =class_names[pred_label[0]]\n",
        "plt.imshow(img_data)\n",
        "plt.title(class_name)\n",
        "plt.axis(False);"
      ],
      "metadata": {
        "colab": {
          "base_uri": "https://localhost:8080/",
          "height": 264
        },
        "id": "_aDp7-yeWLi6",
        "outputId": "78f36063-4906-401d-8356-e0f9c3b0c661"
      },
      "execution_count": 43,
      "outputs": [
        {
          "output_type": "display_data",
          "data": {
            "text/plain": [
              "<Figure size 432x288 with 1 Axes>"
            ],
            "image/png": "[encoded data removed]"
          },
          "metadata": {
            "needs_background": "light"
          }
        }
      ]
    },
    {
      "cell_type": "markdown",
      "source": [
        "##Plotting Confusion matrix"
      ],
      "metadata": {
        "id": "ALyj8Dv9MGlS"
      }
    },
    {
      "cell_type": "code",
      "source": [
        "len(y_test)"
      ],
      "metadata": {
        "id": "12kaZyjTSmxn",
        "colab": {
          "base_uri": "https://localhost:8080/"
        },
        "outputId": "9f6bddf2-8e0a-43fe-d0bf-f53f60b8999e"
      },
      "execution_count": 44,
      "outputs": [
        {
          "output_type": "execute_result",
          "data": {
            "text/plain": [
              "1014"
            ]
          },
          "metadata": {},
          "execution_count": 44
        }
      ]
    },
    {
      "cell_type": "code",
      "source": [
        "def predicting_for_c_m(Pixie,x_data,y_data=None,test_final_dataset=False):\n",
        "  if not test_final_dataset:\n",
        "    x_test_dataset = tf.data.Dataset.from_tensor_slices((x_data)).map(preprocessing_image).batch(32)\n",
        "  else:\n",
        "    x_test_dataset = tf.data.Dataset.from_tensor_slices((x_data)).map(preprocessing_image).shuffle(True).batch(32)\n",
        "  \n",
        "  pred = Pixie.predict(x_test_dataset)\n",
        "  pred_label = np.argmax(pred,axis=1)\n",
        "  \n",
        "  y_test_one_hot = []\n",
        "  if not test_final_dataset:\n",
        "    for i in range(len(y_test)):\n",
        "      y = y_test[i].astype(int)\n",
        "      y_test_one_hot.append(y)\n",
        "  \n",
        "    df = pd.DataFrame(y_test_one_hot)\n",
        "    y_test_one_hot = df.values\n",
        "  else:\n",
        "    for i in range(len(y_data)):\n",
        "      y = y_test[i].astype(int)\n",
        "      y_test_one_hot.append(y)\n",
        "  \n",
        "    df = pd.DataFrame(y_test_one_hot)\n",
        "    y_test_one_hot = df.values\n",
        "\n",
        "  \n",
        "  from sklearn.metrics import confusion_matrix\n",
        "  import seaborn as sb\n",
        "  c_m = confusion_matrix(np.argmax(y_test_one_hot,axis=1),pred_label)\n",
        " \n",
        "  import matplotlib.pyplot as plt\n",
        "  plt.figure(figsize=(10,7))\n",
        "  sb.heatmap(c_m,annot=True,fmt=\".2f\",xticklabels=[i for i in class_names],yticklabels=[i for i in class_names])"
      ],
      "metadata": {
        "id": "Y7pX-pR8U--L"
      },
      "execution_count": 45,
      "outputs": []
    },
    {
      "cell_type": "code",
      "source": [
        "predicting_for_c_m(Pixie,x_test)"
      ],
      "metadata": {
        "colab": {
          "base_uri": "https://localhost:8080/",
          "height": 428
        },
        "id": "6wfGueY9MJeT",
        "outputId": "59892f75-17b4-46f7-b5b9-a7a9f59c5bb2"
      },
      "execution_count": 46,
      "outputs": [
        {
          "output_type": "display_data",
          "data": {
            "text/plain": [
              "<Figure size 720x504 with 2 Axes>"
            ],
            "image/png": "[encoded data removed]"
          },
          "metadata": {
            "needs_background": "light"
          }
        }
      ]
    },
    {
      "cell_type": "markdown",
      "source": [
        "###Explaining above function"
      ],
      "metadata": {
        "id": "ub17f-cMWwQD"
      }
    },
    {
      "cell_type": "code",
      "source": [
        "x_test_dataset = tf.data.Dataset.from_tensor_slices((x_test)).map(preprocessing_image).batch(32)\n",
        "x_test_dataset"
      ],
      "metadata": {
        "id": "kXWzBR7fZkoz",
        "colab": {
          "base_uri": "https://localhost:8080/"
        },
        "outputId": "c3194a0a-7523-4761-e464-c663165fc8ee"
      },
      "execution_count": 47,
      "outputs": [
        {
          "output_type": "execute_result",
          "data": {
            "text/plain": [
              "<BatchDataset element_spec=TensorSpec(shape=(None, 224, 224, 3), dtype=tf.float32, name=None)>"
            ]
          },
          "metadata": {},
          "execution_count": 47
        }
      ]
    },
    {
      "cell_type": "code",
      "source": [
        "pred = Pixie.predict(x_test_dataset)\n",
        "pred"
      ],
      "metadata": {
        "id": "cS9Vhq2tJdma",
        "colab": {
          "base_uri": "https://localhost:8080/"
        },
        "outputId": "f78e1fba-f757-4451-b2dd-09d180cedbfa"
      },
      "execution_count": 48,
      "outputs": [
        {
          "output_type": "execute_result",
          "data": {
            "text/plain": [
              "array([[1.7187866e-15, 1.5856825e-04, 2.0540176e-05, 9.9982101e-01],\n",
              "       [0.0000000e+00, 1.0000000e+00, 6.1411723e-34, 2.4207461e-10],\n",
              "       [1.6192163e-06, 1.5777381e-05, 9.4245529e-01, 5.7527289e-02],\n",
              "       ...,\n",
              "       [1.7788238e-05, 1.7594475e-04, 8.6272287e-01, 1.3708340e-01],\n",
              "       [1.0000000e+00, 1.1146992e-24, 0.0000000e+00, 0.0000000e+00],\n",
              "       [4.9604863e-05, 9.5708034e-05, 2.2738853e-03, 9.9758077e-01]],\n",
              "      dtype=float32)"
            ]
          },
          "metadata": {},
          "execution_count": 48
        }
      ]
    },
    {
      "cell_type": "code",
      "source": [
        "pred_label = np.argmax(pred,axis=1)\n",
        "pred_label"
      ],
      "metadata": {
        "id": "kZ2eSPVKLoBS",
        "colab": {
          "base_uri": "https://localhost:8080/"
        },
        "outputId": "e4244f90-fa6d-4e00-ce8a-69b0bba191b3"
      },
      "execution_count": 49,
      "outputs": [
        {
          "output_type": "execute_result",
          "data": {
            "text/plain": [
              "array([3, 1, 2, ..., 2, 0, 3])"
            ]
          },
          "metadata": {},
          "execution_count": 49
        }
      ]
    },
    {
      "cell_type": "code",
      "source": [
        "y_test_one_hot = []\n",
        "for i in range(len(y_test)):\n",
        "  y = y_test[i].astype(int)\n",
        "  y_test_one_hot.append(y)\n",
        "# y_test_one_hot"
      ],
      "metadata": {
        "id": "i_Q5MExYNKTa"
      },
      "execution_count": 50,
      "outputs": []
    },
    {
      "cell_type": "code",
      "source": [
        "df = pd.DataFrame(y_test_one_hot)\n",
        "df.head()"
      ],
      "metadata": {
        "id": "OoXJf4bsNNO5",
        "colab": {
          "base_uri": "https://localhost:8080/",
          "height": 206
        },
        "outputId": "07852d21-a744-4118-beee-ee1619363bc5"
      },
      "execution_count": 51,
      "outputs": [
        {
          "output_type": "execute_result",
          "data": {
            "text/plain": [
              "   0  1  2  3\n",
              "0  0  0  0  1\n",
              "1  0  1  0  0\n",
              "2  0  0  1  0\n",
              "3  0  1  0  0\n",
              "4  0  1  0  0"
            ],
            "text/html": [
              "\n",
              "  <div id=\"df-9e4786f8-563f-441e-99c8-32e7b60d8b97\">\n",
              "    <div class=\"colab-df-container\">\n",
              "      <div>\n",
              "<style scoped>\n",
              "    .dataframe tbody tr th:only-of-type {\n",
              "        vertical-align: middle;\n",
              "    }\n",
              "\n",
              "    .dataframe tbody tr th {\n",
              "        vertical-align: top;\n",
              "    }\n",
              "\n",
              "    .dataframe thead th {\n",
              "        text-align: right;\n",
              "    }\n",
              "</style>\n",
              "<table border=\"1\" class=\"dataframe\">\n",
              "  <thead>\n",
              "    <tr style=\"text-align: right;\">\n",
              "      <th></th>\n",
              "      <th>0</th>\n",
              "      <th>1</th>\n",
              "      <th>2</th>\n",
              "      <th>3</th>\n",
              "    </tr>\n",
              "  </thead>\n",
              "  <tbody>\n",
              "    <tr>\n",
              "      <th>0</th>\n",
              "      <td>0</td>\n",
              "      <td>0</td>\n",
              "      <td>0</td>\n",
              "      <td>1</td>\n",
              "    </tr>\n",
              "    <tr>\n",
              "      <th>1</th>\n",
              "      <td>0</td>\n",
              "      <td>1</td>\n",
              "      <td>0</td>\n",
              "      <td>0</td>\n",
              "    </tr>\n",
              "    <tr>\n",
              "      <th>2</th>\n",
              "      <td>0</td>\n",
              "      <td>0</td>\n",
              "      <td>1</td>\n",
              "      <td>0</td>\n",
              "    </tr>\n",
              "    <tr>\n",
              "      <th>3</th>\n",
              "      <td>0</td>\n",
              "      <td>1</td>\n",
              "      <td>0</td>\n",
              "      <td>0</td>\n",
              "    </tr>\n",
              "    <tr>\n",
              "      <th>4</th>\n",
              "      <td>0</td>\n",
              "      <td>1</td>\n",
              "      <td>0</td>\n",
              "      <td>0</td>\n",
              "    </tr>\n",
              "  </tbody>\n",
              "</table>\n",
              "</div>\n",
              "      <button class=\"colab-df-convert\" onclick=\"convertToInteractive('df-9e4786f8-563f-441e-99c8-32e7b60d8b97')\"\n",
              "              title=\"Convert this dataframe to an interactive table.\"\n",
              "              style=\"display:none;\">\n",
              "        \n",
              "  <svg xmlns=\"http://www.w3.org/2000/svg\" height=\"24px\"viewBox=\"0 0 24 24\"\n",
              "       width=\"24px\">\n",
              "    <path d=\"M0 0h24v24H0V0z\" fill=\"none\"/>\n",
              "    <path d=\"M18.56 5.44l.94 2.06.94-2.06 2.06-.94-2.06-.94-.94-2.06-.94 2.06-2.06.94zm-11 1L8.5 8.5l.94-2.06 2.06-.94-2.06-.94L8.5 2.5l-.94 2.06-2.06.94zm10 10l.94 2.06.94-2.06 2.06-.94-2.06-.94-.94-2.06-.94 2.06-2.06.94z\"/><path d=\"M17.41 7.96l-1.37-1.37c-.4-.4-.92-.59-1.43-.59-.52 0-1.04.2-1.43.59L10.3 9.45l-7.72 7.72c-.78.78-.78 2.05 0 2.83L4 21.41c.39.39.9.59 1.41.59.51 0 1.02-.2 1.41-.59l7.78-7.78 2.81-2.81c.8-.78.8-2.07 0-2.86zM5.41 20L4 18.59l7.72-7.72 1.47 1.35L5.41 20z\"/>\n",
              "  </svg>\n",
              "      </button>\n",
              "      \n",
              "  <style>\n",
              "    .colab-df-container {\n",
              "      display:flex;\n",
              "      flex-wrap:wrap;\n",
              "      gap: 12px;\n",
              "    }\n",
              "\n",
              "    .colab-df-convert {\n",
              "      background-color: #E8F0FE;\n",
              "      border: none;\n",
              "      border-radius: 50%;\n",
              "      cursor: pointer;\n",
              "      display: none;\n",
              "      fill: #1967D2;\n",
              "      height: 32px;\n",
              "      padding: 0 0 0 0;\n",
              "      width: 32px;\n",
              "    }\n",
              "\n",
              "    .colab-df-convert:hover {\n",
              "      background-color: #E2EBFA;\n",
              "      box-shadow: 0px 1px 2px rgba(60, 64, 67, 0.3), 0px 1px 3px 1px rgba(60, 64, 67, 0.15);\n",
              "      fill: #174EA6;\n",
              "    }\n",
              "\n",
              "    [theme=dark] .colab-df-convert {\n",
              "      background-color: #3B4455;\n",
              "      fill: #D2E3FC;\n",
              "    }\n",
              "\n",
              "    [theme=dark] .colab-df-convert:hover {\n",
              "      background-color: #434B5C;\n",
              "      box-shadow: 0px 1px 3px 1px rgba(0, 0, 0, 0.15);\n",
              "      filter: drop-shadow(0px 1px 2px rgba(0, 0, 0, 0.3));\n",
              "      fill: #FFFFFF;\n",
              "    }\n",
              "  </style>\n",
              "\n",
              "      <script>\n",
              "        const buttonEl =\n",
              "          document.querySelector('#df-9e4786f8-563f-441e-99c8-32e7b60d8b97 button.colab-df-convert');\n",
              "        buttonEl.style.display =\n",
              "          google.colab.kernel.accessAllowed ? 'block' : 'none';\n",
              "\n",
              "        async function convertToInteractive(key) {\n",
              "          const element = document.querySelector('#df-9e4786f8-563f-441e-99c8-32e7b60d8b97');\n",
              "          const dataTable =\n",
              "            await google.colab.kernel.invokeFunction('convertToInteractive',\n",
              "                                                     [key], {});\n",
              "          if (!dataTable) return;\n",
              "\n",
              "          const docLinkHtml = 'Like what you see? Visit the ' +\n",
              "            '<a target=\"_blank\" href=https://colab.research.google.com/notebooks/data_table.ipynb>data table notebook</a>'\n",
              "            + ' to learn more about interactive tables.';\n",
              "          element.innerHTML = '';\n",
              "          dataTable['output_type'] = 'display_data';\n",
              "          await google.colab.output.renderOutput(dataTable, element);\n",
              "          const docLink = document.createElement('div');\n",
              "          docLink.innerHTML = docLinkHtml;\n",
              "          element.appendChild(docLink);\n",
              "        }\n",
              "      </script>\n",
              "    </div>\n",
              "  </div>\n",
              "  "
            ]
          },
          "metadata": {},
          "execution_count": 51
        }
      ]
    },
    {
      "cell_type": "code",
      "source": [
        "y_test_one_hot = df.values\n",
        "# pred_one_hot = one_hot_pred.values"
      ],
      "metadata": {
        "id": "--ZTYQV1QBeK"
      },
      "execution_count": 52,
      "outputs": []
    },
    {
      "cell_type": "code",
      "source": [
        "y_test_one_hot"
      ],
      "metadata": {
        "id": "kAVo6qj8RdOD",
        "colab": {
          "base_uri": "https://localhost:8080/"
        },
        "outputId": "ade44409-212e-41c6-88bf-7b2fcd42f0a6"
      },
      "execution_count": 53,
      "outputs": [
        {
          "output_type": "execute_result",
          "data": {
            "text/plain": [
              "array([[0, 0, 0, 1],\n",
              "       [0, 1, 0, 0],\n",
              "       [0, 0, 1, 0],\n",
              "       ...,\n",
              "       [0, 0, 1, 0],\n",
              "       [1, 0, 0, 0],\n",
              "       [0, 0, 0, 1]])"
            ]
          },
          "metadata": {},
          "execution_count": 53
        }
      ]
    },
    {
      "cell_type": "code",
      "source": [
        "np.argmax(y_test_one_hot,axis=1)"
      ],
      "metadata": {
        "id": "6tP8D4_4R8Ki",
        "colab": {
          "base_uri": "https://localhost:8080/"
        },
        "outputId": "8eb8d6ca-2df7-45dc-a486-ec10b84e09c9"
      },
      "execution_count": 54,
      "outputs": [
        {
          "output_type": "execute_result",
          "data": {
            "text/plain": [
              "array([3, 1, 2, ..., 2, 0, 3])"
            ]
          },
          "metadata": {},
          "execution_count": 54
        }
      ]
    },
    {
      "cell_type": "code",
      "source": [
        "from sklearn.metrics import confusion_matrix\n",
        "import seaborn as sb\n",
        "c_m = confusion_matrix(np.argmax(y_test_one_hot,axis=1),pred_label)\n",
        "import matplotlib.pyplot as plt\n",
        "plt.figure(figsize=(10,7))\n",
        "sb.heatmap(c_m,annot=True,fmt=\".2f\",xticklabels=[i for i in class_names],yticklabels=[i for i in class_names])"
      ],
      "metadata": {
        "id": "nYt0XdpjQQfa",
        "colab": {
          "base_uri": "https://localhost:8080/",
          "height": 446
        },
        "outputId": "1cf89e3e-b7b0-4f66-fed0-8bb77ee8e955"
      },
      "execution_count": 55,
      "outputs": [
        {
          "output_type": "execute_result",
          "data": {
            "text/plain": [
              "<matplotlib.axes._subplots.AxesSubplot at 0x7fe44623be50>"
            ]
          },
          "metadata": {},
          "execution_count": 55
        },
        {
          "output_type": "display_data",
          "data": {
            "text/plain": [
              "<Figure size 720x504 with 2 Axes>"
            ],
            "image/png": "[encoded data removed]"
          },
          "metadata": {
            "needs_background": "light"
          }
        }
      ]
    },
    {
      "cell_type": "markdown",
      "source": [
        "##Mobile Net V2 Pixie"
      ],
      "metadata": {
        "id": "OJD4GLRhM4aM"
      }
    },
    {
      "cell_type": "code",
      "source": [
        "from tensorflow.keras.applications.mobilenet_v2 import MobileNetV2\n",
        "# base_Pixie = MobileNetV2(input_shape=[224,224,3],include_top=False)\n",
        "# Pixie_1 = tf.keras.Sequential()\n",
        "base_Pixie = MobileNetV2(input_shape = [224, 224, 3], weights = 'imagenet', include_top = False)"
      ],
      "metadata": {
        "id": "mOPUlrhvwG3a",
        "colab": {
          "base_uri": "https://localhost:8080/"
        },
        "outputId": "7c61a288-9a49-4fb8-cbb4-c2f8d1ae82ae"
      },
      "execution_count": 56,
      "outputs": [
        {
          "output_type": "stream",
          "name": "stdout",
          "text": [
            "Downloading data from https://storage.googleapis.com/tensorflow/keras-applications/mobilenet_v2/mobilenet_v2_weights_tf_dim_ordering_tf_kernels_1.0_224_no_top.h5\n",
            "9412608/9406464 [==============================] - 0s 0us/step\n",
            "9420800/9406464 [==============================] - 0s 0us/step\n"
          ]
        }
      ]
    },
    {
      "cell_type": "code",
      "source": [
        "base_Pixie.trainable = True  \n",
        "\n",
        "for i in base_Pixie.layers[:100]: \n",
        "    base_Pixie.trainable = False\n",
        "    \n",
        "pool = tf.keras.layers.GlobalAveragePooling2D()\n",
        "mid_layer = tf.keras.layers.Dense(100,activation = 'relu')\n",
        "final_1 = tf.keras.layers.Dense(4,activation = 'softmax')\n",
        "\n",
        "Pixie_1 = tf.keras.Sequential([base_Pixie, mid_layer,pool, final_1])\n",
        "Pixie_1.summary()"
      ],
      "metadata": {
        "colab": {
          "base_uri": "https://localhost:8080/"
        },
        "id": "4DACU0dzwIZS",
        "outputId": "ad9d77d5-6f00-46cf-98fb-7e35d938562c"
      },
      "execution_count": 57,
      "outputs": [
        {
          "output_type": "stream",
          "name": "stdout",
          "text": [
            "Model: \"sequential_1\"\n",
            "_________________________________________________________________\n",
            " Layer (type)                Output Shape              Param #   \n",
            "=================================================================\n",
            " mobilenetv2_1.00_224 (Funct  (None, 7, 7, 1280)       2257984   \n",
            " ional)                                                          \n",
            "                                                                 \n",
            " dense_1 (Dense)             (None, 7, 7, 100)         128100    \n",
            "                                                                 \n",
            " global_average_pooling2d (G  (None, 100)              0         \n",
            " lobalAveragePooling2D)                                          \n",
            "                                                                 \n",
            " dense_2 (Dense)             (None, 4)                 404       \n",
            "                                                                 \n",
            "=================================================================\n",
            "Total params: 2,386,488\n",
            "Trainable params: 128,504\n",
            "Non-trainable params: 2,257,984\n",
            "_________________________________________________________________\n"
          ]
        }
      ]
    },
    {
      "cell_type": "code",
      "source": [
        "Pixie_1.compile(loss = 'categorical_crossentropy',optimizer = 'adam',metrics = 'accuracy')\n",
        "History = Pixie_1.fit(train_data,epochs = 15,steps_per_epoch=len(train_data),validation_data=valid_data,validation_steps=len(valid_data))"
      ],
      "metadata": {
        "colab": {
          "base_uri": "https://localhost:8080/"
        },
        "id": "wkWvRbiowOXq",
        "outputId": "3638c916-f041-43d5-ecaa-d4cedb53e594"
      },
      "execution_count": 58,
      "outputs": [
        {
          "output_type": "stream",
          "name": "stdout",
          "text": [
            "Epoch 1/15\n",
            "127/127 [==============================] - 21s 119ms/step - loss: 0.1031 - accuracy: 0.9640 - val_loss: 0.0344 - val_accuracy: 0.9892\n",
            "Epoch 2/15\n",
            "127/127 [==============================] - 12s 91ms/step - loss: 0.0222 - accuracy: 0.9931 - val_loss: 0.0281 - val_accuracy: 0.9901\n",
            "Epoch 3/15\n",
            "127/127 [==============================] - 10s 81ms/step - loss: 0.0157 - accuracy: 0.9951 - val_loss: 0.0310 - val_accuracy: 0.9882\n",
            "Epoch 4/15\n",
            "127/127 [==============================] - 11s 83ms/step - loss: 0.0127 - accuracy: 0.9965 - val_loss: 0.0345 - val_accuracy: 0.9872\n",
            "Epoch 5/15\n",
            "127/127 [==============================] - 10s 82ms/step - loss: 0.0109 - accuracy: 0.9973 - val_loss: 0.0380 - val_accuracy: 0.9872\n",
            "Epoch 6/15\n",
            "127/127 [==============================] - 10s 82ms/step - loss: 0.0099 - accuracy: 0.9975 - val_loss: 0.0420 - val_accuracy: 0.9882\n",
            "Epoch 7/15\n",
            "127/127 [==============================] - 12s 92ms/step - loss: 0.0091 - accuracy: 0.9980 - val_loss: 0.0466 - val_accuracy: 0.9882\n",
            "Epoch 8/15\n",
            "127/127 [==============================] - 10s 82ms/step - loss: 0.0087 - accuracy: 0.9983 - val_loss: 0.0541 - val_accuracy: 0.9872\n",
            "Epoch 9/15\n",
            "127/127 [==============================] - 10s 81ms/step - loss: 0.0080 - accuracy: 0.9983 - val_loss: 0.0673 - val_accuracy: 0.9872\n",
            "Epoch 10/15\n",
            "127/127 [==============================] - 11s 83ms/step - loss: 0.0076 - accuracy: 0.9983 - val_loss: 0.0830 - val_accuracy: 0.9813\n",
            "Epoch 11/15\n",
            "127/127 [==============================] - 11s 89ms/step - loss: 0.0059 - accuracy: 0.9988 - val_loss: 0.0937 - val_accuracy: 0.9793\n",
            "Epoch 12/15\n",
            "127/127 [==============================] - 10s 81ms/step - loss: 0.0052 - accuracy: 0.9990 - val_loss: 0.1031 - val_accuracy: 0.9773\n",
            "Epoch 13/15\n",
            "127/127 [==============================] - 10s 81ms/step - loss: 0.0044 - accuracy: 0.9993 - val_loss: 0.0784 - val_accuracy: 0.9832\n",
            "Epoch 14/15\n",
            "127/127 [==============================] - 10s 81ms/step - loss: 0.0036 - accuracy: 0.9993 - val_loss: 0.0587 - val_accuracy: 0.9872\n",
            "Epoch 15/15\n",
            "127/127 [==============================] - 10s 82ms/step - loss: 0.0035 - accuracy: 0.9990 - val_loss: 0.0479 - val_accuracy: 0.9872\n"
          ]
        }
      ]
    },
    {
      "cell_type": "markdown",
      "source": [
        "##Checking on the testing data "
      ],
      "metadata": {
        "id": "wOP1ijO9RbJC"
      }
    },
    {
      "cell_type": "code",
      "source": [
        "desert_dir = make_directory(class_names[1],desert_test)\n",
        "cloudy_dir = make_directory(class_names[0],cloudy_test)\n",
        "green_area_dir = make_directory(class_names[2],green_area_test)\n",
        "water_dir = make_directory(class_names[3],water_test)"
      ],
      "metadata": {
        "id": "6oa3eF1xTMPz"
      },
      "execution_count": 59,
      "outputs": []
    },
    {
      "cell_type": "code",
      "source": [
        "cloudy_df = create_dataframe(class_names[0],cloudy_dir)\n",
        "desert_df = create_dataframe(class_names[1],desert_dir)\n",
        "green_area_df = create_dataframe(class_names[2],green_area_dir)\n",
        "water_df = create_dataframe(class_names[3],water_dir)"
      ],
      "metadata": {
        "id": "Y8NNATiNY0Ss"
      },
      "execution_count": 60,
      "outputs": []
    },
    {
      "cell_type": "code",
      "source": [
        "cloudy_vs_desert_df = desert_df.append(cloudy_df)\n",
        "green_area_vs_water_df = green_area_df.append(water_df)\n",
        "full_multiclass_df = cloudy_vs_desert_df.append(green_area_vs_water_df)"
      ],
      "metadata": {
        "id": "9cpYCUcbY4tx"
      },
      "execution_count": 61,
      "outputs": []
    },
    {
      "cell_type": "code",
      "source": [
        "index_num = []\n",
        "for index_val,data in enumerate(full_multiclass_df.dir):\n",
        "  index_num.append(index_val)"
      ],
      "metadata": {
        "id": "f2j9iSqaZD_i"
      },
      "execution_count": 62,
      "outputs": []
    },
    {
      "cell_type": "code",
      "source": [
        "full_multiclass_df = cloudy_vs_desert_df.append(green_area_vs_water_df,ignore_index=True)\n",
        "full_multiclass_df = pd.DataFrame(full_multiclass_df,index=index_num)\n",
        "# full_multiclass_df"
      ],
      "metadata": {
        "id": "HwwiPAdOZGVh"
      },
      "execution_count": 63,
      "outputs": []
    },
    {
      "cell_type": "code",
      "source": [
        "labels = full_multiclass_df.classes.to_numpy()\n",
        "# labels"
      ],
      "metadata": {
        "id": "R4yrTdJuZIXd"
      },
      "execution_count": 64,
      "outputs": []
    },
    {
      "cell_type": "code",
      "source": [
        "unique_labels = np.unique(labels)\n",
        "unique_labels"
      ],
      "metadata": {
        "id": "1p45A42fZOEy",
        "colab": {
          "base_uri": "https://localhost:8080/"
        },
        "outputId": "1c38095c-cf25-4bb7-de44-92fec2aae457"
      },
      "execution_count": 65,
      "outputs": [
        {
          "output_type": "execute_result",
          "data": {
            "text/plain": [
              "array(['cloudy', 'desert', 'green_area', 'water'], dtype=object)"
            ]
          },
          "metadata": {},
          "execution_count": 65
        }
      ]
    },
    {
      "cell_type": "code",
      "source": [
        "boolean_labels = [label==unique_labels for label in labels]\n",
        "len(boolean_labels)"
      ],
      "metadata": {
        "id": "1eqzeoESZTD0",
        "colab": {
          "base_uri": "https://localhost:8080/"
        },
        "outputId": "d3c04126-6e29-4361-9cd2-8842d504b89f"
      },
      "execution_count": 66,
      "outputs": [
        {
          "output_type": "execute_result",
          "data": {
            "text/plain": [
              "564"
            ]
          },
          "metadata": {},
          "execution_count": 66
        }
      ]
    },
    {
      "cell_type": "code",
      "source": [
        "dir_list = full_multiclass_df.dir\n",
        "X = [x for x in dir_list]\n",
        "len(X)"
      ],
      "metadata": {
        "id": "CeE2PQNuZTcC",
        "colab": {
          "base_uri": "https://localhost:8080/"
        },
        "outputId": "a42f8388-0562-4372-e7a0-679f89bbb09a"
      },
      "execution_count": 67,
      "outputs": [
        {
          "output_type": "execute_result",
          "data": {
            "text/plain": [
              "564"
            ]
          },
          "metadata": {},
          "execution_count": 67
        }
      ]
    },
    {
      "cell_type": "code",
      "source": [
        "Y = boolean_labels\n",
        "len(Y)"
      ],
      "metadata": {
        "id": "NosRuHARbgoa",
        "colab": {
          "base_uri": "https://localhost:8080/"
        },
        "outputId": "20397d5f-35c3-4536-c4ce-5021a3f5f370"
      },
      "execution_count": 68,
      "outputs": [
        {
          "output_type": "execute_result",
          "data": {
            "text/plain": [
              "564"
            ]
          },
          "metadata": {},
          "execution_count": 68
        }
      ]
    },
    {
      "cell_type": "markdown",
      "source": [
        "##Predicting images "
      ],
      "metadata": {
        "id": "sCIDfPoRlPVU"
      }
    },
    {
      "cell_type": "code",
      "source": [
        "len(X)"
      ],
      "metadata": {
        "id": "r6PJg4KxlmHq",
        "colab": {
          "base_uri": "https://localhost:8080/"
        },
        "outputId": "5a91f03c-de1e-42eb-8e85-d5ef10db3103"
      },
      "execution_count": 69,
      "outputs": [
        {
          "output_type": "execute_result",
          "data": {
            "text/plain": [
              "564"
            ]
          },
          "metadata": {},
          "execution_count": 69
        }
      ]
    },
    {
      "cell_type": "code",
      "source": [
        "x = X[333]\n",
        "x"
      ],
      "metadata": {
        "id": "DCBQChrslXhD",
        "colab": {
          "base_uri": "https://localhost:8080/",
          "height": 36
        },
        "outputId": "3afbf199-193c-46d5-c367-36c5a8edeee1"
      },
      "execution_count": 70,
      "outputs": [
        {
          "output_type": "execute_result",
          "data": {
            "text/plain": [
              "'/content/drive/MyDrive/Satellite Image/data/green_area/Forest_2810.jpg'"
            ],
            "application/vnd.google.colaboratory.intrinsic+json": {
              "type": "string"
            }
          },
          "metadata": {},
          "execution_count": 70
        }
      ]
    },
    {
      "cell_type": "code",
      "source": [
        "img_data = mpim.imread(x)\n",
        "img = tf.image.resize(img_data[:,:,:3],size=(224,224))\n",
        "# print(img)\n",
        "pred = Pixie_1.predict(tf.expand_dims(img,axis=0))\n",
        "pred_label = np.argmax(pred,axis=1)\n",
        "class_name =class_names[pred_label[0]]\n",
        "plt.imshow(img_data)\n",
        "plt.title(class_name)\n",
        "plt.axis(False);"
      ],
      "metadata": {
        "id": "HnMOJH7umgyc",
        "colab": {
          "base_uri": "https://localhost:8080/",
          "height": 264
        },
        "outputId": "233bc98b-f682-40e9-df6a-18ae00d6dd47"
      },
      "execution_count": 71,
      "outputs": [
        {
          "output_type": "display_data",
          "data": {
            "text/plain": [
              "<Figure size 432x288 with 1 Axes>"
            ],
            "image/png": "[encoded data removed]"
          },
          "metadata": {
            "needs_background": "light"
          }
        }
      ]
    },
    {
      "cell_type": "code",
      "source": [
        "# predict_image(x,Pixie,class_names)"
      ],
      "metadata": {
        "id": "X6lWjOyMlTly"
      },
      "execution_count": 72,
      "outputs": []
    },
    {
      "cell_type": "markdown",
      "source": [
        "##ConfusionMatrix"
      ],
      "metadata": {
        "id": "jtUtXTDPjvDE"
      }
    },
    {
      "cell_type": "code",
      "source": [
        "test_final_dataset = True\n",
        "x_data = X\n",
        "y_test = Y\n",
        "if not test_final_dataset:\n",
        "  x_test_dataset = tf.data.Dataset.from_tensor_slices((x_data)).map(preprocessing_image).batch(32)\n",
        "else:\n",
        "  x_test_dataset = tf.data.Dataset.from_tensor_slices((x_data)).map(preprocessing_image).shuffle(True).batch(32)\n",
        "  \n",
        "pred = Pixie_1.predict(x_test_dataset)\n",
        "pred_label = np.argmax(pred,axis=1)\n",
        "  \n",
        "y_test_one_hot = []\n",
        "if not test_final_dataset:\n",
        "  for i in range(len(y_test)):\n",
        "    y = y_test[i].astype(int)\n",
        "    y_test_one_hot.append(y)\n",
        "  \n",
        "  df = pd.DataFrame(y_test_one_hot)\n",
        "  y_test_one_hot = df.values\n",
        "else:\n",
        "  for i in range(len(y_test)):\n",
        "   y = y_test[i].astype(int)\n",
        "   y_test_one_hot.append(y)\n",
        "  \n",
        "  df = pd.DataFrame(y_test_one_hot)\n",
        "  y_test_one_hot = df.values\n",
        "\n",
        "  \n",
        "from sklearn.metrics import confusion_matrix\n",
        "import seaborn as sb\n",
        "c_m = confusion_matrix(np.argmax(y_test_one_hot,axis=1),pred_label)\n",
        " \n",
        "import matplotlib.pyplot as plt\n",
        "plt.figure(figsize=(10,7))\n",
        "sb.heatmap(c_m,annot=True,fmt=\".2f\",xticklabels=[i for i in class_names],yticklabels=[i for i in class_names])"
      ],
      "metadata": {
        "id": "MRIaEI-gRc8X",
        "colab": {
          "base_uri": "https://localhost:8080/",
          "height": 446
        },
        "outputId": "ab4adb11-121a-4c52-e1af-f760896b3527"
      },
      "execution_count": 73,
      "outputs": [
        {
          "output_type": "execute_result",
          "data": {
            "text/plain": [
              "<matplotlib.axes._subplots.AxesSubplot at 0x7fe3a43ad050>"
            ]
          },
          "metadata": {},
          "execution_count": 73
        },
        {
          "output_type": "display_data",
          "data": {
            "text/plain": [
              "<Figure size 720x504 with 2 Axes>"
            ],
            "image/png": "[encoded data removed]"
          },
          "metadata": {
            "needs_background": "light"
          }
        }
      ]
    },
    {
      "cell_type": "markdown",
      "source": [
        "###Our Dense Pixie Confusion Matrix"
      ],
      "metadata": {
        "id": "EkAbVtsdotwA"
      }
    },
    {
      "cell_type": "code",
      "source": [
        "x_test_dataset = tf.data.Dataset.from_tensor_slices((x_train)).map(preprocessing_image).shuffle(True).batch(32)\n",
        "  \n",
        "pred = Pixie.predict(x_test_dataset)\n",
        "pred_label = np.argmax(pred,axis=1)\n",
        "y_test_one_hot = []\n",
        "for i in range(len(y_train)):\n",
        "    y = y_train[i].astype(int)\n",
        "    y_test_one_hot.append(y)\n",
        "  \n",
        "df = pd.DataFrame(y_test_one_hot)\n",
        "y_test_one_hot = df.values\n",
        "\n",
        "  \n",
        "from sklearn.metrics import confusion_matrix\n",
        "import seaborn as sb\n",
        "c_m = confusion_matrix(np.argmax(y_test_one_hot,axis=1),pred_label)\n",
        " \n",
        "import matplotlib.pyplot as plt\n",
        "plt.figure(figsize=(10,7))\n",
        "sb.heatmap(c_m,annot=True,fmt=\".2f\",xticklabels=[i for i in class_names],yticklabels=[i for i in class_names])"
      ],
      "metadata": {
        "id": "Y9Ev3o0OcPjv",
        "colab": {
          "base_uri": "https://localhost:8080/",
          "height": 446
        },
        "outputId": "7649d918-6c5c-4205-a95b-eabc695decec"
      },
      "execution_count": 74,
      "outputs": [
        {
          "output_type": "execute_result",
          "data": {
            "text/plain": [
              "<matplotlib.axes._subplots.AxesSubplot at 0x7fe3a42a3c10>"
            ]
          },
          "metadata": {},
          "execution_count": 74
        },
        {
          "output_type": "display_data",
          "data": {
            "text/plain": [
              "<Figure size 720x504 with 2 Axes>"
            ],
            "image/png": "[encoded data removed]"
          },
          "metadata": {
            "needs_background": "light"
          }
        }
      ]
    },
    {
      "cell_type": "code",
      "source": [
        ""
      ],
      "metadata": {
        "id": "1bw7rnIQLtja"
      },
      "execution_count": 74,
      "outputs": []
    }
  ]
}