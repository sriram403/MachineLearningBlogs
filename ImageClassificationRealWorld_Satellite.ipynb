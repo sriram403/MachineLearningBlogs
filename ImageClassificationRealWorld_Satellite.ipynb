{
  "nbformat": 4,
  "nbformat_minor": 0,
  "metadata": {
    "colab": {
      "name": "ImageClassificationRealWorld_Satellite.ipynb",
      "provenance": [],
      "collapsed_sections": [],
      "toc_visible": true,
      "mount_file_id": "1wt12Vzo4PoXnEdW5HZj5AxEGBBn_OR0I",
      "authorship_tag": "ABX9TyMr0M67DVPUSfU/XEmhmXx/",
      "include_colab_link": true
    },
    "kernelspec": {
      "name": "python3",
      "display_name": "Python 3"
    },
    "language_info": {
      "name": "python"
    },
    "accelerator": "GPU",
    "gpuClass": "standard"
  },
  "cells": [
    {
      "cell_type": "markdown",
      "metadata": {
        "id": "view-in-github",
        "colab_type": "text"
      },
      "source": [
        "<a href=\"https://colab.research.google.com/github/sriram403/MachineLearningBlogs/blob/main/ImageClassificationRealWorld_Satellite.ipynb\" target=\"_parent\"><img src=\"https://colab.research.google.com/assets/colab-badge.svg\" alt=\"Open In Colab\"/></a>"
      ]
    },
    {
      "cell_type": "markdown",
      "source": [
        "#Satellite image Classification Dataset-RSI-CB256 🛰\n",
        "https://www.kaggle.com/datasets/mahmoudreda55/satellite-image-classification?select=data\n",
        "\n",
        "**Remote sensing(RS) is the process of detecting and monitoring the physical characteristics of an area by measuring its reflected and emitted radiation at a distance (typically from satellite or aircraft).**"
      ],
      "metadata": {
        "id": "6Aocj8M1__fL"
      }
    },
    {
      "cell_type": "markdown",
      "source": [
        "##Loading Data "
      ],
      "metadata": {
        "id": "IIFr2r1VARpR"
      }
    },
    {
      "cell_type": "code",
      "execution_count": null,
      "metadata": {
        "id": "wVl4_WuuXVt3"
      },
      "outputs": [],
      "source": [
        "# !unzip \"/content/drive/MyDrive/Satellite Image/satellite.zip\" -d \"/content/drive/MyDrive/Satellite Image\""
      ]
    },
    {
      "cell_type": "code",
      "source": [
        "!ls \"/content/drive/MyDrive/Satellite Image/data\""
      ],
      "metadata": {
        "colab": {
          "base_uri": "https://localhost:8080/"
        },
        "id": "KxarceEuYh-I",
        "outputId": "e69705f9-d6bb-406e-cb0c-1bb21bb11e73"
      },
      "execution_count": null,
      "outputs": [
        {
          "output_type": "stream",
          "name": "stdout",
          "text": [
            "cloudy\tdesert\tgreen_area  water\n"
          ]
        }
      ]
    },
    {
      "cell_type": "code",
      "source": [
        "import os\n",
        "class_names = os.listdir(\"/content/drive/MyDrive/Satellite Image/data\")\n",
        "class_names"
      ],
      "metadata": {
        "colab": {
          "base_uri": "https://localhost:8080/"
        },
        "id": "HpA6ntL-bAh-",
        "outputId": "f1d64052-f211-4a94-9eb3-f88c90bbfb90"
      },
      "execution_count": null,
      "outputs": [
        {
          "output_type": "execute_result",
          "data": {
            "text/plain": [
              "['cloudy', 'desert', 'green_area', 'water']"
            ]
          },
          "metadata": {},
          "execution_count": 151
        }
      ]
    },
    {
      "cell_type": "code",
      "source": [
        "for filedir,filename,image in os.walk(\"/content/drive/MyDrive/Satellite Image/data\"):\n",
        "  print(f\"In {filedir} there are {len(filename)} files and it contains {len(image)} images\")"
      ],
      "metadata": {
        "colab": {
          "base_uri": "https://localhost:8080/"
        },
        "id": "_KFHasmLba5Y",
        "outputId": "2431029b-bd45-4eef-b7ae-9674a78ac32d"
      },
      "execution_count": null,
      "outputs": [
        {
          "output_type": "stream",
          "name": "stdout",
          "text": [
            "In /content/drive/MyDrive/Satellite Image/data there are 4 files and it contains 0 images\n",
            "In /content/drive/MyDrive/Satellite Image/data/cloudy there are 0 files and it contains 1500 images\n",
            "In /content/drive/MyDrive/Satellite Image/data/desert there are 0 files and it contains 1131 images\n",
            "In /content/drive/MyDrive/Satellite Image/data/green_area there are 0 files and it contains 1500 images\n",
            "In /content/drive/MyDrive/Satellite Image/data/water there are 0 files and it contains 1500 images\n"
          ]
        }
      ]
    },
    {
      "cell_type": "markdown",
      "source": [
        "##visualizing the picture"
      ],
      "metadata": {
        "id": "kbI4a-s7AVuB"
      }
    },
    {
      "cell_type": "code",
      "source": [
        "import random \n",
        "import numpy as np\n",
        "import matplotlib.pyplot as plt\n",
        "import matplotlib.image as mpim\n",
        "\n",
        "def visualize_image(dir,class_name):\n",
        "    chossen_image = dir+\"/\"+class_name\n",
        "    random_image = random.sample(os.listdir(chossen_image),1)\n",
        "    img_data = mpim.imread(chossen_image + \"/\" + random_image[0] )\n",
        "    \n",
        "    plt.figure(figsize=(10,7))\n",
        "    plt.imshow(img_data)\n",
        "    plt.title(class_name)\n",
        "    plt.axis(False)\n",
        "\n"
      ],
      "metadata": {
        "id": "lBzq8x3eb1mQ"
      },
      "execution_count": null,
      "outputs": []
    },
    {
      "cell_type": "code",
      "source": [
        "class_names"
      ],
      "metadata": {
        "colab": {
          "base_uri": "https://localhost:8080/"
        },
        "id": "LWuG-0c3c-7u",
        "outputId": "6b2a60cc-5ab9-4d1f-9d02-78629dd76f7a"
      },
      "execution_count": null,
      "outputs": [
        {
          "output_type": "execute_result",
          "data": {
            "text/plain": [
              "['cloudy', 'desert', 'green_area', 'water']"
            ]
          },
          "metadata": {},
          "execution_count": 154
        }
      ]
    },
    {
      "cell_type": "code",
      "source": [
        "dir = \"/content/drive/MyDrive/Satellite Image/data\"\n",
        "visualize_image(dir,class_names[2])"
      ],
      "metadata": {
        "colab": {
          "base_uri": "https://localhost:8080/",
          "height": 427
        },
        "id": "2OTlPDR9CPvn",
        "outputId": "b9d5da4c-9c1c-46a0-8ae2-579d34646a4b"
      },
      "execution_count": null,
      "outputs": [
        {
          "output_type": "display_data",
          "data": {
            "text/plain": [
              "<Figure size 720x504 with 1 Axes>"
            ],
            "image/png": "[encoded data removed]"
          },
          "metadata": {
            "needs_background": "light"
          }
        }
      ]
    },
    {
      "cell_type": "markdown",
      "source": [
        "##Splitting the train_and_test_dir"
      ],
      "metadata": {
        "id": "HxXOp0vLAaaT"
      }
    },
    {
      "cell_type": "code",
      "source": [
        "x = os.listdir(\"/content/drive/MyDrive/Satellite Image/data/desert/\")\n",
        "len(x)"
      ],
      "metadata": {
        "colab": {
          "base_uri": "https://localhost:8080/"
        },
        "id": "oo3NJJpugy9u",
        "outputId": "afa49dd3-70c5-4b0d-9499-fe79efdb526c"
      },
      "execution_count": null,
      "outputs": [
        {
          "output_type": "execute_result",
          "data": {
            "text/plain": [
              "1131"
            ]
          },
          "metadata": {},
          "execution_count": 156
        }
      ]
    },
    {
      "cell_type": "code",
      "source": [
        "1131*0.8"
      ],
      "metadata": {
        "colab": {
          "base_uri": "https://localhost:8080/"
        },
        "id": "CJk_mjtvjbid",
        "outputId": "17a94909-6819-4e96-e152-36d1cb73c58a"
      },
      "execution_count": null,
      "outputs": [
        {
          "output_type": "execute_result",
          "data": {
            "text/plain": [
              "904.8000000000001"
            ]
          },
          "metadata": {},
          "execution_count": 157
        }
      ]
    },
    {
      "cell_type": "code",
      "source": [
        "def splitting_train_test_data(dir,class_name):\n",
        "  chossen_dir = dir +\"/\" + class_name\n",
        "  all_the_images = os.listdir(chossen_dir)\n",
        "  # random.shuffle(all_the_images)\n",
        "  index = int(len(all_the_images)*0.9)\n",
        "  return all_the_images[:index],all_the_images[index:]"
      ],
      "metadata": {
        "id": "0krzNdpWhjff"
      },
      "execution_count": null,
      "outputs": []
    },
    {
      "cell_type": "code",
      "source": [
        "dir = \"/content/drive/MyDrive/Satellite Image/data/\"\n",
        "class_names"
      ],
      "metadata": {
        "colab": {
          "base_uri": "https://localhost:8080/"
        },
        "id": "gjOnVFvPjCm9",
        "outputId": "bb1acc6f-fe1e-4091-e74a-336c0e5d0fe0"
      },
      "execution_count": null,
      "outputs": [
        {
          "output_type": "execute_result",
          "data": {
            "text/plain": [
              "['cloudy', 'desert', 'green_area', 'water']"
            ]
          },
          "metadata": {},
          "execution_count": 159
        }
      ]
    },
    {
      "cell_type": "code",
      "source": [
        "desert_train,desert_test = splitting_train_test_data(dir,class_names[1])\n",
        "len(desert_train)"
      ],
      "metadata": {
        "colab": {
          "base_uri": "https://localhost:8080/"
        },
        "id": "bp0wDKnLc75Y",
        "outputId": "20d22797-2149-4222-b942-ef59ed344e9b"
      },
      "execution_count": null,
      "outputs": [
        {
          "output_type": "execute_result",
          "data": {
            "text/plain": [
              "1017"
            ]
          },
          "metadata": {},
          "execution_count": 160
        }
      ]
    },
    {
      "cell_type": "code",
      "source": [
        "cloudy_train,cloudy_test = splitting_train_test_data(dir,class_names[0])\n",
        "green_area_train,green_area_test = splitting_train_test_data(dir,class_names[2])\n",
        "water_train,water_test = splitting_train_test_data(dir,class_names[3])"
      ],
      "metadata": {
        "id": "ScutighPjnEU"
      },
      "execution_count": null,
      "outputs": []
    },
    {
      "cell_type": "markdown",
      "source": [
        "##Making directory for train_dataset"
      ],
      "metadata": {
        "id": "RlkHGfmTAjZC"
      }
    },
    {
      "cell_type": "code",
      "source": [
        "dir = \"/content/drive/MyDrive/Satellite Image/data\"\n",
        "\n",
        "def make_directory(chossen_class,datas):\n",
        "  chossen_dir = dir +\"/\"+ chossen_class+\"/\"\n",
        "  train_dir = []\n",
        "  for data in datas:\n",
        "    train_directory = chossen_dir + data\n",
        "    train_dir.append(train_directory)\n",
        "  return train_dir"
      ],
      "metadata": {
        "id": "o6dNQzb-j1y0"
      },
      "execution_count": null,
      "outputs": []
    },
    {
      "cell_type": "code",
      "source": [
        "desert_dir = make_directory(class_names[1],desert_train)\n",
        "cloudy_dir = make_directory(class_names[0],cloudy_train)\n",
        "green_area_dir = make_directory(class_names[2],green_area_train)\n",
        "water_dir = make_directory(class_names[3],water_train)"
      ],
      "metadata": {
        "id": "chVYzxZXm-3q"
      },
      "execution_count": null,
      "outputs": []
    },
    {
      "cell_type": "code",
      "source": [
        "random_image = random.sample(green_area_dir,1)\n",
        "img_data = mpim.imread(random_image[0])\n",
        "plt.imshow(img_data)\n",
        "plt.axis(False);"
      ],
      "metadata": {
        "colab": {
          "base_uri": "https://localhost:8080/",
          "height": 248
        },
        "id": "EXuZD6_ttW-g",
        "outputId": "1a93c1a7-b6d4-4235-afc5-a532b600102f"
      },
      "execution_count": null,
      "outputs": [
        {
          "output_type": "display_data",
          "data": {
            "text/plain": [
              "<Figure size 432x288 with 1 Axes>"
            ],
            "image/png": "[encoded data removed]"
          },
          "metadata": {
            "needs_background": "light"
          }
        }
      ]
    },
    {
      "cell_type": "markdown",
      "source": [
        "##Creating a DataFrame of all train directories"
      ],
      "metadata": {
        "id": "tzcPNFv7Ar_K"
      }
    },
    {
      "cell_type": "code",
      "source": [
        "import pandas as pd\n",
        "def create_dataframe(class_name,dir):\n",
        "  df = pd.DataFrame(dir,columns=[\"dir\"])\n",
        "  df[\"classes\"] = class_name\n",
        "  return df"
      ],
      "metadata": {
        "id": "IuQlxFowzyZu"
      },
      "execution_count": null,
      "outputs": []
    },
    {
      "cell_type": "code",
      "source": [
        "class_names"
      ],
      "metadata": {
        "colab": {
          "base_uri": "https://localhost:8080/"
        },
        "id": "6mOZq1dD4JV2",
        "outputId": "80c57356-1f63-485d-d3dc-839464e40675"
      },
      "execution_count": null,
      "outputs": [
        {
          "output_type": "execute_result",
          "data": {
            "text/plain": [
              "['cloudy', 'desert', 'green_area', 'water']"
            ]
          },
          "metadata": {},
          "execution_count": 166
        }
      ]
    },
    {
      "cell_type": "code",
      "source": [
        "cloudy_df = create_dataframe(class_names[0],cloudy_dir)\n",
        "desert_df = create_dataframe(class_names[1],desert_dir)\n",
        "green_area_df = create_dataframe(class_names[2],green_area_dir)\n",
        "water_df = create_dataframe(class_names[3],water_dir)"
      ],
      "metadata": {
        "id": "fma9vxMU2A1e"
      },
      "execution_count": null,
      "outputs": []
    },
    {
      "cell_type": "code",
      "source": [
        "cloudy_vs_desert_df = desert_df.append(cloudy_df)\n",
        "green_area_vs_water_df = green_area_df.append(water_df)"
      ],
      "metadata": {
        "id": "hw1uAwKD4TrM"
      },
      "execution_count": null,
      "outputs": []
    },
    {
      "cell_type": "code",
      "source": [
        "multiclass_df = cloudy_vs_desert_df.append(green_area_vs_water_df,ignore_index=True)"
      ],
      "metadata": {
        "id": "0ZgEKszKU9rD"
      },
      "execution_count": null,
      "outputs": []
    },
    {
      "cell_type": "code",
      "source": [
        "index_num = []\n",
        "for index_val,data in enumerate(multiclass_df.dir):\n",
        "  index_num.append(index_val)"
      ],
      "metadata": {
        "id": "aoly0VTS8H2s"
      },
      "execution_count": null,
      "outputs": []
    },
    {
      "cell_type": "code",
      "source": [
        "full_multiclass_df = cloudy_vs_desert_df.append(green_area_vs_water_df,ignore_index=True)\n",
        "full_multiclass_df = pd.DataFrame(full_multiclass_df,index=index_num)\n",
        "full_multiclass_df"
      ],
      "metadata": {
        "colab": {
          "base_uri": "https://localhost:8080/",
          "height": 423
        },
        "id": "5puTwYZc4XEE",
        "outputId": "c2763efa-0229-4130-fde1-05e9fe20a38f"
      },
      "execution_count": null,
      "outputs": [
        {
          "output_type": "execute_result",
          "data": {
            "text/plain": [
              "                                                    dir classes\n",
              "0     /content/drive/MyDrive/Satellite Image/data/de...  desert\n",
              "1     /content/drive/MyDrive/Satellite Image/data/de...  desert\n",
              "2     /content/drive/MyDrive/Satellite Image/data/de...  desert\n",
              "3     /content/drive/MyDrive/Satellite Image/data/de...  desert\n",
              "4     /content/drive/MyDrive/Satellite Image/data/de...  desert\n",
              "...                                                 ...     ...\n",
              "5062  /content/drive/MyDrive/Satellite Image/data/wa...   water\n",
              "5063  /content/drive/MyDrive/Satellite Image/data/wa...   water\n",
              "5064  /content/drive/MyDrive/Satellite Image/data/wa...   water\n",
              "5065  /content/drive/MyDrive/Satellite Image/data/wa...   water\n",
              "5066  /content/drive/MyDrive/Satellite Image/data/wa...   water\n",
              "\n",
              "[5067 rows x 2 columns]"
            ],
            "text/html": [
              "\n",
              "  <div id=\"df-e68adf48-e57a-4e40-8d7f-9ad663b56fa1\">\n",
              "    <div class=\"colab-df-container\">\n",
              "      <div>\n",
              "<style scoped>\n",
              "    .dataframe tbody tr th:only-of-type {\n",
              "        vertical-align: middle;\n",
              "    }\n",
              "\n",
              "    .dataframe tbody tr th {\n",
              "        vertical-align: top;\n",
              "    }\n",
              "\n",
              "    .dataframe thead th {\n",
              "        text-align: right;\n",
              "    }\n",
              "</style>\n",
              "<table border=\"1\" class=\"dataframe\">\n",
              "  <thead>\n",
              "    <tr style=\"text-align: right;\">\n",
              "      <th></th>\n",
              "      <th>dir</th>\n",
              "      <th>classes</th>\n",
              "    </tr>\n",
              "  </thead>\n",
              "  <tbody>\n",
              "    <tr>\n",
              "      <th>0</th>\n",
              "      <td>/content/drive/MyDrive/Satellite Image/data/de...</td>\n",
              "      <td>desert</td>\n",
              "    </tr>\n",
              "    <tr>\n",
              "      <th>1</th>\n",
              "      <td>/content/drive/MyDrive/Satellite Image/data/de...</td>\n",
              "      <td>desert</td>\n",
              "    </tr>\n",
              "    <tr>\n",
              "      <th>2</th>\n",
              "      <td>/content/drive/MyDrive/Satellite Image/data/de...</td>\n",
              "      <td>desert</td>\n",
              "    </tr>\n",
              "    <tr>\n",
              "      <th>3</th>\n",
              "      <td>/content/drive/MyDrive/Satellite Image/data/de...</td>\n",
              "      <td>desert</td>\n",
              "    </tr>\n",
              "    <tr>\n",
              "      <th>4</th>\n",
              "      <td>/content/drive/MyDrive/Satellite Image/data/de...</td>\n",
              "      <td>desert</td>\n",
              "    </tr>\n",
              "    <tr>\n",
              "      <th>...</th>\n",
              "      <td>...</td>\n",
              "      <td>...</td>\n",
              "    </tr>\n",
              "    <tr>\n",
              "      <th>5062</th>\n",
              "      <td>/content/drive/MyDrive/Satellite Image/data/wa...</td>\n",
              "      <td>water</td>\n",
              "    </tr>\n",
              "    <tr>\n",
              "      <th>5063</th>\n",
              "      <td>/content/drive/MyDrive/Satellite Image/data/wa...</td>\n",
              "      <td>water</td>\n",
              "    </tr>\n",
              "    <tr>\n",
              "      <th>5064</th>\n",
              "      <td>/content/drive/MyDrive/Satellite Image/data/wa...</td>\n",
              "      <td>water</td>\n",
              "    </tr>\n",
              "    <tr>\n",
              "      <th>5065</th>\n",
              "      <td>/content/drive/MyDrive/Satellite Image/data/wa...</td>\n",
              "      <td>water</td>\n",
              "    </tr>\n",
              "    <tr>\n",
              "      <th>5066</th>\n",
              "      <td>/content/drive/MyDrive/Satellite Image/data/wa...</td>\n",
              "      <td>water</td>\n",
              "    </tr>\n",
              "  </tbody>\n",
              "</table>\n",
              "<p>5067 rows × 2 columns</p>\n",
              "</div>\n",
              "      <button class=\"colab-df-convert\" onclick=\"convertToInteractive('df-e68adf48-e57a-4e40-8d7f-9ad663b56fa1')\"\n",
              "              title=\"Convert this dataframe to an interactive table.\"\n",
              "              style=\"display:none;\">\n",
              "        \n",
              "  <svg xmlns=\"http://www.w3.org/2000/svg\" height=\"24px\"viewBox=\"0 0 24 24\"\n",
              "       width=\"24px\">\n",
              "    <path d=\"M0 0h24v24H0V0z\" fill=\"none\"/>\n",
              "    <path d=\"M18.56 5.44l.94 2.06.94-2.06 2.06-.94-2.06-.94-.94-2.06-.94 2.06-2.06.94zm-11 1L8.5 8.5l.94-2.06 2.06-.94-2.06-.94L8.5 2.5l-.94 2.06-2.06.94zm10 10l.94 2.06.94-2.06 2.06-.94-2.06-.94-.94-2.06-.94 2.06-2.06.94z\"/><path d=\"M17.41 7.96l-1.37-1.37c-.4-.4-.92-.59-1.43-.59-.52 0-1.04.2-1.43.59L10.3 9.45l-7.72 7.72c-.78.78-.78 2.05 0 2.83L4 21.41c.39.39.9.59 1.41.59.51 0 1.02-.2 1.41-.59l7.78-7.78 2.81-2.81c.8-.78.8-2.07 0-2.86zM5.41 20L4 18.59l7.72-7.72 1.47 1.35L5.41 20z\"/>\n",
              "  </svg>\n",
              "      </button>\n",
              "      \n",
              "  <style>\n",
              "    .colab-df-container {\n",
              "      display:flex;\n",
              "      flex-wrap:wrap;\n",
              "      gap: 12px;\n",
              "    }\n",
              "\n",
              "    .colab-df-convert {\n",
              "      background-color: #E8F0FE;\n",
              "      border: none;\n",
              "      border-radius: 50%;\n",
              "      cursor: pointer;\n",
              "      display: none;\n",
              "      fill: #1967D2;\n",
              "      height: 32px;\n",
              "      padding: 0 0 0 0;\n",
              "      width: 32px;\n",
              "    }\n",
              "\n",
              "    .colab-df-convert:hover {\n",
              "      background-color: #E2EBFA;\n",
              "      box-shadow: 0px 1px 2px rgba(60, 64, 67, 0.3), 0px 1px 3px 1px rgba(60, 64, 67, 0.15);\n",
              "      fill: #174EA6;\n",
              "    }\n",
              "\n",
              "    [theme=dark] .colab-df-convert {\n",
              "      background-color: #3B4455;\n",
              "      fill: #D2E3FC;\n",
              "    }\n",
              "\n",
              "    [theme=dark] .colab-df-convert:hover {\n",
              "      background-color: #434B5C;\n",
              "      box-shadow: 0px 1px 3px 1px rgba(0, 0, 0, 0.15);\n",
              "      filter: drop-shadow(0px 1px 2px rgba(0, 0, 0, 0.3));\n",
              "      fill: #FFFFFF;\n",
              "    }\n",
              "  </style>\n",
              "\n",
              "      <script>\n",
              "        const buttonEl =\n",
              "          document.querySelector('#df-e68adf48-e57a-4e40-8d7f-9ad663b56fa1 button.colab-df-convert');\n",
              "        buttonEl.style.display =\n",
              "          google.colab.kernel.accessAllowed ? 'block' : 'none';\n",
              "\n",
              "        async function convertToInteractive(key) {\n",
              "          const element = document.querySelector('#df-e68adf48-e57a-4e40-8d7f-9ad663b56fa1');\n",
              "          const dataTable =\n",
              "            await google.colab.kernel.invokeFunction('convertToInteractive',\n",
              "                                                     [key], {});\n",
              "          if (!dataTable) return;\n",
              "\n",
              "          const docLinkHtml = 'Like what you see? Visit the ' +\n",
              "            '<a target=\"_blank\" href=https://colab.research.google.com/notebooks/data_table.ipynb>data table notebook</a>'\n",
              "            + ' to learn more about interactive tables.';\n",
              "          element.innerHTML = '';\n",
              "          dataTable['output_type'] = 'display_data';\n",
              "          await google.colab.output.renderOutput(dataTable, element);\n",
              "          const docLink = document.createElement('div');\n",
              "          docLink.innerHTML = docLinkHtml;\n",
              "          element.appendChild(docLink);\n",
              "        }\n",
              "      </script>\n",
              "    </div>\n",
              "  </div>\n",
              "  "
            ]
          },
          "metadata": {},
          "execution_count": 171
        }
      ]
    },
    {
      "cell_type": "markdown",
      "source": [
        "##Changing the class_labels into boolean values"
      ],
      "metadata": {
        "id": "5EvmyEA5A0Zh"
      }
    },
    {
      "cell_type": "code",
      "source": [
        "full_multiclass_df.classes.value_counts()"
      ],
      "metadata": {
        "colab": {
          "base_uri": "https://localhost:8080/"
        },
        "id": "ekMHH2094729",
        "outputId": "d0401c00-0f69-45a2-84af-f414a481b0e9"
      },
      "execution_count": null,
      "outputs": [
        {
          "output_type": "execute_result",
          "data": {
            "text/plain": [
              "cloudy        1350\n",
              "green_area    1350\n",
              "water         1350\n",
              "desert        1017\n",
              "Name: classes, dtype: int64"
            ]
          },
          "metadata": {},
          "execution_count": 172
        }
      ]
    },
    {
      "cell_type": "code",
      "source": [
        "labels = full_multiclass_df.classes.to_numpy()\n",
        "labels"
      ],
      "metadata": {
        "colab": {
          "base_uri": "https://localhost:8080/"
        },
        "id": "aO-lG4fJ5jo0",
        "outputId": "7b267d93-2594-44db-ad87-67682cf77009"
      },
      "execution_count": null,
      "outputs": [
        {
          "output_type": "execute_result",
          "data": {
            "text/plain": [
              "array(['desert', 'desert', 'desert', ..., 'water', 'water', 'water'],\n",
              "      dtype=object)"
            ]
          },
          "metadata": {},
          "execution_count": 173
        }
      ]
    },
    {
      "cell_type": "code",
      "source": [
        "unique_labels = np.unique(labels)\n",
        "unique_labels"
      ],
      "metadata": {
        "colab": {
          "base_uri": "https://localhost:8080/"
        },
        "id": "fm13rVfB6WLs",
        "outputId": "ec06bbb0-9e11-4a1c-bdce-d2ee2cb61225"
      },
      "execution_count": null,
      "outputs": [
        {
          "output_type": "execute_result",
          "data": {
            "text/plain": [
              "array(['cloudy', 'desert', 'green_area', 'water'], dtype=object)"
            ]
          },
          "metadata": {},
          "execution_count": 174
        }
      ]
    },
    {
      "cell_type": "code",
      "source": [
        "boolean_labels = [label==unique_labels for label in labels]\n",
        "len(boolean_labels)"
      ],
      "metadata": {
        "colab": {
          "base_uri": "https://localhost:8080/"
        },
        "id": "7XEziLsB6kfN",
        "outputId": "ab01e9a1-5fea-4c60-d2a1-f3bef400d1ff"
      },
      "execution_count": null,
      "outputs": [
        {
          "output_type": "execute_result",
          "data": {
            "text/plain": [
              "5067"
            ]
          },
          "metadata": {},
          "execution_count": 175
        }
      ]
    },
    {
      "cell_type": "code",
      "source": [
        "dir_list = full_multiclass_df.dir\n",
        "X = [x for x in dir_list]\n",
        "len(X)"
      ],
      "metadata": {
        "colab": {
          "base_uri": "https://localhost:8080/"
        },
        "id": "bdInj7vg60kb",
        "outputId": "9c532d76-669b-4c0c-b8c5-d45727927984"
      },
      "execution_count": null,
      "outputs": [
        {
          "output_type": "execute_result",
          "data": {
            "text/plain": [
              "5067"
            ]
          },
          "metadata": {},
          "execution_count": 176
        }
      ]
    },
    {
      "cell_type": "code",
      "source": [
        "Y = boolean_labels\n",
        "len(Y)"
      ],
      "metadata": {
        "colab": {
          "base_uri": "https://localhost:8080/"
        },
        "id": "Xo8afQKo7NE0",
        "outputId": "f135e866-dab9-4008-ae8c-610d40008a98"
      },
      "execution_count": null,
      "outputs": [
        {
          "output_type": "execute_result",
          "data": {
            "text/plain": [
              "5067"
            ]
          },
          "metadata": {},
          "execution_count": 177
        }
      ]
    },
    {
      "cell_type": "markdown",
      "source": [
        "##Making train_test_split with the train_datasets"
      ],
      "metadata": {
        "id": "a50qB4V_95lD"
      }
    },
    {
      "cell_type": "code",
      "source": [
        "from sklearn.model_selection import train_test_split\n",
        "x_train,x_test,y_train,y_test = train_test_split(X,Y,test_size=0.2,random_state=42)"
      ],
      "metadata": {
        "id": "11cBTYmjBERT"
      },
      "execution_count": null,
      "outputs": []
    },
    {
      "cell_type": "code",
      "source": [
        "len(x_train),len(x_test)"
      ],
      "metadata": {
        "colab": {
          "base_uri": "https://localhost:8080/"
        },
        "id": "ninVSjme74Fq",
        "outputId": "7583e758-f34d-4eb8-90bf-f05ada508a04"
      },
      "execution_count": null,
      "outputs": [
        {
          "output_type": "execute_result",
          "data": {
            "text/plain": [
              "(4053, 1014)"
            ]
          },
          "metadata": {},
          "execution_count": 179
        }
      ]
    },
    {
      "cell_type": "code",
      "source": [
        "import tensorflow as tf\n",
        "def preprocessing_image(image_dir):\n",
        "  image_dir = tf.io.read_file(image_dir)\n",
        "  image_data = tf.image.decode_jpeg(image_dir,channels=3)\n",
        "  image = tf.image.convert_image_dtype(image_data,tf.float32)\n",
        "  image = tf.image.resize(image,size=(224,224))\n",
        "  return image"
      ],
      "metadata": {
        "id": "qXi8Hwbt9sgM"
      },
      "execution_count": null,
      "outputs": []
    },
    {
      "cell_type": "code",
      "source": [
        "def image_label(image,label):\n",
        "  return preprocessing_image(image),label"
      ],
      "metadata": {
        "id": "zrzUOzFl_yXe"
      },
      "execution_count": null,
      "outputs": []
    },
    {
      "cell_type": "code",
      "source": [
        "train_data = tf.data.Dataset.from_tensor_slices((x_train,y_train))\n",
        "train_data = train_data.map(image_label).batch(32)\n",
        "train_data"
      ],
      "metadata": {
        "colab": {
          "base_uri": "https://localhost:8080/"
        },
        "id": "E8RgR3K2ALAy",
        "outputId": "7816a984-0709-4360-a34d-8124055b07dc"
      },
      "execution_count": null,
      "outputs": [
        {
          "output_type": "execute_result",
          "data": {
            "text/plain": [
              "<BatchDataset element_spec=(TensorSpec(shape=(None, 224, 224, 3), dtype=tf.float32, name=None), TensorSpec(shape=(None, 4), dtype=tf.bool, name=None))>"
            ]
          },
          "metadata": {},
          "execution_count": 182
        }
      ]
    },
    {
      "cell_type": "code",
      "source": [
        "valid_data = tf.data.Dataset.from_tensor_slices((tf.constant(x_test),tf.constant(y_test))).map(image_label).batch(32)\n",
        "valid_data"
      ],
      "metadata": {
        "colab": {
          "base_uri": "https://localhost:8080/"
        },
        "id": "4EoEPTuXAuYq",
        "outputId": "e844b2f5-f52c-4915-e1e1-3c0c65abb960"
      },
      "execution_count": null,
      "outputs": [
        {
          "output_type": "execute_result",
          "data": {
            "text/plain": [
              "<BatchDataset element_spec=(TensorSpec(shape=(None, 224, 224, 3), dtype=tf.float32, name=None), TensorSpec(shape=(None, 4), dtype=tf.bool, name=None))>"
            ]
          },
          "metadata": {},
          "execution_count": 183
        }
      ]
    },
    {
      "cell_type": "markdown",
      "source": [
        "##Building Pixie"
      ],
      "metadata": {
        "id": "nohW_s2SDdIZ"
      }
    },
    {
      "cell_type": "code",
      "source": [
        "Pixie = tf.keras.Sequential([tf.keras.layers.Conv2D(10,3,activation=\"relu\",input_shape=(224,224,3)),\n",
        "                             tf.keras.layers.Conv2D(10,3,activation=\"relu\"),\n",
        "                             tf.keras.layers.MaxPool2D(),\n",
        "                             tf.keras.layers.Conv2D(10,3,activation=\"relu\"),\n",
        "                             tf.keras.layers.Conv2D(10,3,activation=\"relu\"),\n",
        "                             tf.keras.layers.MaxPool2D(),\n",
        "                             tf.keras.layers.Flatten(),\n",
        "                             tf.keras.layers.Dense(len(class_names),activation=\"softmax\")])\n",
        "Pixie.summary()"
      ],
      "metadata": {
        "colab": {
          "base_uri": "https://localhost:8080/"
        },
        "id": "bnh7-rYoDy2S",
        "outputId": "af879b74-3926-450a-b49f-93e0e8703ff5"
      },
      "execution_count": null,
      "outputs": [
        {
          "output_type": "stream",
          "name": "stdout",
          "text": [
            "Model: \"sequential_4\"\n",
            "_________________________________________________________________\n",
            " Layer (type)                Output Shape              Param #   \n",
            "=================================================================\n",
            " conv2d_8 (Conv2D)           (None, 222, 222, 10)      280       \n",
            "                                                                 \n",
            " conv2d_9 (Conv2D)           (None, 220, 220, 10)      910       \n",
            "                                                                 \n",
            " max_pooling2d_4 (MaxPooling  (None, 110, 110, 10)     0         \n",
            " 2D)                                                             \n",
            "                                                                 \n",
            " conv2d_10 (Conv2D)          (None, 108, 108, 10)      910       \n",
            "                                                                 \n",
            " conv2d_11 (Conv2D)          (None, 106, 106, 10)      910       \n",
            "                                                                 \n",
            " max_pooling2d_5 (MaxPooling  (None, 53, 53, 10)       0         \n",
            " 2D)                                                             \n",
            "                                                                 \n",
            " flatten_2 (Flatten)         (None, 28090)             0         \n",
            "                                                                 \n",
            " dense_6 (Dense)             (None, 4)                 112364    \n",
            "                                                                 \n",
            "=================================================================\n",
            "Total params: 115,374\n",
            "Trainable params: 115,374\n",
            "Non-trainable params: 0\n",
            "_________________________________________________________________\n"
          ]
        }
      ]
    },
    {
      "cell_type": "code",
      "source": [
        "Pixie.compile(loss=\"categorical_crossentropy\",\n",
        "              optimizer=\"adam\",\n",
        "              metrics=\"accuracy\")\n",
        "history_1 = Pixie.fit(train_data,epochs=10,steps_per_epoch=len(train_data),\n",
        "                      validation_data=valid_data,validation_steps=len(valid_data))"
      ],
      "metadata": {
        "colab": {
          "base_uri": "https://localhost:8080/"
        },
        "id": "-2qcOdnjETEi",
        "outputId": "825c85ca-de8c-4434-feb3-9ce918809e32"
      },
      "execution_count": null,
      "outputs": [
        {
          "output_type": "stream",
          "name": "stdout",
          "text": [
            "Epoch 1/10\n",
            "127/127 [==============================] - 12s 90ms/step - loss: 0.4081 - accuracy: 0.8228 - val_loss: 0.1821 - val_accuracy: 0.9221\n",
            "Epoch 2/10\n",
            "127/127 [==============================] - 11s 88ms/step - loss: 0.2035 - accuracy: 0.9141 - val_loss: 0.1529 - val_accuracy: 0.9398\n",
            "Epoch 3/10\n",
            "127/127 [==============================] - 10s 79ms/step - loss: 0.1978 - accuracy: 0.9109 - val_loss: 0.1792 - val_accuracy: 0.9162\n",
            "Epoch 4/10\n",
            "127/127 [==============================] - 10s 79ms/step - loss: 0.1862 - accuracy: 0.9206 - val_loss: 0.1795 - val_accuracy: 0.9231\n",
            "Epoch 5/10\n",
            "127/127 [==============================] - 10s 80ms/step - loss: 0.1807 - accuracy: 0.9262 - val_loss: 0.1354 - val_accuracy: 0.9458\n",
            "Epoch 6/10\n",
            "127/127 [==============================] - 10s 80ms/step - loss: 0.1721 - accuracy: 0.9247 - val_loss: 0.1234 - val_accuracy: 0.9477\n",
            "Epoch 7/10\n",
            "127/127 [==============================] - 10s 79ms/step - loss: 0.1612 - accuracy: 0.9307 - val_loss: 0.1266 - val_accuracy: 0.9408\n",
            "Epoch 8/10\n",
            "127/127 [==============================] - 10s 79ms/step - loss: 0.1625 - accuracy: 0.9317 - val_loss: 0.1308 - val_accuracy: 0.9477\n",
            "Epoch 9/10\n",
            "127/127 [==============================] - 10s 80ms/step - loss: 0.1587 - accuracy: 0.9312 - val_loss: 0.1214 - val_accuracy: 0.9497\n",
            "Epoch 10/10\n",
            "127/127 [==============================] - 11s 88ms/step - loss: 0.1513 - accuracy: 0.9346 - val_loss: 0.1275 - val_accuracy: 0.9458\n"
          ]
        }
      ]
    },
    {
      "cell_type": "markdown",
      "source": [
        "****\n",
        "**As we can see our Pixie is doing great on our data**\n",
        "****"
      ],
      "metadata": {
        "id": "L-_1dMVwURp8"
      }
    },
    {
      "cell_type": "markdown",
      "source": [
        "##predicting image"
      ],
      "metadata": {
        "id": "EcElxS3kmWGb"
      }
    },
    {
      "cell_type": "code",
      "source": [
        "def predict_image(image,Pixie,class_names):\n",
        "  image_data = mpim.imread(image)\n",
        "  image_reshaped = tf.image.resize(image_data,size=(224,224))\n",
        "  pred_prob = Pixie.predict(tf.expand_dims(image_reshaped,axis=0))\n",
        "  # pred_prob = Pixie.predict(image_data)\n",
        "  pred = np.argmax(pred_prob,axis=1)\n",
        "  pred_class = class_names[pred[0]]\n",
        "  \n",
        "  plt.imshow(image_data)\n",
        "  plt.title(f\"prediction : {pred_class} {tf.reduce_max(pred_prob)*100}%\")\n",
        "  plt.axis(False)"
      ],
      "metadata": {
        "id": "GBxRn97XEd76"
      },
      "execution_count": null,
      "outputs": []
    },
    {
      "cell_type": "code",
      "source": [
        "x = X[2000]\n",
        "x"
      ],
      "metadata": {
        "colab": {
          "base_uri": "https://localhost:8080/",
          "height": 36
        },
        "id": "b2Tms0NAKiZr",
        "outputId": "b0a36e4c-eb91-46a1-bb7e-57456f049020"
      },
      "execution_count": null,
      "outputs": [
        {
          "output_type": "execute_result",
          "data": {
            "text/plain": [
              "'/content/drive/MyDrive/Satellite Image/data/cloudy/train_7708.jpg'"
            ],
            "application/vnd.google.colaboratory.intrinsic+json": {
              "type": "string"
            }
          },
          "metadata": {},
          "execution_count": 237
        }
      ]
    },
    {
      "cell_type": "code",
      "source": [
        "predict_image(x,Pixie,class_names)"
      ],
      "metadata": {
        "colab": {
          "base_uri": "https://localhost:8080/",
          "height": 264
        },
        "id": "zF9lzOO9JWdi",
        "outputId": "c16dd59d-f304-416c-ec3f-0e85790f8722"
      },
      "execution_count": null,
      "outputs": [
        {
          "output_type": "display_data",
          "data": {
            "text/plain": [
              "<Figure size 432x288 with 1 Axes>"
            ],
            "image/png": "[encoded data removed]"
          },
          "metadata": {
            "needs_background": "light"
          }
        }
      ]
    },
    {
      "cell_type": "code",
      "source": [
        "img_data = mpim.imread(x)\n",
        "img = tf.image.resize(img_data[:,:,:3],size=(224,224))\n",
        "# print(img)\n",
        "pred = Pixie.predict(tf.expand_dims(img,axis=0))\n",
        "pred_label = np.argmax(pred,axis=1)\n",
        "class_name =class_names[pred_label[0]]\n",
        "plt.imshow(img_data)\n",
        "plt.title(class_name)\n",
        "plt.axis(False);"
      ],
      "metadata": {
        "colab": {
          "base_uri": "https://localhost:8080/",
          "height": 264
        },
        "id": "_aDp7-yeWLi6",
        "outputId": "25843d00-c117-4894-a9b3-a7f0e14683b3"
      },
      "execution_count": null,
      "outputs": [
        {
          "output_type": "display_data",
          "data": {
            "text/plain": [
              "<Figure size 432x288 with 1 Axes>"
            ],
            "image/png": "[encoded data removed]"
          },
          "metadata": {
            "needs_background": "light"
          }
        }
      ]
    },
    {
      "cell_type": "markdown",
      "source": [
        "##Plotting Confusion matrix"
      ],
      "metadata": {
        "id": "ALyj8Dv9MGlS"
      }
    },
    {
      "cell_type": "code",
      "source": [
        "len(y_test)"
      ],
      "metadata": {
        "id": "12kaZyjTSmxn"
      },
      "execution_count": null,
      "outputs": []
    },
    {
      "cell_type": "code",
      "source": [
        "def predicting_for_c_m(Pixie,x_data,y_data=None,test_final_dataset=False):\n",
        "  if not test_final_dataset:\n",
        "    x_test_dataset = tf.data.Dataset.from_tensor_slices((x_data)).map(preprocessing_image).batch(32)\n",
        "  else:\n",
        "    x_test_dataset = tf.data.Dataset.from_tensor_slices((x_data)).map(preprocessing_image).shuffle(True).batch(32)\n",
        "  \n",
        "  pred = Pixie.predict(x_test_dataset)\n",
        "  pred_label = np.argmax(pred,axis=1)\n",
        "  \n",
        "  y_test_one_hot = []\n",
        "  if not test_final_dataset:\n",
        "    for i in range(len(y_test)):\n",
        "      y = y_test[i].astype(int)\n",
        "      y_test_one_hot.append(y)\n",
        "  \n",
        "    df = pd.DataFrame(y_test_one_hot)\n",
        "    y_test_one_hot = df.values\n",
        "  else:\n",
        "    for i in range(len(y_data)):\n",
        "      y = y_test[i].astype(int)\n",
        "      y_test_one_hot.append(y)\n",
        "  \n",
        "    df = pd.DataFrame(y_test_one_hot)\n",
        "    y_test_one_hot = df.values\n",
        "\n",
        "  \n",
        "  from sklearn.metrics import confusion_matrix\n",
        "  import seaborn as sb\n",
        "  c_m = confusion_matrix(np.argmax(y_test_one_hot,axis=1),pred_label)\n",
        " \n",
        "  import matplotlib.pyplot as plt\n",
        "  plt.figure(figsize=(10,7))\n",
        "  sb.heatmap(c_m,annot=True,fmt=\".2f\",xticklabels=[i for i in class_names],yticklabels=[i for i in class_names])"
      ],
      "metadata": {
        "id": "Y7pX-pR8U--L"
      },
      "execution_count": null,
      "outputs": []
    },
    {
      "cell_type": "code",
      "source": [
        "predicting_for_c_m(Pixie,x_test)"
      ],
      "metadata": {
        "colab": {
          "base_uri": "https://localhost:8080/",
          "height": 428
        },
        "id": "6wfGueY9MJeT",
        "outputId": "88388b91-0b18-4af8-a590-275d4ffe17e8"
      },
      "execution_count": null,
      "outputs": [
        {
          "output_type": "display_data",
          "data": {
            "text/plain": [
              "<Figure size 720x504 with 2 Axes>"
            ],
            "image/png": "[encoded data removed]"
          },
          "metadata": {
            "needs_background": "light"
          }
        }
      ]
    },
    {
      "cell_type": "markdown",
      "source": [
        "###Explaining above function"
      ],
      "metadata": {
        "id": "ub17f-cMWwQD"
      }
    },
    {
      "cell_type": "code",
      "source": [
        "x_test_dataset = tf.data.Dataset.from_tensor_slices((x_test)).map(preprocessing_image).batch(32)\n",
        "x_test_dataset"
      ],
      "metadata": {
        "id": "kXWzBR7fZkoz"
      },
      "execution_count": null,
      "outputs": []
    },
    {
      "cell_type": "code",
      "source": [
        "pred = Pixie.predict(x_test_dataset)\n",
        "pred"
      ],
      "metadata": {
        "id": "cS9Vhq2tJdma"
      },
      "execution_count": null,
      "outputs": []
    },
    {
      "cell_type": "code",
      "source": [
        "pred_label = np.argmax(pred,axis=1)\n",
        "pred_label"
      ],
      "metadata": {
        "id": "kZ2eSPVKLoBS"
      },
      "execution_count": null,
      "outputs": []
    },
    {
      "cell_type": "code",
      "source": [
        "y_test_one_hot = []\n",
        "for i in range(len(y_test)):\n",
        "  y = y_test[i].astype(int)\n",
        "  y_test_one_hot.append(y)\n",
        "# y_test_one_hot"
      ],
      "metadata": {
        "id": "i_Q5MExYNKTa"
      },
      "execution_count": null,
      "outputs": []
    },
    {
      "cell_type": "code",
      "source": [
        "df = pd.DataFrame(y_test_one_hot)\n",
        "df.head()"
      ],
      "metadata": {
        "id": "OoXJf4bsNNO5"
      },
      "execution_count": null,
      "outputs": []
    },
    {
      "cell_type": "code",
      "source": [
        "y_test_one_hot = df.values\n",
        "# pred_one_hot = one_hot_pred.values"
      ],
      "metadata": {
        "id": "--ZTYQV1QBeK"
      },
      "execution_count": null,
      "outputs": []
    },
    {
      "cell_type": "code",
      "source": [
        "y_test_one_hot"
      ],
      "metadata": {
        "id": "kAVo6qj8RdOD"
      },
      "execution_count": null,
      "outputs": []
    },
    {
      "cell_type": "code",
      "source": [
        "np.argmax(y_test_one_hot,axis=1)"
      ],
      "metadata": {
        "id": "6tP8D4_4R8Ki"
      },
      "execution_count": null,
      "outputs": []
    },
    {
      "cell_type": "code",
      "source": [
        "from sklearn.metrics import confusion_matrix\n",
        "import seaborn as sb\n",
        "c_m = confusion_matrix(np.argmax(y_test_one_hot,axis=1),pred_label)\n",
        "import matplotlib.pyplot as plt\n",
        "plt.figure(figsize=(10,7))\n",
        "sb.heatmap(c_m,annot=True,fmt=\".2f\",xticklabels=[i for i in class_names],yticklabels=[i for i in class_names])"
      ],
      "metadata": {
        "id": "nYt0XdpjQQfa"
      },
      "execution_count": null,
      "outputs": []
    },
    {
      "cell_type": "markdown",
      "source": [
        "##Mobile Net V2 Pixie"
      ],
      "metadata": {
        "id": "OJD4GLRhM4aM"
      }
    },
    {
      "cell_type": "code",
      "source": [
        "from tensorflow.keras.applications.mobilenet_v2 import MobileNetV2\n",
        "# base_Pixie = MobileNetV2(input_shape=[224,224,3],include_top=False)\n",
        "# Pixie_1 = tf.keras.Sequential()\n",
        "base_Pixie = MobileNetV2(input_shape = [224, 224, 3], weights = 'imagenet', include_top = False)"
      ],
      "metadata": {
        "id": "mOPUlrhvwG3a"
      },
      "execution_count": null,
      "outputs": []
    },
    {
      "cell_type": "code",
      "source": [
        "base_Pixie.trainable = True  \n",
        "\n",
        "for i in base_Pixie.layers[:100]: \n",
        "    base_Pixie.trainable = False\n",
        "    \n",
        "pool = tf.keras.layers.GlobalAveragePooling2D()\n",
        "mid_layer = tf.keras.layers.Dense(100,activation = 'relu')\n",
        "final_1 = tf.keras.layers.Dense(4,activation = 'softmax')\n",
        "\n",
        "Pixie_1 = tf.keras.Sequential([base_Pixie, mid_layer,pool, final_1])\n",
        "Pixie_1.summary()"
      ],
      "metadata": {
        "colab": {
          "base_uri": "https://localhost:8080/"
        },
        "id": "4DACU0dzwIZS",
        "outputId": "6fd9e9ba-c546-4741-d6cf-0814e5971da0"
      },
      "execution_count": null,
      "outputs": [
        {
          "output_type": "stream",
          "name": "stdout",
          "text": [
            "Model: \"sequential_5\"\n",
            "_________________________________________________________________\n",
            " Layer (type)                Output Shape              Param #   \n",
            "=================================================================\n",
            " mobilenetv2_1.00_224 (Funct  (None, 7, 7, 1280)       2257984   \n",
            " ional)                                                          \n",
            "                                                                 \n",
            " dense_7 (Dense)             (None, 7, 7, 100)         128100    \n",
            "                                                                 \n",
            " global_average_pooling2d_2   (None, 100)              0         \n",
            " (GlobalAveragePooling2D)                                        \n",
            "                                                                 \n",
            " dense_8 (Dense)             (None, 4)                 404       \n",
            "                                                                 \n",
            "=================================================================\n",
            "Total params: 2,386,488\n",
            "Trainable params: 128,504\n",
            "Non-trainable params: 2,257,984\n",
            "_________________________________________________________________\n"
          ]
        }
      ]
    },
    {
      "cell_type": "code",
      "source": [
        "Pixie_1.compile(loss = 'categorical_crossentropy',optimizer = 'adam',metrics = 'accuracy')\n",
        "History = Pixie_1.fit(train_data,epochs = 15,steps_per_epoch=len(train_data),validation_data=valid_data,validation_steps=len(valid_data))"
      ],
      "metadata": {
        "colab": {
          "base_uri": "https://localhost:8080/"
        },
        "id": "wkWvRbiowOXq",
        "outputId": "0c11ef9a-5b33-4dc7-b77f-869e2c4bbc12"
      },
      "execution_count": null,
      "outputs": [
        {
          "output_type": "stream",
          "name": "stdout",
          "text": [
            "Epoch 1/15\n",
            "127/127 [==============================] - 14s 89ms/step - loss: 0.0926 - accuracy: 0.9679 - val_loss: 0.0294 - val_accuracy: 0.9911\n",
            "Epoch 2/15\n",
            "127/127 [==============================] - 11s 88ms/step - loss: 0.0202 - accuracy: 0.9933 - val_loss: 0.0288 - val_accuracy: 0.9892\n",
            "Epoch 3/15\n",
            "127/127 [==============================] - 12s 94ms/step - loss: 0.0138 - accuracy: 0.9958 - val_loss: 0.0343 - val_accuracy: 0.9862\n",
            "Epoch 4/15\n",
            "127/127 [==============================] - 11s 86ms/step - loss: 0.0111 - accuracy: 0.9973 - val_loss: 0.0359 - val_accuracy: 0.9872\n",
            "Epoch 5/15\n",
            "127/127 [==============================] - 11s 87ms/step - loss: 0.0094 - accuracy: 0.9978 - val_loss: 0.0366 - val_accuracy: 0.9882\n",
            "Epoch 6/15\n",
            "127/127 [==============================] - 11s 87ms/step - loss: 0.0087 - accuracy: 0.9980 - val_loss: 0.0381 - val_accuracy: 0.9882\n",
            "Epoch 7/15\n",
            "127/127 [==============================] - 11s 86ms/step - loss: 0.0082 - accuracy: 0.9980 - val_loss: 0.0433 - val_accuracy: 0.9872\n",
            "Epoch 8/15\n",
            "127/127 [==============================] - 11s 86ms/step - loss: 0.0081 - accuracy: 0.9980 - val_loss: 0.0414 - val_accuracy: 0.9882\n",
            "Epoch 9/15\n",
            "127/127 [==============================] - 11s 86ms/step - loss: 0.0083 - accuracy: 0.9985 - val_loss: 0.0404 - val_accuracy: 0.9882\n",
            "Epoch 10/15\n",
            "127/127 [==============================] - 11s 86ms/step - loss: 0.0076 - accuracy: 0.9980 - val_loss: 0.0405 - val_accuracy: 0.9882\n",
            "Epoch 11/15\n",
            "127/127 [==============================] - 12s 95ms/step - loss: 0.0053 - accuracy: 0.9985 - val_loss: 0.0617 - val_accuracy: 0.9862\n",
            "Epoch 12/15\n",
            "127/127 [==============================] - 11s 87ms/step - loss: 0.0073 - accuracy: 0.9983 - val_loss: 0.0802 - val_accuracy: 0.9803\n",
            "Epoch 13/15\n",
            "127/127 [==============================] - 11s 87ms/step - loss: 0.0038 - accuracy: 0.9990 - val_loss: 0.0747 - val_accuracy: 0.9822\n",
            "Epoch 14/15\n",
            "127/127 [==============================] - 11s 86ms/step - loss: 0.0029 - accuracy: 0.9993 - val_loss: 0.0295 - val_accuracy: 0.9892\n",
            "Epoch 15/15\n",
            "127/127 [==============================] - 11s 85ms/step - loss: 0.0028 - accuracy: 0.9985 - val_loss: 0.0469 - val_accuracy: 0.9872\n"
          ]
        }
      ]
    },
    {
      "cell_type": "markdown",
      "source": [
        "##Checking on the testing data "
      ],
      "metadata": {
        "id": "wOP1ijO9RbJC"
      }
    },
    {
      "cell_type": "code",
      "source": [
        "desert_dir = make_directory(class_names[1],desert_test)\n",
        "cloudy_dir = make_directory(class_names[0],cloudy_test)\n",
        "green_area_dir = make_directory(class_names[2],green_area_test)\n",
        "water_dir = make_directory(class_names[3],water_test)"
      ],
      "metadata": {
        "id": "6oa3eF1xTMPz"
      },
      "execution_count": null,
      "outputs": []
    },
    {
      "cell_type": "code",
      "source": [
        "cloudy_df = create_dataframe(class_names[0],cloudy_dir)\n",
        "desert_df = create_dataframe(class_names[1],desert_dir)\n",
        "green_area_df = create_dataframe(class_names[2],green_area_dir)\n",
        "water_df = create_dataframe(class_names[3],water_dir)"
      ],
      "metadata": {
        "id": "Y8NNATiNY0Ss"
      },
      "execution_count": null,
      "outputs": []
    },
    {
      "cell_type": "code",
      "source": [
        "cloudy_vs_desert_df = desert_df.append(cloudy_df)\n",
        "green_area_vs_water_df = green_area_df.append(water_df)\n",
        "full_multiclass_df = cloudy_vs_desert_df.append(green_area_vs_water_df)"
      ],
      "metadata": {
        "id": "9cpYCUcbY4tx"
      },
      "execution_count": null,
      "outputs": []
    },
    {
      "cell_type": "code",
      "source": [
        "index_num = []\n",
        "for index_val,data in enumerate(full_multiclass_df.dir):\n",
        "  index_num.append(index_val)"
      ],
      "metadata": {
        "id": "f2j9iSqaZD_i"
      },
      "execution_count": null,
      "outputs": []
    },
    {
      "cell_type": "code",
      "source": [
        "full_multiclass_df = cloudy_vs_desert_df.append(green_area_vs_water_df,ignore_index=True)\n",
        "full_multiclass_df = pd.DataFrame(full_multiclass_df,index=index_num)\n",
        "# full_multiclass_df"
      ],
      "metadata": {
        "id": "HwwiPAdOZGVh"
      },
      "execution_count": null,
      "outputs": []
    },
    {
      "cell_type": "code",
      "source": [
        "labels = full_multiclass_df.classes.to_numpy()\n",
        "# labels"
      ],
      "metadata": {
        "id": "R4yrTdJuZIXd"
      },
      "execution_count": null,
      "outputs": []
    },
    {
      "cell_type": "code",
      "source": [
        "unique_labels = np.unique(labels)\n",
        "unique_labels"
      ],
      "metadata": {
        "id": "1p45A42fZOEy",
        "colab": {
          "base_uri": "https://localhost:8080/"
        },
        "outputId": "8acf1736-1cdc-4afc-d0ac-df3b90305b20"
      },
      "execution_count": null,
      "outputs": [
        {
          "output_type": "execute_result",
          "data": {
            "text/plain": [
              "array(['cloudy', 'desert', 'green_area', 'water'], dtype=object)"
            ]
          },
          "metadata": {},
          "execution_count": 272
        }
      ]
    },
    {
      "cell_type": "code",
      "source": [
        "boolean_labels = [label==unique_labels for label in labels]\n",
        "len(boolean_labels)"
      ],
      "metadata": {
        "id": "1eqzeoESZTD0",
        "colab": {
          "base_uri": "https://localhost:8080/"
        },
        "outputId": "0e3b8efc-4831-4f44-f8d6-bc61097bf2d5"
      },
      "execution_count": null,
      "outputs": [
        {
          "output_type": "execute_result",
          "data": {
            "text/plain": [
              "564"
            ]
          },
          "metadata": {},
          "execution_count": 273
        }
      ]
    },
    {
      "cell_type": "code",
      "source": [
        "dir_list = full_multiclass_df.dir\n",
        "X = [x for x in dir_list]\n",
        "len(X)"
      ],
      "metadata": {
        "id": "CeE2PQNuZTcC",
        "colab": {
          "base_uri": "https://localhost:8080/"
        },
        "outputId": "e55f7dea-8d78-44ad-eb01-26a3e7fb368c"
      },
      "execution_count": null,
      "outputs": [
        {
          "output_type": "execute_result",
          "data": {
            "text/plain": [
              "564"
            ]
          },
          "metadata": {},
          "execution_count": 274
        }
      ]
    },
    {
      "cell_type": "code",
      "source": [
        "Y = boolean_labels\n",
        "len(Y)"
      ],
      "metadata": {
        "id": "NosRuHARbgoa",
        "colab": {
          "base_uri": "https://localhost:8080/"
        },
        "outputId": "4d1545c6-ab9a-4495-c63c-0642fc6e5ac0"
      },
      "execution_count": null,
      "outputs": [
        {
          "output_type": "execute_result",
          "data": {
            "text/plain": [
              "564"
            ]
          },
          "metadata": {},
          "execution_count": 275
        }
      ]
    },
    {
      "cell_type": "markdown",
      "source": [
        "##Predicting images "
      ],
      "metadata": {
        "id": "sCIDfPoRlPVU"
      }
    },
    {
      "cell_type": "code",
      "source": [
        "len(X)"
      ],
      "metadata": {
        "id": "r6PJg4KxlmHq",
        "colab": {
          "base_uri": "https://localhost:8080/"
        },
        "outputId": "efa816af-568f-413a-aace-b1beb94501a8"
      },
      "execution_count": null,
      "outputs": [
        {
          "output_type": "execute_result",
          "data": {
            "text/plain": [
              "564"
            ]
          },
          "metadata": {},
          "execution_count": 276
        }
      ]
    },
    {
      "cell_type": "code",
      "source": [
        "x = X[333]\n",
        "x"
      ],
      "metadata": {
        "id": "DCBQChrslXhD",
        "colab": {
          "base_uri": "https://localhost:8080/",
          "height": 36
        },
        "outputId": "ed9505f3-bce7-49ca-b64b-ef6268c806af"
      },
      "execution_count": null,
      "outputs": [
        {
          "output_type": "execute_result",
          "data": {
            "text/plain": [
              "'/content/drive/MyDrive/Satellite Image/data/green_area/Forest_2810.jpg'"
            ],
            "application/vnd.google.colaboratory.intrinsic+json": {
              "type": "string"
            }
          },
          "metadata": {},
          "execution_count": 277
        }
      ]
    },
    {
      "cell_type": "code",
      "source": [
        "img_data = mpim.imread(x)\n",
        "img = tf.image.resize(img_data[:,:,:3],size=(224,224))\n",
        "# print(img)\n",
        "pred = Pixie_1.predict(tf.expand_dims(img,axis=0))\n",
        "pred_label = np.argmax(pred,axis=1)\n",
        "class_name =class_names[pred_label[0]]\n",
        "plt.imshow(img_data)\n",
        "plt.title(class_name)\n",
        "plt.axis(False);"
      ],
      "metadata": {
        "id": "HnMOJH7umgyc",
        "colab": {
          "base_uri": "https://localhost:8080/",
          "height": 264
        },
        "outputId": "4770975a-2ef3-4c1e-8553-a97b0b74fc46"
      },
      "execution_count": null,
      "outputs": [
        {
          "output_type": "display_data",
          "data": {
            "text/plain": [
              "<Figure size 432x288 with 1 Axes>"
            ],
            "image/png": "[encoded data removed]"
          },
          "metadata": {
            "needs_background": "light"
          }
        }
      ]
    },
    {
      "cell_type": "code",
      "source": [
        "# predict_image(x,Pixie,class_names)"
      ],
      "metadata": {
        "id": "X6lWjOyMlTly"
      },
      "execution_count": null,
      "outputs": []
    },
    {
      "cell_type": "markdown",
      "source": [
        "##ConfusionMatrix"
      ],
      "metadata": {
        "id": "jtUtXTDPjvDE"
      }
    },
    {
      "cell_type": "code",
      "source": [
        "test_final_dataset = True\n",
        "x_data = X\n",
        "y_test = Y\n",
        "if not test_final_dataset:\n",
        "  x_test_dataset = tf.data.Dataset.from_tensor_slices((x_data)).map(preprocessing_image).batch(32)\n",
        "else:\n",
        "  x_test_dataset = tf.data.Dataset.from_tensor_slices((x_data)).map(preprocessing_image).shuffle(True).batch(32)\n",
        "  \n",
        "pred = Pixie_1.predict(x_test_dataset)\n",
        "pred_label = np.argmax(pred,axis=1)\n",
        "  \n",
        "y_test_one_hot = []\n",
        "if not test_final_dataset:\n",
        "  for i in range(len(y_test)):\n",
        "    y = y_test[i].astype(int)\n",
        "    y_test_one_hot.append(y)\n",
        "  \n",
        "  df = pd.DataFrame(y_test_one_hot)\n",
        "  y_test_one_hot = df.values\n",
        "else:\n",
        "  for i in range(len(y_test)):\n",
        "   y = y_test[i].astype(int)\n",
        "   y_test_one_hot.append(y)\n",
        "  \n",
        "  df = pd.DataFrame(y_test_one_hot)\n",
        "  y_test_one_hot = df.values\n",
        "\n",
        "  \n",
        "from sklearn.metrics import confusion_matrix\n",
        "import seaborn as sb\n",
        "c_m = confusion_matrix(np.argmax(y_test_one_hot,axis=1),pred_label)\n",
        " \n",
        "import matplotlib.pyplot as plt\n",
        "plt.figure(figsize=(10,7))\n",
        "sb.heatmap(c_m,annot=True,fmt=\".2f\",xticklabels=[i for i in class_names],yticklabels=[i for i in class_names])"
      ],
      "metadata": {
        "id": "MRIaEI-gRc8X",
        "colab": {
          "base_uri": "https://localhost:8080/",
          "height": 446
        },
        "outputId": "337f99cd-6b5a-4bb9-88a5-30c63dc3eb65"
      },
      "execution_count": null,
      "outputs": [
        {
          "output_type": "execute_result",
          "data": {
            "text/plain": [
              "<matplotlib.axes._subplots.AxesSubplot at 0x7f47bb2b2fd0>"
            ]
          },
          "metadata": {},
          "execution_count": 279
        },
        {
          "output_type": "display_data",
          "data": {
            "text/plain": [
              "<Figure size 720x504 with 2 Axes>"
            ],
            "image/png": "[encoded data removed]"
          },
          "metadata": {
            "needs_background": "light"
          }
        }
      ]
    },
    {
      "cell_type": "markdown",
      "source": [
        "###Our Dense Pixie Confusion Matrix"
      ],
      "metadata": {
        "id": "EkAbVtsdotwA"
      }
    },
    {
      "cell_type": "code",
      "source": [
        "x_test_dataset = tf.data.Dataset.from_tensor_slices((x_train)).map(preprocessing_image).shuffle(True).batch(32)\n",
        "  \n",
        "pred = Pixie.predict(x_test_dataset)\n",
        "pred_label = np.argmax(pred,axis=1)\n",
        "y_test_one_hot = []\n",
        "for i in range(len(y_train)):\n",
        "    y = y_train[i].astype(int)\n",
        "    y_test_one_hot.append(y)\n",
        "  \n",
        "df = pd.DataFrame(y_test_one_hot)\n",
        "y_test_one_hot = df.values\n",
        "\n",
        "  \n",
        "from sklearn.metrics import confusion_matrix\n",
        "import seaborn as sb\n",
        "c_m = confusion_matrix(np.argmax(y_test_one_hot,axis=1),pred_label)\n",
        " \n",
        "import matplotlib.pyplot as plt\n",
        "plt.figure(figsize=(10,7))\n",
        "sb.heatmap(c_m,annot=True,fmt=\".2f\",xticklabels=[i for i in class_names],yticklabels=[i for i in class_names])"
      ],
      "metadata": {
        "id": "Y9Ev3o0OcPjv",
        "colab": {
          "base_uri": "https://localhost:8080/",
          "height": 446
        },
        "outputId": "71c9f773-30bb-4566-acfe-5111434e85ea"
      },
      "execution_count": null,
      "outputs": [
        {
          "output_type": "execute_result",
          "data": {
            "text/plain": [
              "<matplotlib.axes._subplots.AxesSubplot at 0x7f47c8236f90>"
            ]
          },
          "metadata": {},
          "execution_count": 280
        },
        {
          "output_type": "display_data",
          "data": {
            "text/plain": [
              "<Figure size 720x504 with 2 Axes>"
            ],
            "image/png": "[encoded data removed]"
          },
          "metadata": {
            "needs_background": "light"
          }
        }
      ]
    },
    {
      "cell_type": "code",
      "source": [
        ""
      ],
      "metadata": {
        "id": "1bw7rnIQLtja"
      },
      "execution_count": null,
      "outputs": []
    }
  ]
}